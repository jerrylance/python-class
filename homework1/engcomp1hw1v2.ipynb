{
 "cells": [
  {
   "cell_type": "markdown",
   "metadata": {
    "deletable": false,
    "editable": false,
    "nbgrader": {
     "checksum": "85b6cee7c5cafc9eecf39c4ac85723be",
     "grade": false,
     "grade_id": "cell-ff424bc5d7f5649f",
     "locked": true,
     "schema_version": 1,
     "solution": false
    }
   },
   "source": [
    "Before you turn in this homework, make sure everything runs as expected. First, **restart the kernel** (in the menubar, select Kernel$\\rightarrow$Restart) and then **run all cells** (in the menubar, select Cell$\\rightarrow$Run All).\n",
    "\n",
    "Make sure you execute every single code cell, in order, filling with your solutions in any place that says `YOUR CODE HERE`, and always DELETE the line that says:\n",
    "\n",
    "```python\n",
    "raise NotImplementedError()\n",
    "```\n",
    "The purpose of this line is to tell you if you forgot to answer a question (it will throw an error if the line is there)\n",
    "\n",
    "**IMPORTANT**: DO NOT DELETE ANY CELL.\n",
    "\n",
    "Fill your name below:"
   ]
  },
  {
   "cell_type": "code",
   "execution_count": 1,
   "metadata": {},
   "outputs": [],
   "source": [
    "NAME = \"Zeyu Liu\""
   ]
  },
  {
   "cell_type": "markdown",
   "metadata": {
    "deletable": false,
    "editable": false,
    "nbgrader": {
     "checksum": "6685062a2b798fd71ddddb6cea9ecdfb",
     "grade": false,
     "grade_id": "cell-381eb190c03bd854",
     "locked": true,
     "schema_version": 1,
     "solution": false
    }
   },
   "source": [
    "## Exercise 1"
   ]
  },
  {
   "cell_type": "markdown",
   "metadata": {
    "deletable": false,
    "editable": false,
    "nbgrader": {
     "checksum": "48e35d41f2fb26ef6f363cde14dd8c78",
     "grade": false,
     "grade_id": "cell-d6fe216fcd0708d8",
     "locked": true,
     "schema_version": 1,
     "solution": false
    }
   },
   "source": [
    "Accessing values of a string. Given the string named `my_string`:"
   ]
  },
  {
   "cell_type": "code",
   "execution_count": 2,
   "metadata": {},
   "outputs": [],
   "source": [
    "my_string = 'This is a string'"
   ]
  },
  {
   "cell_type": "markdown",
   "metadata": {
    "deletable": false,
    "editable": false,
    "nbgrader": {
     "checksum": "7c96e1bbbe6449fe7cac7a9f8528303c",
     "grade": false,
     "grade_id": "cell-f358a51e4d59563c",
     "locked": true,
     "schema_version": 1,
     "solution": false
    }
   },
   "source": [
    "**a)** Access the first element of `my_string`, assign it to a variable named `first_element` and print it."
   ]
  },
  {
   "cell_type": "code",
   "execution_count": 3,
   "metadata": {
    "deletable": false,
    "nbgrader": {
     "checksum": "d8d25d27ab0353c2b0fd5c4c0f859227",
     "grade": false,
     "grade_id": "cell-29fea3691be409f9",
     "locked": false,
     "schema_version": 1,
     "solution": true
    }
   },
   "outputs": [
    {
     "name": "stdout",
     "output_type": "stream",
     "text": [
      "T\n"
     ]
    }
   ],
   "source": [
    "# YOUR CODE HERE\n",
    "first_element = my_string[0]\n",
    "print(first_element)"
   ]
  },
  {
   "cell_type": "code",
   "execution_count": null,
   "metadata": {
    "deletable": false,
    "editable": false,
    "nbgrader": {
     "checksum": "f620a0645bdabc52b5f047108143365a",
     "grade": true,
     "grade_id": "1-a",
     "locked": true,
     "points": 10,
     "schema_version": 1,
     "solution": false
    }
   },
   "outputs": [],
   "source": []
  },
  {
   "cell_type": "markdown",
   "metadata": {
    "deletable": false,
    "editable": false,
    "nbgrader": {
     "checksum": "d056b1c27c3fd6eb7a884f8d61b58a67",
     "grade": false,
     "grade_id": "cell-9129a9f84e5c4bdd",
     "locked": true,
     "schema_version": 1,
     "solution": false
    }
   },
   "source": [
    "**b)** Access the element `'a'` of `my_string` and assign it to a variable named `letter_a` and print it."
   ]
  },
  {
   "cell_type": "code",
   "execution_count": 4,
   "metadata": {
    "deletable": false,
    "nbgrader": {
     "checksum": "95b33f3652c5e8ddf793d06f2fcb2d60",
     "grade": false,
     "grade_id": "cell-5ed15844de529fa2",
     "locked": false,
     "schema_version": 1,
     "solution": true
    }
   },
   "outputs": [
    {
     "name": "stdout",
     "output_type": "stream",
     "text": [
      "a\n"
     ]
    }
   ],
   "source": [
    "# YOUR CODE HERE\n",
    "letter_a = my_string[my_string.index('a')]\n",
    "print(letter_a)"
   ]
  },
  {
   "cell_type": "code",
   "execution_count": null,
   "metadata": {
    "deletable": false,
    "editable": false,
    "nbgrader": {
     "checksum": "6a7553049459c62432902d630ef2f2b2",
     "grade": true,
     "grade_id": "1-b",
     "locked": true,
     "points": 10,
     "schema_version": 1,
     "solution": false
    }
   },
   "outputs": [],
   "source": []
  },
  {
   "cell_type": "markdown",
   "metadata": {
    "deletable": false,
    "editable": false,
    "nbgrader": {
     "checksum": "7a40e22444b043bb6cf59b8b00adfc68",
     "grade": false,
     "grade_id": "cell-b8f2adbfeabbc0ec",
     "locked": true,
     "schema_version": 1,
     "solution": false
    }
   },
   "source": [
    "**c)** Access the element `'g'` of `my_string` and assign it to a variable named `letter_g` and print it."
   ]
  },
  {
   "cell_type": "code",
   "execution_count": 5,
   "metadata": {
    "deletable": false,
    "nbgrader": {
     "checksum": "8b964e5ca8ece180f7822e5868fa509c",
     "grade": false,
     "grade_id": "cell-c26c563a06e56e66",
     "locked": false,
     "schema_version": 1,
     "solution": true
    }
   },
   "outputs": [
    {
     "name": "stdout",
     "output_type": "stream",
     "text": [
      "g\n"
     ]
    }
   ],
   "source": [
    "# YOUR CODE HERE\n",
    "# YOUR CODE HERE\n",
    "letter_g = my_string[my_string.index('g')]\n",
    "print(letter_g)"
   ]
  },
  {
   "cell_type": "code",
   "execution_count": null,
   "metadata": {
    "deletable": false,
    "editable": false,
    "nbgrader": {
     "checksum": "d80ce1a960d1439c731a45e4eeec8d17",
     "grade": true,
     "grade_id": "1-c",
     "locked": true,
     "points": 10,
     "schema_version": 1,
     "solution": false
    }
   },
   "outputs": [],
   "source": []
  },
  {
   "cell_type": "markdown",
   "metadata": {
    "deletable": false,
    "editable": false,
    "nbgrader": {
     "checksum": "b3ca3527fd1f94dde569a93c1e1dbe9c",
     "grade": false,
     "grade_id": "cell-d53eb82fd113136f",
     "locked": true,
     "schema_version": 1,
     "solution": false
    }
   },
   "source": [
    "## Exercise 2"
   ]
  },
  {
   "cell_type": "markdown",
   "metadata": {
    "deletable": false,
    "editable": false,
    "nbgrader": {
     "checksum": "a2c6741f839e9930ce68b37bc4dd723e",
     "grade": false,
     "grade_id": "cell-571b9b8425c5aab8",
     "locked": true,
     "schema_version": 1,
     "solution": false
    }
   },
   "source": [
    "Slicing a string. Given the string named `the_string` and using slicing:"
   ]
  },
  {
   "cell_type": "code",
   "execution_count": 6,
   "metadata": {},
   "outputs": [],
   "source": [
    "the_string = 'StringWithNoSpaces'"
   ]
  },
  {
   "cell_type": "markdown",
   "metadata": {
    "deletable": false,
    "editable": false,
    "nbgrader": {
     "checksum": "13c19db2351809b4db85a06c81dffa43",
     "grade": false,
     "grade_id": "cell-04950e7ddf6efcc1",
     "locked": true,
     "schema_version": 1,
     "solution": false
    }
   },
   "source": [
    "**a)** Grab the word `'String'` from `the_string`, assign it to a variable named `string_word` and print it."
   ]
  },
  {
   "cell_type": "code",
   "execution_count": 7,
   "metadata": {
    "deletable": false,
    "nbgrader": {
     "checksum": "bf1cc5c3f1cd92ac065c932eb3a55f2e",
     "grade": false,
     "grade_id": "cell-ce771a5ded4f8239",
     "locked": false,
     "schema_version": 1,
     "solution": true
    }
   },
   "outputs": [
    {
     "name": "stdout",
     "output_type": "stream",
     "text": [
      "String\n"
     ]
    }
   ],
   "source": [
    "# YOUR CODE HERE\n",
    "string_word = the_string[the_string.find('String'): the_string.find('String')+len(\"String\")]\n",
    "print(string_word)"
   ]
  },
  {
   "cell_type": "code",
   "execution_count": null,
   "metadata": {
    "deletable": false,
    "editable": false,
    "nbgrader": {
     "checksum": "d66fa6b736db31c6fe5653770c1dc516",
     "grade": true,
     "grade_id": "2-a",
     "locked": true,
     "points": 10,
     "schema_version": 1,
     "solution": false
    }
   },
   "outputs": [],
   "source": []
  },
  {
   "cell_type": "markdown",
   "metadata": {
    "deletable": false,
    "editable": false,
    "nbgrader": {
     "checksum": "29ee695b5c7a208647bdd361be90d656",
     "grade": false,
     "grade_id": "cell-9eb90591a8a88079",
     "locked": true,
     "schema_version": 1,
     "solution": false
    }
   },
   "source": [
    "**b)** Grab the word `'With'` from `the_string`, assign it to a variable named `with_word` and print it."
   ]
  },
  {
   "cell_type": "code",
   "execution_count": 8,
   "metadata": {
    "deletable": false,
    "nbgrader": {
     "checksum": "e4a30118bd5f24c501cc5d0327a9139c",
     "grade": false,
     "grade_id": "cell-62c6bdabbe8ca463",
     "locked": false,
     "schema_version": 1,
     "solution": true
    }
   },
   "outputs": [
    {
     "name": "stdout",
     "output_type": "stream",
     "text": [
      "With\n"
     ]
    }
   ],
   "source": [
    "# YOUR CODE HERE\n",
    "with_word = the_string[the_string.find('With'): the_string.find('With')+len(\"With\")]\n",
    "print(with_word)"
   ]
  },
  {
   "cell_type": "code",
   "execution_count": null,
   "metadata": {
    "deletable": false,
    "editable": false,
    "nbgrader": {
     "checksum": "fc5e22f311d6bfd64e024d25089de551",
     "grade": true,
     "grade_id": "2-b",
     "locked": true,
     "points": 10,
     "schema_version": 1,
     "solution": false
    }
   },
   "outputs": [],
   "source": []
  },
  {
   "cell_type": "markdown",
   "metadata": {
    "deletable": false,
    "editable": false,
    "nbgrader": {
     "checksum": "01ddeab50a196597c08508fe41e446b1",
     "grade": false,
     "grade_id": "cell-8879969e5aea2adc",
     "locked": true,
     "schema_version": 1,
     "solution": false
    }
   },
   "source": [
    "**c)** Grab the word `'No'` from `the_string`, assign it to a variable named `no_word` and print it."
   ]
  },
  {
   "cell_type": "code",
   "execution_count": 9,
   "metadata": {
    "deletable": false,
    "nbgrader": {
     "checksum": "f7935f6d99616273aefe518906e42d66",
     "grade": false,
     "grade_id": "cell-bd021f92b748e38f",
     "locked": false,
     "schema_version": 1,
     "solution": true
    }
   },
   "outputs": [
    {
     "name": "stdout",
     "output_type": "stream",
     "text": [
      "No\n"
     ]
    }
   ],
   "source": [
    "# YOUR CODE HERE\n",
    "no_word = the_string[the_string.find('No'): the_string.find('No')+len(\"No\")]\n",
    "print(no_word)"
   ]
  },
  {
   "cell_type": "code",
   "execution_count": null,
   "metadata": {
    "deletable": false,
    "editable": false,
    "nbgrader": {
     "checksum": "af7aa4045d5482e3807c093b011665dc",
     "grade": true,
     "grade_id": "2-c",
     "locked": true,
     "points": 10,
     "schema_version": 1,
     "solution": false
    }
   },
   "outputs": [],
   "source": []
  },
  {
   "cell_type": "markdown",
   "metadata": {
    "deletable": false,
    "editable": false,
    "nbgrader": {
     "checksum": "e13c4d6a3b3ec39304fdb3b3e16da861",
     "grade": false,
     "grade_id": "cell-18cfbe651dda51d1",
     "locked": true,
     "schema_version": 1,
     "solution": false
    }
   },
   "source": [
    "**d)** Grab the word `'Spaces'` from `the_string`, assign it to a variable named `spaces_word` and print it."
   ]
  },
  {
   "cell_type": "code",
   "execution_count": 10,
   "metadata": {
    "deletable": false,
    "nbgrader": {
     "checksum": "5fd253be4d2ddae628932ec85cc0f653",
     "grade": false,
     "grade_id": "cell-aedabc7fa471f740",
     "locked": false,
     "schema_version": 1,
     "solution": true
    }
   },
   "outputs": [
    {
     "name": "stdout",
     "output_type": "stream",
     "text": [
      "Spaces\n"
     ]
    }
   ],
   "source": [
    "# YOUR CODE HERE\n",
    "spaces_word = the_string[the_string.find('Spaces'): the_string.find('Spaces')+len(\"Spaces\")]\n",
    "print(spaces_word)"
   ]
  },
  {
   "cell_type": "code",
   "execution_count": null,
   "metadata": {
    "deletable": false,
    "editable": false,
    "nbgrader": {
     "checksum": "028f5bc7af500e118ebef7eb5cc9c726",
     "grade": true,
     "grade_id": "2-d",
     "locked": true,
     "points": 10,
     "schema_version": 1,
     "solution": false
    }
   },
   "outputs": [],
   "source": []
  },
  {
   "cell_type": "markdown",
   "metadata": {
    "deletable": false,
    "editable": false,
    "nbgrader": {
     "checksum": "6d579b3298247ee5f9ec8cc3005225f3",
     "grade": false,
     "grade_id": "cell-2ab7735f04c9a295",
     "locked": true,
     "schema_version": 1,
     "solution": false
    }
   },
   "source": [
    "## Exercise 3\n",
    "\n",
    "Given the string named `rick_phrase`:"
   ]
  },
  {
   "cell_type": "code",
   "execution_count": 11,
   "metadata": {},
   "outputs": [],
   "source": [
    "rick_phrase = 'Rick: It’s a figure of speech, Morty. They’re bureaucrats. I don’t respect them.'"
   ]
  },
  {
   "cell_type": "markdown",
   "metadata": {
    "deletable": false,
    "editable": false,
    "nbgrader": {
     "checksum": "67aa06dcefef52e502a4e8f5c751f968",
     "grade": false,
     "grade_id": "cell-8341de05b76313a2",
     "locked": true,
     "schema_version": 1,
     "solution": false
    }
   },
   "source": [
    "**a)** Using slicing, grab the word `'Rick'` from `rick_phrase`, assign it to a variable named `name` and print it. "
   ]
  },
  {
   "cell_type": "code",
   "execution_count": 12,
   "metadata": {
    "deletable": false,
    "nbgrader": {
     "checksum": "14d253042b0a9e8bf51e2a97bbd45d1f",
     "grade": false,
     "grade_id": "cell-3c4877cd892cfac6",
     "locked": false,
     "schema_version": 1,
     "solution": true
    }
   },
   "outputs": [
    {
     "name": "stdout",
     "output_type": "stream",
     "text": [
      "Rick\n"
     ]
    }
   ],
   "source": [
    "# YOUR CODE HERE\n",
    "name = rick_phrase[rick_phrase.find('Rick'): rick_phrase.find('Rick')+len(\"Rick\")]\n",
    "print(name)"
   ]
  },
  {
   "cell_type": "code",
   "execution_count": null,
   "metadata": {
    "deletable": false,
    "editable": false,
    "nbgrader": {
     "checksum": "add680b4e43ec0e400c186fa68e12990",
     "grade": true,
     "grade_id": "3-a",
     "locked": true,
     "points": 10,
     "schema_version": 1,
     "solution": false
    }
   },
   "outputs": [],
   "source": []
  },
  {
   "cell_type": "markdown",
   "metadata": {
    "deletable": false,
    "editable": false,
    "nbgrader": {
     "checksum": "e96b1d9ad66fb9d7618278e0d034cbfb",
     "grade": false,
     "grade_id": "cell-8459835ac0f1c5b6",
     "locked": true,
     "schema_version": 1,
     "solution": false
    }
   },
   "source": [
    "**b)** Access the last element of the string `rick_phrase`, assign it to a variable named `last_el` and print it.\n"
   ]
  },
  {
   "cell_type": "code",
   "execution_count": 13,
   "metadata": {
    "deletable": false,
    "nbgrader": {
     "checksum": "5b45fe6547da62989ecc1f7c2bb15959",
     "grade": false,
     "grade_id": "cell-d90324f5a9ddf95c",
     "locked": false,
     "schema_version": 1,
     "solution": true
    }
   },
   "outputs": [
    {
     "name": "stdout",
     "output_type": "stream",
     "text": [
      ".\n"
     ]
    }
   ],
   "source": [
    "# YOUR CODE HERE\n",
    "last_el = rick_phrase[-1]\n",
    "print(last_el)"
   ]
  },
  {
   "cell_type": "code",
   "execution_count": null,
   "metadata": {
    "deletable": false,
    "editable": false,
    "nbgrader": {
     "checksum": "2530bb20778d9492f54ec60080cfa3ba",
     "grade": true,
     "grade_id": "3-b",
     "locked": true,
     "points": 10,
     "schema_version": 1,
     "solution": false
    }
   },
   "outputs": [],
   "source": []
  },
  {
   "cell_type": "markdown",
   "metadata": {
    "deletable": false,
    "editable": false,
    "nbgrader": {
     "checksum": "c077b534aaf841b4868cbae2f59adac9",
     "grade": false,
     "grade_id": "cell-fc77934912aed79d",
     "locked": true,
     "schema_version": 1,
     "solution": false
    }
   },
   "source": [
    "**c)** Concatenate `name` (created in a)) and `last_el` (created in b)), assign it to a variable named `concat` and print it."
   ]
  },
  {
   "cell_type": "code",
   "execution_count": 14,
   "metadata": {
    "deletable": false,
    "nbgrader": {
     "checksum": "cddc15c73e399991aaa71e942c60b126",
     "grade": false,
     "grade_id": "cell-d23a3aa147a855a6",
     "locked": false,
     "schema_version": 1,
     "solution": true
    }
   },
   "outputs": [
    {
     "name": "stdout",
     "output_type": "stream",
     "text": [
      "Rick.\n"
     ]
    }
   ],
   "source": [
    "# YOUR CODE HERE\n",
    "concat = name + last_el\n",
    "print(concat)"
   ]
  },
  {
   "cell_type": "code",
   "execution_count": null,
   "metadata": {
    "deletable": false,
    "editable": false,
    "nbgrader": {
     "checksum": "d2bda1eb6a67b57b08b6c98caca22c80",
     "grade": true,
     "grade_id": "3-c",
     "locked": true,
     "points": 10,
     "schema_version": 1,
     "solution": false
    }
   },
   "outputs": [],
   "source": []
  },
  {
   "cell_type": "markdown",
   "metadata": {
    "deletable": false,
    "editable": false,
    "nbgrader": {
     "checksum": "95aacdd5fb8061a00bd2db371062caf0",
     "grade": false,
     "grade_id": "cell-4559d019f7100883",
     "locked": true,
     "schema_version": 1,
     "solution": false
    }
   },
   "source": [
    "## Remember!!\n",
    "\n",
    "Before you turn this problem in, make sure everything runs as expected. First, restart the kernel (in the menubar, select Kernel→→Restart) and then run all cells (in the menubar, select Cell→→Run All).\n",
    "\n",
    "Make sure you filled in any place that says YOUR CODE HERE or \"YOUR ANSWER HERE\", as well as your name at the beggining of the notebook.\n"
   ]
  }
 ],
 "metadata": {
  "kernelspec": {
   "display_name": "Python 3",
   "language": "python",
   "name": "python3"
  },
  "language_info": {
   "codemirror_mode": {
    "name": "ipython",
    "version": 3
   },
   "file_extension": ".py",
   "mimetype": "text/x-python",
   "name": "python",
   "nbconvert_exporter": "python",
   "pygments_lexer": "ipython3",
   "version": "3.7.3"
  }
 },
 "nbformat": 4,
 "nbformat_minor": 2
}
