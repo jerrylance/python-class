{
 "cells": [
  {
   "cell_type": "markdown",
   "metadata": {
    "deletable": false,
    "editable": false,
    "nbgrader": {
     "checksum": "1f2f12e81a75edffee9978bc6eb2c99b",
     "grade": false,
     "grade_id": "cell-6050c3d50b862080",
     "locked": true,
     "schema_version": 1,
     "solution": false
    }
   },
   "source": [
    "Before you turn in this homework, make sure everything runs as expected. First, **restart the kernel** (in the menubar, select Kernel$\\rightarrow$Restart) and then **run all cells** (in the menubar, select Cell$\\rightarrow$Run All).\n",
    "\n",
    "Make sure you execute every single code cell, in order, filling with your solutions in any place that says `YOUR CODE HERE`, and always DELETE the line that says:\n",
    "\n",
    "```python\n",
    "raise NotImplementedError()\n",
    "```\n",
    "The purpose of this line is to tell you if you forgot to answer a question (it will throw an error if the line is there)\n",
    "\n",
    "**IMPORTANT**: DO NOT DELETE ANY CELL.\n",
    "\n",
    "Fill your name below:"
   ]
  },
  {
   "cell_type": "code",
   "execution_count": 1,
   "metadata": {},
   "outputs": [],
   "source": [
    "NAME = \"Zeyu Liu\""
   ]
  },
  {
   "cell_type": "markdown",
   "metadata": {
    "collapsed": true,
    "deletable": false,
    "editable": false,
    "nbgrader": {
     "checksum": "7322f138428759d6d9202e9e12e1dbf4",
     "grade": false,
     "grade_id": "cell-2eb2b8180457999e",
     "locked": true,
     "schema_version": 1,
     "solution": false
    }
   },
   "source": [
    "## Before you start \n",
    "\n",
    "For this homework, we will need to import a library. You only need to execute the following cell once; you don't need to copy this in every cell you run."
   ]
  },
  {
   "cell_type": "code",
   "execution_count": 2,
   "metadata": {},
   "outputs": [],
   "source": [
    "import numpy "
   ]
  },
  {
   "cell_type": "markdown",
   "metadata": {
    "deletable": false,
    "editable": false,
    "nbgrader": {
     "checksum": "7aaaa48f8d3a408994ca786c6e4f85ea",
     "grade": false,
     "grade_id": "cell-08faf5e29847eb83",
     "locked": true,
     "schema_version": 1,
     "solution": false
    }
   },
   "source": [
    "# Exercise 1\n",
    "\n",
    "Using `numpy` and its functions:\n",
    "\n",
    "a) Create an array of 100 elements all equal to 1, assign the array to a variable named `one_array`, and print it."
   ]
  },
  {
   "cell_type": "code",
   "execution_count": 3,
   "metadata": {
    "deletable": false,
    "nbgrader": {
     "checksum": "171fda06bc037cd38573ab9fc316581b",
     "grade": false,
     "grade_id": "cell-4201e97d003d5f07",
     "locked": false,
     "schema_version": 1,
     "solution": true
    }
   },
   "outputs": [
    {
     "name": "stdout",
     "output_type": "stream",
     "text": [
      "[1. 1. 1. 1. 1. 1. 1. 1. 1. 1. 1. 1. 1. 1. 1. 1. 1. 1. 1. 1. 1. 1. 1. 1.\n",
      " 1. 1. 1. 1. 1. 1. 1. 1. 1. 1. 1. 1. 1. 1. 1. 1. 1. 1. 1. 1. 1. 1. 1. 1.\n",
      " 1. 1. 1. 1. 1. 1. 1. 1. 1. 1. 1. 1. 1. 1. 1. 1. 1. 1. 1. 1. 1. 1. 1. 1.\n",
      " 1. 1. 1. 1. 1. 1. 1. 1. 1. 1. 1. 1. 1. 1. 1. 1. 1. 1. 1. 1. 1. 1. 1. 1.\n",
      " 1. 1. 1. 1.]\n"
     ]
    }
   ],
   "source": [
    "# YOUR CODE HERE\n",
    "one_array = numpy.ones(100)\n",
    "print(one_array)"
   ]
  },
  {
   "cell_type": "code",
   "execution_count": null,
   "metadata": {
    "deletable": false,
    "editable": false,
    "nbgrader": {
     "checksum": "e4f26f957dde1da15f6c237f2594400e",
     "grade": true,
     "grade_id": "1-a",
     "locked": true,
     "points": 5,
     "schema_version": 1,
     "solution": false
    }
   },
   "outputs": [],
   "source": []
  },
  {
   "cell_type": "markdown",
   "metadata": {
    "deletable": false,
    "editable": false,
    "nbgrader": {
     "checksum": "7820be9059d9c03f973c646358334764",
     "grade": false,
     "grade_id": "cell-9f22d1d2c9656f2b",
     "locked": true,
     "schema_version": 1,
     "solution": false
    }
   },
   "source": [
    "b) Create an array of 50 elements all equal to 0, assign the array to a variable named `zero_array`, and print it."
   ]
  },
  {
   "cell_type": "code",
   "execution_count": 4,
   "metadata": {
    "deletable": false,
    "nbgrader": {
     "checksum": "801aebb1fd3abf97a43d05059364d02e",
     "grade": false,
     "grade_id": "cell-09ead9463ebb456d",
     "locked": false,
     "schema_version": 1,
     "solution": true
    }
   },
   "outputs": [
    {
     "name": "stdout",
     "output_type": "stream",
     "text": [
      "[0. 0. 0. 0. 0. 0. 0. 0. 0. 0. 0. 0. 0. 0. 0. 0. 0. 0. 0. 0. 0. 0. 0. 0.\n",
      " 0. 0. 0. 0. 0. 0. 0. 0. 0. 0. 0. 0. 0. 0. 0. 0. 0. 0. 0. 0. 0. 0. 0. 0.\n",
      " 0. 0.]\n"
     ]
    }
   ],
   "source": [
    "# YOUR CODE HERE\n",
    "zero_array = numpy.zeros(50)\n",
    "print(zero_array)"
   ]
  },
  {
   "cell_type": "code",
   "execution_count": null,
   "metadata": {
    "deletable": false,
    "editable": false,
    "nbgrader": {
     "checksum": "cfb07a11bc3ed468877387cb4279f52f",
     "grade": true,
     "grade_id": "1-b",
     "locked": true,
     "points": 5,
     "schema_version": 1,
     "solution": false
    }
   },
   "outputs": [],
   "source": []
  },
  {
   "cell_type": "markdown",
   "metadata": {
    "deletable": false,
    "editable": false,
    "nbgrader": {
     "checksum": "cff526a2d43fc3b2f67643c51948a3aa",
     "grade": false,
     "grade_id": "cell-6a675d4e1a2d4dda",
     "locked": true,
     "schema_version": 1,
     "solution": false
    }
   },
   "source": [
    "c) Create an array that starts with the element `3`, ends in `99`, and steps by `2` (i.e., 3 5 7 ...99). Assign the array to a variable named `first_array`, and print it. "
   ]
  },
  {
   "cell_type": "code",
   "execution_count": 5,
   "metadata": {
    "deletable": false,
    "nbgrader": {
     "checksum": "e9ee4a283c95a8fb2cfd49d1610885f5",
     "grade": false,
     "grade_id": "cell-4608dceaa03a3c34",
     "locked": false,
     "schema_version": 1,
     "solution": true
    }
   },
   "outputs": [
    {
     "name": "stdout",
     "output_type": "stream",
     "text": [
      "[ 3  5  7  9 11 13 15 17 19 21 23 25 27 29 31 33 35 37 39 41 43 45 47 49\n",
      " 51 53 55 57 59 61 63 65 67 69 71 73 75 77 79 81 83 85 87 89 91 93 95 97\n",
      " 99]\n"
     ]
    }
   ],
   "source": [
    "# YOUR CODE HERE\n",
    "first_array = numpy.arange(3, 100, 2)\n",
    "print(first_array)"
   ]
  },
  {
   "cell_type": "code",
   "execution_count": null,
   "metadata": {
    "deletable": false,
    "editable": false,
    "nbgrader": {
     "checksum": "d80ce1a960d1439c731a45e4eeec8d17",
     "grade": true,
     "grade_id": "1-c",
     "locked": true,
     "points": 10,
     "schema_version": 1,
     "solution": false
    }
   },
   "outputs": [],
   "source": []
  },
  {
   "cell_type": "markdown",
   "metadata": {
    "deletable": false,
    "editable": false,
    "nbgrader": {
     "checksum": "7b45e70694cac8a4bf9ec8f6e3616812",
     "grade": false,
     "grade_id": "cell-1e8ede86c772556d",
     "locked": true,
     "schema_version": 1,
     "solution": false
    }
   },
   "source": [
    "d) Create an array that starts in `-4`, ends in `4`, and has `41` elements. Assign the array to a variable named `second_array`, and print it. "
   ]
  },
  {
   "cell_type": "code",
   "execution_count": 6,
   "metadata": {
    "deletable": false,
    "nbgrader": {
     "checksum": "ead09f7dd882459c5c3b98cd8c13b893",
     "grade": false,
     "grade_id": "cell-93302e3cf5061819",
     "locked": false,
     "schema_version": 1,
     "solution": true
    }
   },
   "outputs": [
    {
     "name": "stdout",
     "output_type": "stream",
     "text": [
      "[-4.  -3.8 -3.6 -3.4 -3.2 -3.  -2.8 -2.6 -2.4 -2.2 -2.  -1.8 -1.6 -1.4\n",
      " -1.2 -1.  -0.8 -0.6 -0.4 -0.2  0.   0.2  0.4  0.6  0.8  1.   1.2  1.4\n",
      "  1.6  1.8  2.   2.2  2.4  2.6  2.8  3.   3.2  3.4  3.6  3.8  4. ]\n"
     ]
    }
   ],
   "source": [
    "# YOUR CODE HERE\n",
    "second_array = numpy.linspace(-4, 4, 41)\n",
    "print(second_array)"
   ]
  },
  {
   "cell_type": "code",
   "execution_count": null,
   "metadata": {
    "deletable": false,
    "editable": false,
    "nbgrader": {
     "checksum": "2c1d246362d3d086bc6937e4bc8c7f8d",
     "grade": true,
     "grade_id": "1-d",
     "locked": true,
     "points": 10,
     "schema_version": 1,
     "solution": false
    }
   },
   "outputs": [],
   "source": []
  },
  {
   "cell_type": "markdown",
   "metadata": {
    "deletable": false,
    "editable": false,
    "nbgrader": {
     "checksum": "6dd42dc92315b0d50cc42a516103fc10",
     "grade": false,
     "grade_id": "cell-ccd3016bf5ffd526",
     "locked": true,
     "schema_version": 1,
     "solution": false
    }
   },
   "source": [
    "# Exercise 2 \n",
    "\n",
    "Given the following one-dimensional `numpy` arrays:"
   ]
  },
  {
   "cell_type": "code",
   "execution_count": 7,
   "metadata": {},
   "outputs": [],
   "source": [
    "x = numpy.array([39, 48, 15, 54, 44, 25,  3, 46, 45, 19, 20, 37, 25,  4, 25, 46, 10,\n",
    "                49, 11, 26, 44, 15, 38,  0, 10, 53, 19, 34, 51, 26, 54, 11, 16])\n",
    "\n",
    "y = numpy.array([47,  9, 54,  3, 51, 61, 13, 21,  9, 38, 16, 10, 18,  8, 64,  3, 46,\n",
    "                12, 56,  2,  6, 32, 63, 64, 61, 21, 46, 59, 23,  9, 44, 19, 25])"
   ]
  },
  {
   "cell_type": "markdown",
   "metadata": {
    "deletable": false,
    "editable": false,
    "nbgrader": {
     "checksum": "67de2018aac370b17f9a143510af4aec",
     "grade": false,
     "grade_id": "cell-9a768f15704e65d0",
     "locked": true,
     "schema_version": 1,
     "solution": false
    }
   },
   "source": [
    "a) Create an array named `sum_xy` that is the result of adding `x` and `y`, and print it. "
   ]
  },
  {
   "cell_type": "code",
   "execution_count": 8,
   "metadata": {
    "deletable": false,
    "nbgrader": {
     "checksum": "936d13cf5adfe2d21cfe643397369ace",
     "grade": false,
     "grade_id": "cell-80dec05e451e288a",
     "locked": false,
     "schema_version": 1,
     "solution": true
    }
   },
   "outputs": [
    {
     "name": "stdout",
     "output_type": "stream",
     "text": [
      "[ 86  57  69  57  95  86  16  67  54  57  36  47  43  12  89  49  56  61\n",
      "  67  28  50  47 101  64  71  74  65  93  74  35  98  30  41]\n"
     ]
    }
   ],
   "source": [
    "# YOUR CODE HERE\n",
    "sum_xy = x + y\n",
    "print(sum_xy)"
   ]
  },
  {
   "cell_type": "code",
   "execution_count": null,
   "metadata": {
    "deletable": false,
    "editable": false,
    "nbgrader": {
     "checksum": "d66fa6b736db31c6fe5653770c1dc516",
     "grade": true,
     "grade_id": "2-a",
     "locked": true,
     "points": 10,
     "schema_version": 1,
     "solution": false
    }
   },
   "outputs": [],
   "source": []
  },
  {
   "cell_type": "markdown",
   "metadata": {
    "deletable": false,
    "editable": false,
    "nbgrader": {
     "checksum": "be337fdfcb0a16cd19c0bc554ab7baa1",
     "grade": false,
     "grade_id": "cell-63c5131ef34a6655",
     "locked": true,
     "schema_version": 1,
     "solution": false
    }
   },
   "source": [
    "b) Create an array named `diff_xy` that is the result of subtracting `y` from `x`, and print it. "
   ]
  },
  {
   "cell_type": "code",
   "execution_count": 9,
   "metadata": {
    "deletable": false,
    "nbgrader": {
     "checksum": "56aa84d29f4f484141eeee4ef016fc71",
     "grade": false,
     "grade_id": "cell-8e3033ef1ea39832",
     "locked": false,
     "schema_version": 1,
     "solution": true
    }
   },
   "outputs": [
    {
     "name": "stdout",
     "output_type": "stream",
     "text": [
      "[ -8  39 -39  51  -7 -36 -10  25  36 -19   4  27   7  -4 -39  43 -36  37\n",
      " -45  24  38 -17 -25 -64 -51  32 -27 -25  28  17  10  -8  -9]\n"
     ]
    }
   ],
   "source": [
    "# YOUR CODE HERE\n",
    "diff_xy = x - y\n",
    "print(diff_xy)"
   ]
  },
  {
   "cell_type": "code",
   "execution_count": null,
   "metadata": {
    "deletable": false,
    "editable": false,
    "nbgrader": {
     "checksum": "fc5e22f311d6bfd64e024d25089de551",
     "grade": true,
     "grade_id": "2-b",
     "locked": true,
     "points": 10,
     "schema_version": 1,
     "solution": false
    }
   },
   "outputs": [],
   "source": []
  },
  {
   "cell_type": "markdown",
   "metadata": {
    "deletable": false,
    "editable": false,
    "nbgrader": {
     "checksum": "c05c996d1ede302281996048f3e3db82",
     "grade": false,
     "grade_id": "cell-4061c4ad81056fa5",
     "locked": true,
     "schema_version": 1,
     "solution": false
    }
   },
   "source": [
    "c) Create an array named `op_array` that is the result of the operation below, and print it.\n",
    "\n",
    "\\begin{equation}\n",
    "    \\frac{x^2}{2} + \\left(\\frac{y}{3}\\right)^2 \n",
    "\\end{equation}"
   ]
  },
  {
   "cell_type": "code",
   "execution_count": 10,
   "metadata": {
    "deletable": false,
    "nbgrader": {
     "checksum": "8023a3f8158a3a111e946cc94dad4dc4",
     "grade": false,
     "grade_id": "cell-b3d5c4afcd890975",
     "locked": false,
     "schema_version": 1,
     "solution": true
    }
   },
   "outputs": [
    {
     "name": "stdout",
     "output_type": "stream",
     "text": [
      "[1005.94444444 1161.          436.5        1459.         1257.\n",
      "  725.94444444   23.27777778 1107.         1021.5         340.94444444\n",
      "  228.44444444  695.61111111  348.5          15.11111111  767.61111111\n",
      " 1059.          285.11111111 1216.5         408.94444444  338.44444444\n",
      "  972.          226.27777778 1163.          455.11111111  463.44444444\n",
      " 1453.5         415.61111111  964.77777778 1359.27777778  347.\n",
      " 1673.11111111  100.61111111  197.44444444]\n"
     ]
    }
   ],
   "source": [
    "# YOUR CODE HERE\n",
    "op_array = x**2 / 2 +(y/3)**2\n",
    "print(op_array)"
   ]
  },
  {
   "cell_type": "code",
   "execution_count": null,
   "metadata": {
    "deletable": false,
    "editable": false,
    "nbgrader": {
     "checksum": "af7aa4045d5482e3807c093b011665dc",
     "grade": true,
     "grade_id": "2-c",
     "locked": true,
     "points": 10,
     "schema_version": 1,
     "solution": false
    }
   },
   "outputs": [],
   "source": []
  },
  {
   "cell_type": "markdown",
   "metadata": {
    "deletable": false,
    "editable": false,
    "nbgrader": {
     "checksum": "fb999acfc9a50101d9502b18c88520d5",
     "grade": false,
     "grade_id": "cell-69715c7fe3169cea",
     "locked": true,
     "schema_version": 1,
     "solution": false
    }
   },
   "source": [
    "# Exercise 3 \n",
    "\n",
    "Given the following array:"
   ]
  },
  {
   "cell_type": "code",
   "execution_count": 11,
   "metadata": {},
   "outputs": [],
   "source": [
    "arr = numpy.array([22, 13, 54, 35, 76, 17, 68, 49, 19])"
   ]
  },
  {
   "cell_type": "markdown",
   "metadata": {
    "deletable": false,
    "editable": false,
    "nbgrader": {
     "checksum": "dbc6dce95e55b4f11a46e8c982d2a579",
     "grade": false,
     "grade_id": "cell-aaea39984fe8c712",
     "locked": true,
     "schema_version": 1,
     "solution": false
    }
   },
   "source": [
    "a) Using `[ ]`, access the first, fifth and last elements, add them, assign the result to a varaible named `res`, and print it. "
   ]
  },
  {
   "cell_type": "code",
   "execution_count": 12,
   "metadata": {
    "deletable": false,
    "nbgrader": {
     "checksum": "3d9bae5f3aeedcca7d05b13eab62e303",
     "grade": false,
     "grade_id": "cell-30bba300820faec4",
     "locked": false,
     "schema_version": 1,
     "solution": true
    }
   },
   "outputs": [
    {
     "name": "stdout",
     "output_type": "stream",
     "text": [
      "117\n"
     ]
    }
   ],
   "source": [
    "# YOUR CODE HERE\n",
    "res = arr[0] + arr[4] +arr[-1]\n",
    "print(res)"
   ]
  },
  {
   "cell_type": "code",
   "execution_count": null,
   "metadata": {
    "deletable": false,
    "editable": false,
    "nbgrader": {
     "checksum": "add680b4e43ec0e400c186fa68e12990",
     "grade": true,
     "grade_id": "3-a",
     "locked": true,
     "points": 10,
     "schema_version": 1,
     "solution": false
    }
   },
   "outputs": [],
   "source": []
  },
  {
   "cell_type": "markdown",
   "metadata": {
    "deletable": false,
    "editable": false,
    "nbgrader": {
     "checksum": "1a9607dbb736a1cd70a204cf2e7c28ea",
     "grade": false,
     "grade_id": "cell-082777d6db111230",
     "locked": true,
     "schema_version": 1,
     "solution": false
    }
   },
   "source": [
    "b) Using slicing, grab a slice that goes from the first to the third element (included), asign it to a variable named `slice_1`, and print it.  "
   ]
  },
  {
   "cell_type": "code",
   "execution_count": 13,
   "metadata": {
    "deletable": false,
    "nbgrader": {
     "checksum": "28013794ca1bcb556a9ff3070477eb27",
     "grade": false,
     "grade_id": "cell-8bf416000b71e82e",
     "locked": false,
     "schema_version": 1,
     "solution": true
    }
   },
   "outputs": [
    {
     "name": "stdout",
     "output_type": "stream",
     "text": [
      "[22 13 54]\n"
     ]
    }
   ],
   "source": [
    "# YOUR CODE HERE\n",
    "slice_1 = arr[0:3] \n",
    "print(slice_1)"
   ]
  },
  {
   "cell_type": "code",
   "execution_count": null,
   "metadata": {
    "deletable": false,
    "editable": false,
    "nbgrader": {
     "checksum": "2530bb20778d9492f54ec60080cfa3ba",
     "grade": true,
     "grade_id": "3-b",
     "locked": true,
     "points": 10,
     "schema_version": 1,
     "solution": false
    }
   },
   "outputs": [],
   "source": []
  },
  {
   "cell_type": "markdown",
   "metadata": {
    "deletable": false,
    "editable": false,
    "nbgrader": {
     "checksum": "93451c5d4e11ee42ab07dc44599780e6",
     "grade": false,
     "grade_id": "cell-ddd79c381ae2c344",
     "locked": true,
     "schema_version": 1,
     "solution": false
    }
   },
   "source": [
    "c) Using slicing, grab the slice that contains the three elements in the middle of `arr`, assign the resulting array to a variable named `slice_mid`. Then,  subtract `17` from all the elements in `slice_mid` (do not use `for` statements), assign the result to a variable named `slice_mid_17`, and print both `slice_mid` and `slice_mid_17`."
   ]
  },
  {
   "cell_type": "code",
   "execution_count": 14,
   "metadata": {
    "deletable": false,
    "nbgrader": {
     "checksum": "43d0c099c1e407643319bf2504ce6c66",
     "grade": false,
     "grade_id": "cell-5060235c14829812",
     "locked": false,
     "schema_version": 1,
     "solution": true
    }
   },
   "outputs": [
    {
     "name": "stdout",
     "output_type": "stream",
     "text": [
      "[35 76 17]\n",
      "[18 59  0]\n"
     ]
    }
   ],
   "source": [
    "# YOUR CODE HERE\n",
    "slice_mid = arr[3:6]\n",
    "slice_mid_17 = slice_mid - 17\n",
    "print(slice_mid)\n",
    "print(slice_mid_17)"
   ]
  },
  {
   "cell_type": "code",
   "execution_count": null,
   "metadata": {
    "deletable": false,
    "editable": false,
    "nbgrader": {
     "checksum": "d2bda1eb6a67b57b08b6c98caca22c80",
     "grade": true,
     "grade_id": "3-c",
     "locked": true,
     "points": 10,
     "schema_version": 1,
     "solution": false
    }
   },
   "outputs": [],
   "source": []
  },
  {
   "cell_type": "markdown",
   "metadata": {
    "deletable": false,
    "editable": false,
    "nbgrader": {
     "checksum": "f0ded5fd11c5757494fc7f0f5f9af823",
     "grade": false,
     "grade_id": "cell-654cfc83652b3902",
     "locked": true,
     "schema_version": 1,
     "solution": false
    }
   },
   "source": [
    "d) Using slicing, create an array that is the result of adding the first three elements with the last three elements, assign it to a variable named `slice_sum`, and print it. "
   ]
  },
  {
   "cell_type": "code",
   "execution_count": 15,
   "metadata": {
    "deletable": false,
    "nbgrader": {
     "checksum": "64f20e27aeb37499859f47c56371345c",
     "grade": false,
     "grade_id": "cell-3e110012af9a11cb",
     "locked": false,
     "schema_version": 1,
     "solution": true
    }
   },
   "outputs": [
    {
     "name": "stdout",
     "output_type": "stream",
     "text": [
      "[90 62 73]\n"
     ]
    }
   ],
   "source": [
    "# YOUR CODE HERE\n",
    "slice_sum = arr[0:3] + arr[-3:]\n",
    "print(slice_sum)"
   ]
  },
  {
   "cell_type": "code",
   "execution_count": null,
   "metadata": {
    "deletable": false,
    "editable": false,
    "nbgrader": {
     "checksum": "538b801e4edd48e1bc33047c1ccbcd88",
     "grade": true,
     "grade_id": "3-d",
     "locked": true,
     "points": 10,
     "schema_version": 1,
     "solution": false
    }
   },
   "outputs": [],
   "source": []
  },
  {
   "cell_type": "markdown",
   "metadata": {
    "deletable": false,
    "editable": false,
    "nbgrader": {
     "checksum": "b304370a7c1030ccf65fe2c41f72c4bd",
     "grade": false,
     "grade_id": "cell-039bf12ad3202ee2",
     "locked": true,
     "schema_version": 1,
     "solution": false
    }
   },
   "source": [
    "## Remember!!\n",
    "\n",
    "Before you turn this problem in, make sure everything runs as expected. First, restart the kernel (in the menubar, select Kernel→→Restart) and then run all cells (in the menubar, select Cell→→Run All).\n",
    "\n",
    "Make sure you filled in any place that says YOUR CODE HERE or \"YOUR ANSWER HERE\", as well as your name at the beggining of the notebook.\n"
   ]
  }
 ],
 "metadata": {
  "kernelspec": {
   "display_name": "Python 3",
   "language": "python",
   "name": "python3"
  },
  "language_info": {
   "codemirror_mode": {
    "name": "ipython",
    "version": 3
   },
   "file_extension": ".py",
   "mimetype": "text/x-python",
   "name": "python",
   "nbconvert_exporter": "python",
   "pygments_lexer": "ipython3",
   "version": "3.7.3"
  }
 },
 "nbformat": 4,
 "nbformat_minor": 2
}
