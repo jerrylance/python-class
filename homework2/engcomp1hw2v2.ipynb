{
 "cells": [
  {
   "cell_type": "markdown",
   "metadata": {
    "deletable": false,
    "editable": false,
    "nbgrader": {
     "checksum": "cb8883dc4c03fdf474689ec515515bd0",
     "grade": false,
     "grade_id": "cell-07e452157739f67f",
     "locked": true,
     "schema_version": 1,
     "solution": false
    }
   },
   "source": [
    "Before you turn in this homework, make sure everything runs as expected. First, **restart the kernel** (in the menubar, select Kernel$\\rightarrow$Restart) and then **run all cells** (in the menubar, select Cell$\\rightarrow$Run All).\n",
    "\n",
    "Make sure you execute every single code cell, in order, filling with your solutions in any place that says `YOUR CODE HERE`, and always DELETE the line that says:\n",
    "\n",
    "```python\n",
    "raise NotImplementedError()\n",
    "```\n",
    "The purpose of this line is to tell you if you forgot to answer a question (it will throw an error if the line is there)\n",
    "\n",
    "**IMPORTANT**: DO NOT DELETE ANY CELL.\n",
    "\n",
    "Fill your name below:"
   ]
  },
  {
   "cell_type": "code",
   "execution_count": 1,
   "metadata": {},
   "outputs": [],
   "source": [
    "NAME = \"Zeyu Liu\""
   ]
  },
  {
   "cell_type": "markdown",
   "metadata": {
    "deletable": false,
    "editable": false,
    "nbgrader": {
     "checksum": "e765b58f483e6d36d7420c9536ec808a",
     "grade": false,
     "grade_id": "cell-63ad969381058925",
     "locked": true,
     "schema_version": 1,
     "solution": false
    }
   },
   "source": [
    "## Exercise 1:\n",
    "\n",
    "Note: Remember that you can always print your variables to check their values.\n",
    "\n",
    "**a)** Given `text_1` and using the `index()` method, find the index of the first parenthesis and save it as a new variable named `idx_1`:"
   ]
  },
  {
   "cell_type": "code",
   "execution_count": 2,
   "metadata": {},
   "outputs": [],
   "source": [
    "text_1 = \"The people of the Dinaric Alps (mainly Albanians and South Slavs) are on record as being the tallest in the world.\""
   ]
  },
  {
   "cell_type": "code",
   "execution_count": 3,
   "metadata": {
    "deletable": false,
    "nbgrader": {
     "checksum": "af06d996421d7ad5b0850503a34fdbec",
     "grade": false,
     "grade_id": "cell-8553ab22c7de1b29",
     "locked": false,
     "schema_version": 1,
     "solution": true
    }
   },
   "outputs": [],
   "source": [
    "# YOUR CODE HERE\n",
    "idx_1 = text_1.index('(')"
   ]
  },
  {
   "cell_type": "code",
   "execution_count": null,
   "metadata": {
    "deletable": false,
    "editable": false,
    "nbgrader": {
     "checksum": "f620a0645bdabc52b5f047108143365a",
     "grade": true,
     "grade_id": "1-a",
     "locked": true,
     "points": 10,
     "schema_version": 1,
     "solution": false
    }
   },
   "outputs": [],
   "source": []
  },
  {
   "cell_type": "markdown",
   "metadata": {
    "deletable": false,
    "editable": false,
    "nbgrader": {
     "checksum": "b2d6e1dc615d00986761c994b4377676",
     "grade": false,
     "grade_id": "cell-b3004355ad58752b",
     "locked": true,
     "schema_version": 1,
     "solution": false
    }
   },
   "source": [
    "**b)** Given `text_1` and using the `index()` method, find the index of the second parenthesis and save it as a variable named `idx_2`:"
   ]
  },
  {
   "cell_type": "code",
   "execution_count": 4,
   "metadata": {
    "deletable": false,
    "nbgrader": {
     "checksum": "92d2c33c50486ff70abd1e4f701340e2",
     "grade": false,
     "grade_id": "cell-1e5e60eb4cb63b84",
     "locked": false,
     "schema_version": 1,
     "solution": true
    }
   },
   "outputs": [],
   "source": [
    "# YOUR CODE HERE\n",
    "idx_2 = text_1.index(')')"
   ]
  },
  {
   "cell_type": "code",
   "execution_count": null,
   "metadata": {
    "deletable": false,
    "editable": false,
    "nbgrader": {
     "checksum": "6a7553049459c62432902d630ef2f2b2",
     "grade": true,
     "grade_id": "1-b",
     "locked": true,
     "points": 10,
     "schema_version": 1,
     "solution": false
    }
   },
   "outputs": [],
   "source": []
  },
  {
   "cell_type": "markdown",
   "metadata": {
    "deletable": false,
    "editable": false,
    "nbgrader": {
     "checksum": "5ccefad70f7898118dd86a76fda870ab",
     "grade": false,
     "grade_id": "cell-cd0599ab2020039e",
     "locked": true,
     "schema_version": 1,
     "solution": false
    }
   },
   "source": [
    "**c)** Using the infromation obtained in parts a) and b), slice `text_1` to extract the text in between parentheses, and  assign it to a variable named `text_paren. "
   ]
  },
  {
   "cell_type": "code",
   "execution_count": 5,
   "metadata": {
    "deletable": false,
    "nbgrader": {
     "checksum": "d86e38754400d2d3e297ddaf281035f6",
     "grade": false,
     "grade_id": "cell-09d3a6634c76915b",
     "locked": false,
     "schema_version": 1,
     "solution": true
    }
   },
   "outputs": [],
   "source": [
    "# YOUR CODE HERE\n",
    "text_paren = text_1[idx_1+1:idx_2]"
   ]
  },
  {
   "cell_type": "code",
   "execution_count": null,
   "metadata": {
    "deletable": false,
    "editable": false,
    "nbgrader": {
     "checksum": "d80ce1a960d1439c731a45e4eeec8d17",
     "grade": true,
     "grade_id": "1-c",
     "locked": true,
     "points": 10,
     "schema_version": 1,
     "solution": false
    }
   },
   "outputs": [],
   "source": []
  },
  {
   "cell_type": "markdown",
   "metadata": {
    "deletable": false,
    "editable": false,
    "nbgrader": {
     "checksum": "80d98781f97fdc55758ccef08bccf799",
     "grade": false,
     "grade_id": "cell-df59680fdc1cb0b5",
     "locked": true,
     "schema_version": 1,
     "solution": false
    }
   },
   "source": [
    "## Exercise 2:\n",
    "\n",
    "### text 2 \n",
    "\n",
    "**a)** Given `text_2` and using the `index()` method, find the index of the `':'` symbol and save it as a new variable named `idx_a`.\n"
   ]
  },
  {
   "cell_type": "code",
   "execution_count": 6,
   "metadata": {},
   "outputs": [],
   "source": [
    "text_2 = \"The male average height of: 185.6 cm\""
   ]
  },
  {
   "cell_type": "code",
   "execution_count": 7,
   "metadata": {
    "deletable": false,
    "nbgrader": {
     "checksum": "336bc8c23201f3e49b71239d70a8be16",
     "grade": false,
     "grade_id": "cell-d42de1e3cdf5aed8",
     "locked": false,
     "schema_version": 1,
     "solution": true
    }
   },
   "outputs": [],
   "source": [
    "# YOUR CODE HERE\n",
    "idx_a = text_2.index(':')"
   ]
  },
  {
   "cell_type": "code",
   "execution_count": null,
   "metadata": {
    "deletable": false,
    "editable": false,
    "nbgrader": {
     "checksum": "d66fa6b736db31c6fe5653770c1dc516",
     "grade": true,
     "grade_id": "2-a",
     "locked": true,
     "points": 10,
     "schema_version": 1,
     "solution": false
    }
   },
   "outputs": [],
   "source": []
  },
  {
   "cell_type": "markdown",
   "metadata": {
    "deletable": false,
    "editable": false,
    "nbgrader": {
     "checksum": "db1aac45caf367f341ac50a625c0289b",
     "grade": false,
     "grade_id": "cell-ea2652fc7ab5d52c",
     "locked": true,
     "schema_version": 1,
     "solution": false
    }
   },
   "source": [
    "**b)** Given `text_2` and using the `index()` method, find the index of the `'cm'` and save it as a new variable named `idx_b`:"
   ]
  },
  {
   "cell_type": "code",
   "execution_count": 8,
   "metadata": {
    "deletable": false,
    "nbgrader": {
     "checksum": "26ee1d99902dff2840e200096e0df7a3",
     "grade": false,
     "grade_id": "cell-b9f6b94b4936ac32",
     "locked": false,
     "schema_version": 1,
     "solution": true
    }
   },
   "outputs": [],
   "source": [
    "# YOUR CODE HERE\n",
    "idx_b = text_2.index('cm')"
   ]
  },
  {
   "cell_type": "code",
   "execution_count": null,
   "metadata": {
    "deletable": false,
    "editable": false,
    "nbgrader": {
     "checksum": "fc5e22f311d6bfd64e024d25089de551",
     "grade": true,
     "grade_id": "2-b",
     "locked": true,
     "points": 10,
     "schema_version": 1,
     "solution": false
    }
   },
   "outputs": [],
   "source": []
  },
  {
   "cell_type": "markdown",
   "metadata": {
    "deletable": false,
    "editable": false,
    "nbgrader": {
     "checksum": "0e8bf5125109d3c0a3a04cb0d1005e0f",
     "grade": false,
     "grade_id": "cell-305654c708035d8a",
     "locked": true,
     "schema_version": 1,
     "solution": false
    }
   },
   "source": [
    "**c)** using the information obtained in parts a) and b), and string slicing, extract the average height in `text_2` (the number), convert it to a `float` type, and save it in a variable named `male_avg_h`. "
   ]
  },
  {
   "cell_type": "code",
   "execution_count": 9,
   "metadata": {
    "deletable": false,
    "nbgrader": {
     "checksum": "d77ee17b2f876fe72d34395d372907de",
     "grade": false,
     "grade_id": "cell-52fc314548d0e116",
     "locked": false,
     "schema_version": 1,
     "solution": true
    }
   },
   "outputs": [],
   "source": [
    "# YOUR CODE HERE\n",
    "male_avg_h = float(text_2[idx_a+1:idx_b])"
   ]
  },
  {
   "cell_type": "code",
   "execution_count": null,
   "metadata": {
    "deletable": false,
    "editable": false,
    "nbgrader": {
     "checksum": "af7aa4045d5482e3807c093b011665dc",
     "grade": true,
     "grade_id": "2-c",
     "locked": true,
     "points": 10,
     "schema_version": 1,
     "solution": false
    }
   },
   "outputs": [],
   "source": []
  },
  {
   "cell_type": "markdown",
   "metadata": {
    "deletable": false,
    "editable": false,
    "nbgrader": {
     "checksum": "897f126acc4000047e8bf4fea814c67a",
     "grade": false,
     "grade_id": "cell-7d8c9e2e4e92eac6",
     "locked": true,
     "schema_version": 1,
     "solution": false
    }
   },
   "source": [
    "## Exercise 3:\n",
    "\n",
    "### text 3\n",
    "\n",
    "**a)** Write code using the `index()` method and string slicing to extract the average height in `text_3` (the number), then convert it to a `float` type, and save it in a variable named `female_avg_h`."
   ]
  },
  {
   "cell_type": "code",
   "execution_count": 10,
   "metadata": {},
   "outputs": [],
   "source": [
    "text_3 = \"The female average height of: 170.9 cm\""
   ]
  },
  {
   "cell_type": "code",
   "execution_count": 11,
   "metadata": {
    "deletable": false,
    "nbgrader": {
     "checksum": "ac509fc4168099574e88fcea9a4ef4fb",
     "grade": false,
     "grade_id": "cell-1a66786909fccd1e",
     "locked": false,
     "schema_version": 1,
     "solution": true
    }
   },
   "outputs": [],
   "source": [
    "# YOUR CODE HERE\n",
    "idx_a1 = text_3.index(':')\n",
    "idx_b1 = text_3.index('cm')\n",
    "female_avg_h = float(text_3[idx_a1+1:idx_b1])"
   ]
  },
  {
   "cell_type": "code",
   "execution_count": null,
   "metadata": {
    "deletable": false,
    "editable": false,
    "nbgrader": {
     "checksum": "add680b4e43ec0e400c186fa68e12990",
     "grade": true,
     "grade_id": "3-a",
     "locked": true,
     "points": 10,
     "schema_version": 1,
     "solution": false
    }
   },
   "outputs": [],
   "source": []
  },
  {
   "cell_type": "markdown",
   "metadata": {
    "deletable": false,
    "editable": false,
    "nbgrader": {
     "checksum": "65b4c3c65f8237e76c80010f83fa377b",
     "grade": false,
     "grade_id": "cell-4466cb3f8de69847",
     "locked": true,
     "schema_version": 1,
     "solution": false
    }
   },
   "source": [
    "*Note:* Data for human heights obtained from [Wikipedia](https://en.wikipedia.org/wiki/Human_height)"
   ]
  },
  {
   "cell_type": "markdown",
   "metadata": {
    "deletable": false,
    "editable": false,
    "nbgrader": {
     "checksum": "746c3daa26f80ec75d02d90e00eeca18",
     "grade": false,
     "grade_id": "cell-c19f4ed7b65c7096",
     "locked": true,
     "schema_version": 1,
     "solution": false
    }
   },
   "source": [
    "## Exercise 4\n",
    "\n",
    "Given the string `rick_phrase`:"
   ]
  },
  {
   "cell_type": "code",
   "execution_count": 12,
   "metadata": {},
   "outputs": [],
   "source": [
    "rick_phrase = 'Rick: I turned myself into a pickle. I am Pickle Riiiiick'"
   ]
  },
  {
   "cell_type": "markdown",
   "metadata": {
    "deletable": false,
    "editable": false,
    "nbgrader": {
     "checksum": "3a9679757aa6eafd53be46f3b1a02244",
     "grade": false,
     "grade_id": "cell-904f1e34a67106f4",
     "locked": true,
     "schema_version": 1,
     "solution": false
    }
   },
   "source": [
    "**a)** Apply the method of strings that returns a list (denoted by square brackets [ ]) of all the words in a string, and assign the result to a variable named `words`. "
   ]
  },
  {
   "cell_type": "code",
   "execution_count": 13,
   "metadata": {
    "deletable": false,
    "nbgrader": {
     "checksum": "1a263a5c60f65bc52efaadc30d55d3c6",
     "grade": false,
     "grade_id": "cell-1708ef61ed4d9619",
     "locked": false,
     "schema_version": 1,
     "solution": true
    }
   },
   "outputs": [],
   "source": [
    "# YOUR CODE HERE\n",
    "words = rick_phrase.split()"
   ]
  },
  {
   "cell_type": "code",
   "execution_count": null,
   "metadata": {
    "deletable": false,
    "editable": false,
    "nbgrader": {
     "checksum": "177d3553450f06360fc9c954a167c91a",
     "grade": true,
     "grade_id": "4-a",
     "locked": true,
     "points": 10,
     "schema_version": 1,
     "solution": false
    }
   },
   "outputs": [],
   "source": []
  },
  {
   "cell_type": "markdown",
   "metadata": {
    "deletable": false,
    "editable": false,
    "nbgrader": {
     "checksum": "90dbe91ec08d54bf8d9e0e2d5816810d",
     "grade": false,
     "grade_id": "cell-6b0412e515aede86",
     "locked": true,
     "schema_version": 1,
     "solution": false
    }
   },
   "source": [
    "**b)** Apply the method of strings that returns a list (denoted by square brackets [ ]) that contains two elements that consist on what is before the `:` and after the `:`, and assign the result to a varaible named `name_phrase`.\n"
   ]
  },
  {
   "cell_type": "code",
   "execution_count": 14,
   "metadata": {
    "deletable": false,
    "nbgrader": {
     "checksum": "a073263ff756130ea7f11148814ee6df",
     "grade": false,
     "grade_id": "cell-ef2a752ed4a0695c",
     "locked": false,
     "schema_version": 1,
     "solution": true
    }
   },
   "outputs": [],
   "source": [
    "# YOUR CODE HERE\n",
    "name_phrase = rick_phrase.split(':')"
   ]
  },
  {
   "cell_type": "code",
   "execution_count": null,
   "metadata": {
    "deletable": false,
    "editable": false,
    "nbgrader": {
     "checksum": "b5a20b606d660530e3a5dfce77541851",
     "grade": true,
     "grade_id": "4-b",
     "locked": true,
     "points": 10,
     "schema_version": 1,
     "solution": false
    }
   },
   "outputs": [],
   "source": []
  },
  {
   "cell_type": "markdown",
   "metadata": {
    "deletable": false,
    "editable": false,
    "nbgrader": {
     "checksum": "d582a2930f057af8024279dddfdb4cfa",
     "grade": false,
     "grade_id": "cell-067da5c57e05ba2c",
     "locked": true,
     "schema_version": 1,
     "solution": false
    }
   },
   "source": [
    "## Exercise 5\n",
    "\n",
    "Given the string `rick_catchphrase`:"
   ]
  },
  {
   "cell_type": "code",
   "execution_count": 15,
   "metadata": {},
   "outputs": [],
   "source": [
    "rick_catchphrase = '       Wubba Lubba Dub-Dub       '"
   ]
  },
  {
   "cell_type": "markdown",
   "metadata": {
    "deletable": false,
    "editable": false,
    "nbgrader": {
     "checksum": "057b8d4b03d417c90584c24159af5576",
     "grade": false,
     "grade_id": "cell-944ea2b4bc765a2c",
     "locked": true,
     "schema_version": 1,
     "solution": false
    }
   },
   "source": [
    "**a)** Apply the method of strings that removes the extra white spaces, and assing the result to a variable named `catchphrase_clean`."
   ]
  },
  {
   "cell_type": "code",
   "execution_count": 16,
   "metadata": {
    "deletable": false,
    "nbgrader": {
     "checksum": "61be0058cac63625769c9a4e61e4dc50",
     "grade": false,
     "grade_id": "cell-ba65906d0759b300",
     "locked": false,
     "schema_version": 1,
     "solution": true
    }
   },
   "outputs": [],
   "source": [
    "# YOUR CODE HERE\n",
    "catchphrase_clean = rick_catchphrase.strip()"
   ]
  },
  {
   "cell_type": "code",
   "execution_count": null,
   "metadata": {
    "deletable": false,
    "editable": false,
    "nbgrader": {
     "checksum": "942568db715e9ecfe19d975c0f264301",
     "grade": true,
     "grade_id": "5-a",
     "locked": true,
     "points": 10,
     "schema_version": 1,
     "solution": false
    }
   },
   "outputs": [],
   "source": []
  },
  {
   "cell_type": "markdown",
   "metadata": {
    "deletable": false,
    "editable": false,
    "nbgrader": {
     "checksum": "7f7e9dc212706c41178262186df7c74e",
     "grade": false,
     "grade_id": "cell-c29832fe4413b8b6",
     "locked": true,
     "schema_version": 1,
     "solution": false
    }
   },
   "source": [
    "## Remember!!\n",
    "\n",
    "Before you turn this problem in, make sure everything runs as expected. First, restart the kernel (in the menubar, select Kernel→→Restart) and then run all cells (in the menubar, select Cell→→Run All).\n",
    "\n",
    "Make sure you filled in any place that says YOUR CODE HERE or \"YOUR ANSWER HERE\", as well as your name at the beggining of the notebook.\n"
   ]
  }
 ],
 "metadata": {
  "kernelspec": {
   "display_name": "Python 3",
   "language": "python",
   "name": "python3"
  },
  "language_info": {
   "codemirror_mode": {
    "name": "ipython",
    "version": 3
   },
   "file_extension": ".py",
   "mimetype": "text/x-python",
   "name": "python",
   "nbconvert_exporter": "python",
   "pygments_lexer": "ipython3",
   "version": "3.7.3"
  }
 },
 "nbformat": 4,
 "nbformat_minor": 2
}
