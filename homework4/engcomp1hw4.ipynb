{
 "cells": [
  {
   "cell_type": "markdown",
   "metadata": {
    "collapsed": true,
    "deletable": false,
    "editable": false,
    "nbgrader": {
     "checksum": "cbbe4d92f5af2d718a242c44079962b4",
     "grade": false,
     "grade_id": "cell-13bb919c0ab1d08e",
     "locked": true,
     "schema_version": 1,
     "solution": false
    }
   },
   "source": [
    "Before you turn in this homework, make sure everything runs as expected. First, **restart the kernel** (in the menubar, select Kernel$\\rightarrow$Restart) and then **run all cells** (in the menubar, select Cell$\\rightarrow$Run All).\n",
    "\n",
    "Make sure you execute every single code cell, in order, filling with your solutions in any place that says `YOUR CODE HERE`, and always DELETE the line that says:\n",
    "\n",
    "```python\n",
    "raise NotImplementedError()\n",
    "```\n",
    "The purpose of this line is to tell you if you forgot to answer a question (it will throw an error if the line is there)\n",
    "\n",
    "**IMPORTANT**: DO NOT DELETE ANY CELL.\n",
    "\n",
    "Fill your name below:"
   ]
  },
  {
   "cell_type": "code",
   "execution_count": 1,
   "metadata": {},
   "outputs": [],
   "source": [
    "NAME = \"Zeyu Liu\""
   ]
  },
  {
   "cell_type": "markdown",
   "metadata": {
    "deletable": false,
    "editable": false,
    "nbgrader": {
     "checksum": "b2825f7707a026c853a95efd6f591d0b",
     "grade": false,
     "grade_id": "cell-30438485802767d8",
     "locked": true,
     "schema_version": 1,
     "solution": false
    }
   },
   "source": [
    "## Exercise 1"
   ]
  },
  {
   "cell_type": "markdown",
   "metadata": {
    "deletable": false,
    "editable": false,
    "nbgrader": {
     "checksum": "20a785002f6c16f174f496195083b7fb",
     "grade": false,
     "grade_id": "cell-29cef625a2c63cc0",
     "locked": true,
     "schema_version": 1,
     "solution": false
    }
   },
   "source": [
    "Lists, slicing and for statements. Given the list named `pizzas`"
   ]
  },
  {
   "cell_type": "code",
   "execution_count": 2,
   "metadata": {},
   "outputs": [],
   "source": [
    "pizzas = ['cheese', 'pepperoni', 'margherita', 'hawaiian', 'italian sausage', 'green peppers and onions']"
   ]
  },
  {
   "cell_type": "markdown",
   "metadata": {
    "deletable": false,
    "editable": false,
    "nbgrader": {
     "checksum": "368b71612ace13c4ee27dc67f013d343",
     "grade": false,
     "grade_id": "cell-fbff1326939101ad",
     "locked": true,
     "schema_version": 1,
     "solution": false
    }
   },
   "source": [
    "a) Using `for` statements and the method of lists called `append`, append in the list `lengths` the length of each element in the `pizzas` list, and print the list named `lengths`."
   ]
  },
  {
   "cell_type": "code",
   "execution_count": 3,
   "metadata": {
    "deletable": false,
    "nbgrader": {
     "checksum": "3d2fd5ceda517399e8e4ed1ec1261356",
     "grade": false,
     "grade_id": "cell-bbb3acbad94eb8f8",
     "locked": false,
     "schema_version": 1,
     "solution": true
    }
   },
   "outputs": [
    {
     "name": "stdout",
     "output_type": "stream",
     "text": [
      "[6, 9, 10, 8, 15, 24]\n"
     ]
    }
   ],
   "source": [
    "lengths = []\n",
    "# YOUR CODE HERE\n",
    "for name in pizzas:\n",
    "    lengths.append(len(name))\n",
    "print(lengths)\n"
   ]
  },
  {
   "cell_type": "code",
   "execution_count": null,
   "metadata": {
    "deletable": false,
    "editable": false,
    "nbgrader": {
     "checksum": "5a918f43bbfb763ae9c5b01c7b305d21",
     "grade": true,
     "grade_id": "1-a",
     "locked": true,
     "points": 20,
     "schema_version": 1,
     "solution": false
    }
   },
   "outputs": [],
   "source": []
  },
  {
   "cell_type": "markdown",
   "metadata": {
    "deletable": false,
    "editable": false,
    "nbgrader": {
     "checksum": "9e15ac4e0979734d855c69c06e51b0db",
     "grade": false,
     "grade_id": "cell-8167e65441a139e5",
     "locked": true,
     "schema_version": 1,
     "solution": false
    }
   },
   "source": [
    "b) Using `for` statements, the string method called `capitalize` and the method of lists called `append`, append in the list `pizzas_cap` the capitalized version of each element in the `pizzas` list, and print the list `pizzas_cap`."
   ]
  },
  {
   "cell_type": "code",
   "execution_count": 4,
   "metadata": {
    "deletable": false,
    "nbgrader": {
     "checksum": "5fb0ee8e8f0b908846cab78a41a710b7",
     "grade": false,
     "grade_id": "cell-1efd3ba4b847f0b7",
     "locked": false,
     "schema_version": 1,
     "solution": true
    }
   },
   "outputs": [
    {
     "name": "stdout",
     "output_type": "stream",
     "text": [
      "['Cheese', 'Pepperoni', 'Margherita', 'Hawaiian', 'Italian sausage', 'Green peppers and onions']\n"
     ]
    }
   ],
   "source": [
    "pizzas_cap = []\n",
    "# YOUR CODE HERE\n",
    "for name in pizzas:\n",
    "    pizzas_cap.append(name.capitalize())\n",
    "print(pizzas_cap)"
   ]
  },
  {
   "cell_type": "code",
   "execution_count": null,
   "metadata": {
    "deletable": false,
    "editable": false,
    "nbgrader": {
     "checksum": "085e9b07a4e54b2f001576f681d99deb",
     "grade": true,
     "grade_id": "1-b",
     "locked": true,
     "points": 20,
     "schema_version": 1,
     "solution": false
    }
   },
   "outputs": [],
   "source": []
  },
  {
   "cell_type": "markdown",
   "metadata": {
    "deletable": false,
    "editable": false,
    "nbgrader": {
     "checksum": "ae3a156657c181e5e7e7b44a59dee2e4",
     "grade": false,
     "grade_id": "cell-16b69d5011b880f4",
     "locked": true,
     "schema_version": 1,
     "solution": false
    }
   },
   "source": [
    "c) Using `for` statements, the string method called `find` and the method of lists called `append`, append in the list `loc_e` the index of the first `'e'` that appears in each element in the `pizzas` list, and print the list `loc_e`.\n",
    "\n",
    "*Note*: The `find` method will return -1 if element is not found."
   ]
  },
  {
   "cell_type": "code",
   "execution_count": 5,
   "metadata": {
    "deletable": false,
    "nbgrader": {
     "checksum": "7e864bc5f60f3d5fec580c2e7d21c48b",
     "grade": false,
     "grade_id": "cell-14ff98033e09aad6",
     "locked": false,
     "schema_version": 1,
     "solution": true
    }
   },
   "outputs": [
    {
     "name": "stdout",
     "output_type": "stream",
     "text": [
      "[2, 1, 5, -1, 14, 2]\n"
     ]
    }
   ],
   "source": [
    "loc_e = []\n",
    "# YOUR CODE HERE\n",
    "for name in pizzas:\n",
    "    loc_e.append(name.find('e'))\n",
    "print(loc_e)"
   ]
  },
  {
   "cell_type": "code",
   "execution_count": null,
   "metadata": {
    "deletable": false,
    "editable": false,
    "nbgrader": {
     "checksum": "682eaab6ec919529656d4eb9ff894cbf",
     "grade": true,
     "grade_id": "1-c",
     "locked": true,
     "points": 20,
     "schema_version": 1,
     "solution": false
    }
   },
   "outputs": [],
   "source": []
  },
  {
   "cell_type": "markdown",
   "metadata": {
    "deletable": false,
    "editable": false,
    "nbgrader": {
     "checksum": "3e925e70bd2b8be19c16a5bac2ed3273",
     "grade": false,
     "grade_id": "cell-46ff327bccbb0db4",
     "locked": true,
     "schema_version": 1,
     "solution": false
    }
   },
   "source": [
    "## Exercise 2"
   ]
  },
  {
   "cell_type": "markdown",
   "metadata": {
    "deletable": false,
    "editable": false,
    "nbgrader": {
     "checksum": "52f91d6cf996cbaddddc8732a268cf9e",
     "grade": false,
     "grade_id": "cell-4869f4a9d4a4f791",
     "locked": true,
     "schema_version": 1,
     "solution": false
    }
   },
   "source": [
    "In this exercise, you will combine slicing with `for` statements.\n",
    "\n",
    "Given the following list:"
   ]
  },
  {
   "cell_type": "code",
   "execution_count": 6,
   "metadata": {},
   "outputs": [],
   "source": [
    "sports = ['Football', 'Volleyball', 'Basketball', 'Baseball', 'Handball', 'Softball']"
   ]
  },
  {
   "cell_type": "markdown",
   "metadata": {
    "deletable": false,
    "editable": false,
    "nbgrader": {
     "checksum": "b250a2fb56a4e4c67d0e63a354139bf2",
     "grade": false,
     "grade_id": "cell-43737bb70d7785c5",
     "locked": true,
     "schema_version": 1,
     "solution": false
    }
   },
   "source": [
    "a) Write some code that extracts, from each word, all the letters except 'ball' at the end of each one. Save the output in a list named `mod_sports`, and print it.. "
   ]
  },
  {
   "cell_type": "code",
   "execution_count": 7,
   "metadata": {
    "deletable": false,
    "nbgrader": {
     "checksum": "0d8e80aa4b05dcad11d1e222fe4e38df",
     "grade": false,
     "grade_id": "cell-609550ac5209f894",
     "locked": false,
     "schema_version": 1,
     "solution": true
    }
   },
   "outputs": [
    {
     "name": "stdout",
     "output_type": "stream",
     "text": [
      "['Foot', 'Volley', 'Basket', 'Base', 'Hand', 'Soft']\n"
     ]
    }
   ],
   "source": [
    "mod_sports = []\n",
    "\n",
    "# YOUR CODE HERE\n",
    "mod_sports = sports\n",
    "for i, name in enumerate(mod_sports):\n",
    "    mod_sports[i] = name[:name.find('ball')]\n",
    "print(mod_sports)"
   ]
  },
  {
   "cell_type": "code",
   "execution_count": null,
   "metadata": {
    "deletable": false,
    "editable": false,
    "nbgrader": {
     "checksum": "51e813bb4175b77592657fa3c55b47d3",
     "grade": true,
     "grade_id": "2-a",
     "locked": true,
     "points": 20,
     "schema_version": 1,
     "solution": false
    }
   },
   "outputs": [],
   "source": []
  },
  {
   "cell_type": "markdown",
   "metadata": {
    "deletable": false,
    "editable": false,
    "nbgrader": {
     "checksum": "2f4443902971f9710d8f9a58ed544ea8",
     "grade": false,
     "grade_id": "cell-e0e604965481409c",
     "locked": true,
     "schema_version": 1,
     "solution": false
    }
   },
   "source": [
    "### Exercise 3"
   ]
  },
  {
   "cell_type": "markdown",
   "metadata": {
    "deletable": false,
    "editable": false,
    "nbgrader": {
     "checksum": "373175748c2553fde52c82b308601ee9",
     "grade": false,
     "grade_id": "cell-05103095dc46fe74",
     "locked": true,
     "schema_version": 1,
     "solution": false
    }
   },
   "source": [
    "a) Using `for` and `if` statements.\n",
    "\n",
    "Populate a list called `numbers` that will go from 0 up to 100 where, if the number is divisible by 3 and 5, you replace it by the word \"FizzBuzz\"; if the number is divisible by 3, you replace it by \"Fizz\"; and if the number is divisible by 5, you replace it by \"Buzz\". All the remaining numbers should remain as numbers.  \n",
    "\n",
    "Note: You have to use `for` statements and `if` statements together.\n",
    "\n",
    "Tips: \n",
    "\n",
    "* Look into the `%` operator.\n",
    "* To check if something is equal to 0, remember you need to use the `==` comparison operator.\n",
    "\n",
    "*Note*: After you finish, you can use the `print` statement to check your `number` list."
   ]
  },
  {
   "cell_type": "code",
   "execution_count": 8,
   "metadata": {
    "deletable": false,
    "nbgrader": {
     "checksum": "b844e05f073d894b518fb60f4950c477",
     "grade": false,
     "grade_id": "cell-067cc43f57c9398b",
     "locked": false,
     "schema_version": 1,
     "solution": true
    }
   },
   "outputs": [
    {
     "name": "stdout",
     "output_type": "stream",
     "text": [
      "['FizzBuzz', 1, 2, 'Fizz', 4, 'Buzz', 'Fizz', 7, 8, 'Fizz', 'Buzz', 11, 'Fizz', 13, 14, 'FizzBuzz', 16, 17, 'Fizz', 19, 'Buzz', 'Fizz', 22, 23, 'Fizz', 'Buzz', 26, 'Fizz', 28, 29, 'FizzBuzz', 31, 32, 'Fizz', 34, 'Buzz', 'Fizz', 37, 38, 'Fizz', 'Buzz', 41, 'Fizz', 43, 44, 'FizzBuzz', 46, 47, 'Fizz', 49, 'Buzz', 'Fizz', 52, 53, 'Fizz', 'Buzz', 56, 'Fizz', 58, 59, 'FizzBuzz', 61, 62, 'Fizz', 64, 'Buzz', 'Fizz', 67, 68, 'Fizz', 'Buzz', 71, 'Fizz', 73, 74, 'FizzBuzz', 76, 77, 'Fizz', 79, 'Buzz', 'Fizz', 82, 83, 'Fizz', 'Buzz', 86, 'Fizz', 88, 89, 'FizzBuzz', 91, 92, 'Fizz', 94, 'Buzz', 'Fizz', 97, 98, 'Fizz', 'Buzz']\n"
     ]
    }
   ],
   "source": [
    "numbers = []\n",
    "# YOUR CODE HERE\n",
    "for i in range(101):\n",
    "    numbers.append(i)\n",
    "for i, num in enumerate(numbers):\n",
    "    if num % 3 == 0 and num % 5 == 0:\n",
    "        numbers[i] = 'FizzBuzz'\n",
    "    elif num % 3 == 0 and num % 5 != 0:\n",
    "        numbers[i] = 'Fizz'\n",
    "    elif num % 3 != 0 and num % 5 == 0:\n",
    "        numbers[i] = 'Buzz'\n",
    "print(numbers)\n",
    "            \n",
    "    "
   ]
  },
  {
   "cell_type": "code",
   "execution_count": null,
   "metadata": {
    "deletable": false,
    "editable": false,
    "nbgrader": {
     "checksum": "56dd89306df4b247a3133827127329c8",
     "grade": true,
     "grade_id": "3-a",
     "locked": true,
     "points": 20,
     "schema_version": 1,
     "solution": false
    }
   },
   "outputs": [],
   "source": []
  },
  {
   "cell_type": "markdown",
   "metadata": {
    "deletable": false,
    "editable": false,
    "nbgrader": {
     "checksum": "0e71369db773558219fd8fd8d1f67a92",
     "grade": false,
     "grade_id": "cell-ad0cfeb5453f986e",
     "locked": true,
     "schema_version": 1,
     "solution": false
    }
   },
   "source": [
    "## Remember!!\n",
    "\n",
    "Before you turn this problem in, make sure everything runs as expected. First, restart the kernel (in the menubar, select Kernel→→Restart) and then run all cells (in the menubar, select Cell→→Run All).\n",
    "\n",
    "Make sure you filled in any place that says YOUR CODE HERE or \"YOUR ANSWER HERE\", as well as your name at the beggining of the notebook.\n"
   ]
  }
 ],
 "metadata": {
  "kernelspec": {
   "display_name": "Python 3",
   "language": "python",
   "name": "python3"
  },
  "language_info": {
   "codemirror_mode": {
    "name": "ipython",
    "version": 3
   },
   "file_extension": ".py",
   "mimetype": "text/x-python",
   "name": "python",
   "nbconvert_exporter": "python",
   "pygments_lexer": "ipython3",
   "version": "3.7.3"
  }
 },
 "nbformat": 4,
 "nbformat_minor": 2
}
