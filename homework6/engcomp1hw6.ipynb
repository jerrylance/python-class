{
 "cells": [
  {
   "cell_type": "markdown",
   "metadata": {
    "deletable": false,
    "editable": false,
    "nbgrader": {
     "checksum": "582924cfcee63973bcffbf1b2f1f8cf9",
     "grade": false,
     "grade_id": "cell-1dbed01b879046f5",
     "locked": true,
     "schema_version": 1,
     "solution": false
    }
   },
   "source": [
    "Before you turn in this homework, make sure everything runs as expected. First, **restart the kernel** (in the menubar, select Kernel$\\rightarrow$Restart) and then **run all cells** (in the menubar, select Cell$\\rightarrow$Run All).\n",
    "\n",
    "Make sure you execute every single code cell, in order, filling with your solutions in any place that says `YOUR CODE HERE`, and always DELETE the line that says:\n",
    "\n",
    "```python\n",
    "raise NotImplementedError()\n",
    "```\n",
    "The purpose of this line is to tell you if you forgot to answer a question (it will throw an error if the line is there)\n",
    "\n",
    "**IMPORTANT**: DO NOT DELETE ANY CELL.\n",
    "\n",
    "Fill your name below:"
   ]
  },
  {
   "cell_type": "code",
   "execution_count": 2,
   "metadata": {},
   "outputs": [],
   "source": [
    "NAME = \"Zeyu Liu\""
   ]
  },
  {
   "cell_type": "markdown",
   "metadata": {
    "deletable": false,
    "editable": false,
    "nbgrader": {
     "checksum": "11ed50cd9a5493434439dd917f51aae0",
     "grade": false,
     "grade_id": "cell-ccd06bbebd6b2f5b",
     "locked": true,
     "schema_version": 1,
     "solution": false
    }
   },
   "source": [
    "## Before you start \n",
    "\n",
    "For this homework, we will need to import a library. You only need to execute the following cell once; you don't need to copy this in every cell you run."
   ]
  },
  {
   "cell_type": "code",
   "execution_count": 3,
   "metadata": {},
   "outputs": [],
   "source": [
    "import numpy "
   ]
  },
  {
   "cell_type": "markdown",
   "metadata": {
    "deletable": false,
    "editable": false,
    "nbgrader": {
     "checksum": "4d4d17042b79f188fc10b63144d19511",
     "grade": false,
     "grade_id": "cell-2a46930b0382b88f",
     "locked": true,
     "schema_version": 1,
     "solution": false
    }
   },
   "source": [
    "# Exercise 1\n",
    "\n",
    "Given the following two-dimensional numpy array:"
   ]
  },
  {
   "cell_type": "code",
   "execution_count": 4,
   "metadata": {},
   "outputs": [
    {
     "name": "stdout",
     "output_type": "stream",
     "text": [
      "[[ 2 17 41 37]\n",
      " [ 3  5 11 13]\n",
      " [19 23 61 73]\n",
      " [73 89 47 59]]\n"
     ]
    }
   ],
   "source": [
    "primes = numpy.array([[2, 17, 41, 37], [3, 5, 11, 13], [19, 23, 61, 73], [73, 89, 47, 59]])\n",
    "print(primes)"
   ]
  },
  {
   "cell_type": "markdown",
   "metadata": {
    "deletable": false,
    "editable": false,
    "nbgrader": {
     "checksum": "509d59a55bf7195a696517a0a5776d84",
     "grade": false,
     "grade_id": "cell-003abce10e3a95d0",
     "locked": true,
     "schema_version": 1,
     "solution": false
    }
   },
   "source": [
    "a) Compute the length, shape and type of the `primes` array, assign them to variables named `primes_len`, `primes_shape` and `primes_type`, respectively, and print them. "
   ]
  },
  {
   "cell_type": "code",
   "execution_count": 8,
   "metadata": {
    "deletable": false,
    "nbgrader": {
     "checksum": "c7e9ab9e899fccdafb47d7807227a4aa",
     "grade": false,
     "grade_id": "cell-dac6fb92701d32f8",
     "locked": false,
     "schema_version": 1,
     "solution": true
    }
   },
   "outputs": [
    {
     "name": "stdout",
     "output_type": "stream",
     "text": [
      "4\n",
      "(4, 4)\n",
      "<class 'numpy.ndarray'>\n"
     ]
    }
   ],
   "source": [
    "# YOUR CODE HERE\n",
    "primes_len = len(primes)\n",
    "primes_shape = numpy.shape(primes)\n",
    "primes_type = type(primes)\n",
    "print(primes_len)\n",
    "print(primes_shape)\n",
    "print(primes_type)"
   ]
  },
  {
   "cell_type": "code",
   "execution_count": null,
   "metadata": {
    "deletable": false,
    "editable": false,
    "nbgrader": {
     "checksum": "2c704de4fad4b5bf6f73a883fa23ff3d",
     "grade": true,
     "grade_id": "1-a",
     "locked": true,
     "points": 7,
     "schema_version": 1,
     "solution": false
    }
   },
   "outputs": [],
   "source": []
  },
  {
   "cell_type": "markdown",
   "metadata": {
    "deletable": false,
    "editable": false,
    "nbgrader": {
     "checksum": "658d09fbb5ff4da52468c7d28194f819",
     "grade": false,
     "grade_id": "cell-0b0017692ac8e097",
     "locked": true,
     "schema_version": 1,
     "solution": false
    }
   },
   "source": [
    "b) Using `[]`, access the first element of the third column, asssign it to a variable named `var_1`, and print the value of `var_1`. "
   ]
  },
  {
   "cell_type": "code",
   "execution_count": 9,
   "metadata": {
    "deletable": false,
    "nbgrader": {
     "checksum": "66ea5b3ed51d86338a3e94520f6f3460",
     "grade": false,
     "grade_id": "cell-41297ba6bdb2d28b",
     "locked": false,
     "schema_version": 1,
     "solution": true
    }
   },
   "outputs": [
    {
     "name": "stdout",
     "output_type": "stream",
     "text": [
      "41\n"
     ]
    }
   ],
   "source": [
    "# YOUR CODE HERE\n",
    "var_1 = primes[0][2]\n",
    "print(var_1)"
   ]
  },
  {
   "cell_type": "code",
   "execution_count": null,
   "metadata": {
    "deletable": false,
    "editable": false,
    "nbgrader": {
     "checksum": "f30166195833711198c5a1181925ffb1",
     "grade": true,
     "grade_id": "1-b",
     "locked": true,
     "points": 7,
     "schema_version": 1,
     "solution": false
    }
   },
   "outputs": [],
   "source": []
  },
  {
   "cell_type": "markdown",
   "metadata": {
    "deletable": false,
    "editable": false,
    "nbgrader": {
     "checksum": "dad71cb233cccafd9f4efeb6060ccf93",
     "grade": false,
     "grade_id": "cell-a0cd4696e356cbf0",
     "locked": true,
     "schema_version": 1,
     "solution": false
    }
   },
   "source": [
    "c) Using `[]`, access the third element of the fourth column, asssign it to a variable named `var_2`, and print the value of `var_2`. "
   ]
  },
  {
   "cell_type": "code",
   "execution_count": 10,
   "metadata": {
    "deletable": false,
    "nbgrader": {
     "checksum": "9851913cf80a6dfb42b75465f5ddf227",
     "grade": false,
     "grade_id": "cell-8bdf881ff9543800",
     "locked": false,
     "schema_version": 1,
     "solution": true
    }
   },
   "outputs": [
    {
     "name": "stdout",
     "output_type": "stream",
     "text": [
      "73\n"
     ]
    }
   ],
   "source": [
    "# YOUR CODE HERE\n",
    "var_2 = primes[2][3]\n",
    "print(var_2)"
   ]
  },
  {
   "cell_type": "code",
   "execution_count": null,
   "metadata": {
    "deletable": false,
    "editable": false,
    "nbgrader": {
     "checksum": "62adef7d26c0120b1496f2c1c03c3ebd",
     "grade": true,
     "grade_id": "1-c",
     "locked": true,
     "points": 7,
     "schema_version": 1,
     "solution": false
    }
   },
   "outputs": [],
   "source": []
  },
  {
   "cell_type": "markdown",
   "metadata": {
    "deletable": false,
    "editable": false,
    "nbgrader": {
     "checksum": "cc7b71b085743ac2b00e2fe11fe78912",
     "grade": false,
     "grade_id": "cell-135113d3c9216ef2",
     "locked": true,
     "schema_version": 1,
     "solution": false
    }
   },
   "source": [
    "d) Using `[]`, access the second element of the second row, asssign it to a variable named `var_3`, and print the value of `var_3`. "
   ]
  },
  {
   "cell_type": "code",
   "execution_count": 11,
   "metadata": {
    "deletable": false,
    "nbgrader": {
     "checksum": "c9a5a538ad7212ca6d5fc47d05ba5e15",
     "grade": false,
     "grade_id": "cell-7fecd2fb2c7d8404",
     "locked": false,
     "schema_version": 1,
     "solution": true
    }
   },
   "outputs": [
    {
     "name": "stdout",
     "output_type": "stream",
     "text": [
      "5\n"
     ]
    }
   ],
   "source": [
    "# YOUR CODE HERE\n",
    "var_3 = primes[1][1]\n",
    "print(var_3)"
   ]
  },
  {
   "cell_type": "code",
   "execution_count": null,
   "metadata": {
    "deletable": false,
    "editable": false,
    "nbgrader": {
     "checksum": "bee06ab3d50b34d482fadd69cdea791a",
     "grade": true,
     "grade_id": "1-d",
     "locked": true,
     "points": 7,
     "schema_version": 1,
     "solution": false
    }
   },
   "outputs": [],
   "source": []
  },
  {
   "cell_type": "markdown",
   "metadata": {
    "deletable": false,
    "editable": false,
    "nbgrader": {
     "checksum": "ff5bfa524354693ecb44e59ced63ff66",
     "grade": false,
     "grade_id": "cell-99163a4266ebca08",
     "locked": true,
     "schema_version": 1,
     "solution": false
    }
   },
   "source": [
    "e) Using `[]`, access the fourth element of the first row, asssign it to a variable named `var_4`, and print the value of `var_4`."
   ]
  },
  {
   "cell_type": "code",
   "execution_count": 12,
   "metadata": {
    "deletable": false,
    "nbgrader": {
     "checksum": "6e4f00b395da85a391e4d074e680cb90",
     "grade": false,
     "grade_id": "cell-897ff2a64afe0f15",
     "locked": false,
     "schema_version": 1,
     "solution": true
    }
   },
   "outputs": [
    {
     "name": "stdout",
     "output_type": "stream",
     "text": [
      "37\n"
     ]
    }
   ],
   "source": [
    "# YOUR CODE HERE\n",
    "var_4 = primes[0][3]\n",
    "print(var_4)"
   ]
  },
  {
   "cell_type": "code",
   "execution_count": null,
   "metadata": {
    "deletable": false,
    "editable": false,
    "nbgrader": {
     "checksum": "35a9cb182194a35c4207f886468d29ef",
     "grade": true,
     "grade_id": "1-e",
     "locked": true,
     "points": 7,
     "schema_version": 1,
     "solution": false
    }
   },
   "outputs": [],
   "source": []
  },
  {
   "cell_type": "markdown",
   "metadata": {
    "deletable": false,
    "editable": false,
    "nbgrader": {
     "checksum": "ae9de4dcd3a044164fb2262779d82ee1",
     "grade": false,
     "grade_id": "cell-b02310e244a52c66",
     "locked": true,
     "schema_version": 1,
     "solution": false
    }
   },
   "source": [
    "# Exercise 2\n",
    "\n",
    "Given the `primes` array, use slicing to solve the following problems."
   ]
  },
  {
   "cell_type": "code",
   "execution_count": 13,
   "metadata": {},
   "outputs": [
    {
     "name": "stdout",
     "output_type": "stream",
     "text": [
      "[[ 2 17 41 37]\n",
      " [ 3  5 11 13]\n",
      " [19 23 61 73]\n",
      " [73 89 47 59]]\n"
     ]
    }
   ],
   "source": [
    "primes = numpy.array([[2, 17, 41, 37], [3, 5, 11, 13], [19, 23, 61, 73], [73, 89, 47, 59]])\n",
    "print(primes)"
   ]
  },
  {
   "cell_type": "markdown",
   "metadata": {
    "deletable": false,
    "editable": false,
    "nbgrader": {
     "checksum": "cea83ffaf7cec818885d289e3a5b42f8",
     "grade": false,
     "grade_id": "cell-f1c19d8058cff8ce",
     "locked": true,
     "schema_version": 1,
     "solution": false
    }
   },
   "source": [
    "a) Grab the second row, assign it to a variable named `second_row`, and print it. "
   ]
  },
  {
   "cell_type": "code",
   "execution_count": 24,
   "metadata": {
    "deletable": false,
    "nbgrader": {
     "checksum": "c88039130dca1ceaefa8913678ff3e0b",
     "grade": false,
     "grade_id": "cell-3995e7497bf0955b",
     "locked": false,
     "schema_version": 1,
     "solution": true
    }
   },
   "outputs": [
    {
     "name": "stdout",
     "output_type": "stream",
     "text": [
      "[ 3  5 11 13]\n"
     ]
    }
   ],
   "source": [
    "# YOUR CODE HERE\n",
    "second_row = primes[1,:]\n",
    "print(second_row)"
   ]
  },
  {
   "cell_type": "code",
   "execution_count": null,
   "metadata": {
    "deletable": false,
    "editable": false,
    "nbgrader": {
     "checksum": "df2a972f39c4cee22dd4e76f567c0ce1",
     "grade": true,
     "grade_id": "2-a",
     "locked": true,
     "points": 8,
     "schema_version": 1,
     "solution": false
    }
   },
   "outputs": [],
   "source": []
  },
  {
   "cell_type": "markdown",
   "metadata": {
    "deletable": false,
    "editable": false,
    "nbgrader": {
     "checksum": "0a74d58d1e01fdf945aa5d199dc89413",
     "grade": false,
     "grade_id": "cell-e6f50f1ec1b7a45e",
     "locked": true,
     "schema_version": 1,
     "solution": false
    }
   },
   "source": [
    "b) Grab the last column, assign it to a variable named `last_column`, and print it."
   ]
  },
  {
   "cell_type": "code",
   "execution_count": 25,
   "metadata": {
    "deletable": false,
    "nbgrader": {
     "checksum": "639b50ad3546ff030b915c2d53984c94",
     "grade": false,
     "grade_id": "cell-989177f64abbebb3",
     "locked": false,
     "schema_version": 1,
     "solution": true
    }
   },
   "outputs": [
    {
     "name": "stdout",
     "output_type": "stream",
     "text": [
      "[37 13 73 59]\n"
     ]
    }
   ],
   "source": [
    "# YOUR CODE HERE\n",
    "last_column = primes[:,3]\n",
    "print(last_column)"
   ]
  },
  {
   "cell_type": "code",
   "execution_count": null,
   "metadata": {
    "deletable": false,
    "editable": false,
    "nbgrader": {
     "checksum": "cd7b764224c8af8e808d1f3e715a1dfd",
     "grade": true,
     "grade_id": "2-b",
     "locked": true,
     "points": 8,
     "schema_version": 1,
     "solution": false
    }
   },
   "outputs": [],
   "source": []
  },
  {
   "cell_type": "markdown",
   "metadata": {
    "deletable": false,
    "editable": false,
    "nbgrader": {
     "checksum": "479698ffc9610714441bdab1684379aa",
     "grade": false,
     "grade_id": "cell-e2cbccd6954453f6",
     "locked": true,
     "schema_version": 1,
     "solution": false
    }
   },
   "source": [
    "c) Grab the slice corresponding to the 2-by-2 top-left block of `primes`, assign it to a variable named `top_left`, and print it."
   ]
  },
  {
   "cell_type": "code",
   "execution_count": 27,
   "metadata": {
    "deletable": false,
    "nbgrader": {
     "checksum": "72b17e3d962c2f2fb09a7d50f55d2fdc",
     "grade": false,
     "grade_id": "cell-9c87bb348d098654",
     "locked": false,
     "schema_version": 1,
     "solution": true
    }
   },
   "outputs": [
    {
     "name": "stdout",
     "output_type": "stream",
     "text": [
      "[[ 2 17]\n",
      " [ 3  5]]\n"
     ]
    }
   ],
   "source": [
    "# YOUR CODE HERE\n",
    "top_left = primes[0:2,0:2]\n",
    "print(top_left)"
   ]
  },
  {
   "cell_type": "code",
   "execution_count": null,
   "metadata": {
    "deletable": false,
    "editable": false,
    "nbgrader": {
     "checksum": "b9bf49fc3c92b646d69b686f13bb309c",
     "grade": true,
     "grade_id": "2-c",
     "locked": true,
     "points": 8,
     "schema_version": 1,
     "solution": false
    }
   },
   "outputs": [],
   "source": []
  },
  {
   "cell_type": "markdown",
   "metadata": {
    "deletable": false,
    "editable": false,
    "nbgrader": {
     "checksum": "5c5bda768e303296c77c5420376acbae",
     "grade": false,
     "grade_id": "cell-c01ac73107ca7d4c",
     "locked": true,
     "schema_version": 1,
     "solution": false
    }
   },
   "source": [
    "d) Grab the slice corresponding to the 2-by-2 bottom-right block of `primes`, assign it to a variable named `bot_right`, and print it."
   ]
  },
  {
   "cell_type": "code",
   "execution_count": 28,
   "metadata": {
    "deletable": false,
    "nbgrader": {
     "checksum": "32327ce14b5d4ae6688a02e86574eade",
     "grade": false,
     "grade_id": "cell-aba7af9539153771",
     "locked": false,
     "schema_version": 1,
     "solution": true
    }
   },
   "outputs": [
    {
     "name": "stdout",
     "output_type": "stream",
     "text": [
      "[[61 73]\n",
      " [47 59]]\n"
     ]
    }
   ],
   "source": [
    "# YOUR CODE HERE\n",
    "bot_right = primes[-2:,-2:]\n",
    "print(bot_right)"
   ]
  },
  {
   "cell_type": "code",
   "execution_count": null,
   "metadata": {
    "deletable": false,
    "editable": false,
    "nbgrader": {
     "checksum": "0d5cec2d917961df2843d76929957cb1",
     "grade": true,
     "grade_id": "2-d",
     "locked": true,
     "points": 8,
     "schema_version": 1,
     "solution": false
    }
   },
   "outputs": [],
   "source": []
  },
  {
   "cell_type": "markdown",
   "metadata": {
    "deletable": false,
    "editable": false,
    "nbgrader": {
     "checksum": "ef195dc76d69fe3e022627c35b53ee92",
     "grade": false,
     "grade_id": "cell-77aaf78b399fe911",
     "locked": true,
     "schema_version": 1,
     "solution": false
    }
   },
   "source": [
    "e) Grab the slice that corresponds to all the elements except the first row and last column, assign it to a variable named `corner`, and print it. "
   ]
  },
  {
   "cell_type": "code",
   "execution_count": 30,
   "metadata": {
    "deletable": false,
    "nbgrader": {
     "checksum": "c6554bb94cc81fa826509b0ad3503951",
     "grade": false,
     "grade_id": "cell-9c489a67f4336f15",
     "locked": false,
     "schema_version": 1,
     "solution": true
    }
   },
   "outputs": [
    {
     "name": "stdout",
     "output_type": "stream",
     "text": [
      "[[ 3  5 11]\n",
      " [19 23 61]\n",
      " [73 89 47]]\n"
     ]
    }
   ],
   "source": [
    "# YOUR CODE HERE\n",
    "corner = primes[1:,:-1]\n",
    "print(corner)"
   ]
  },
  {
   "cell_type": "code",
   "execution_count": null,
   "metadata": {
    "deletable": false,
    "editable": false,
    "nbgrader": {
     "checksum": "15f0e7269c4225f6cdd71f116cf66ce4",
     "grade": true,
     "grade_id": "2-e",
     "locked": true,
     "points": 8,
     "schema_version": 1,
     "solution": false
    }
   },
   "outputs": [],
   "source": []
  },
  {
   "cell_type": "markdown",
   "metadata": {
    "deletable": false,
    "editable": false,
    "nbgrader": {
     "checksum": "0fae9974c98d96dea7e311ad8732fb19",
     "grade": false,
     "grade_id": "cell-388c53629bd5d224",
     "locked": true,
     "schema_version": 1,
     "solution": false
    }
   },
   "source": [
    "f) Grab the slice corresponding to the 2-by-2 bottom-left block of `primes`, assign it to a variable named `bot_left`. Grab the slice that corresponds to the four elements in the top-right block, assign it to a variable named `top_right`. Create a new variable named `sum_mat` that is the result of adding `bot_left` and `top_right`, and finally print `sum_mat`.  "
   ]
  },
  {
   "cell_type": "code",
   "execution_count": 31,
   "metadata": {
    "deletable": false,
    "nbgrader": {
     "checksum": "a055e3250141d04fbd5709071372c64d",
     "grade": false,
     "grade_id": "cell-8069899cf265f543",
     "locked": false,
     "schema_version": 1,
     "solution": true
    }
   },
   "outputs": [
    {
     "name": "stdout",
     "output_type": "stream",
     "text": [
      "[[ 60  60]\n",
      " [ 84 102]]\n"
     ]
    }
   ],
   "source": [
    "# YOUR CODE HERE\n",
    "bot_left = primes[-2:,0:2]\n",
    "top_right = primes[0:2,-2:]\n",
    "sum_mat = bot_left + top_right\n",
    "print(sum_mat)"
   ]
  },
  {
   "cell_type": "code",
   "execution_count": null,
   "metadata": {
    "deletable": false,
    "editable": false,
    "nbgrader": {
     "checksum": "c88b9287c1f498cee0381e387de540ef",
     "grade": true,
     "grade_id": "2-f",
     "locked": true,
     "points": 10,
     "schema_version": 1,
     "solution": false
    }
   },
   "outputs": [],
   "source": []
  },
  {
   "cell_type": "markdown",
   "metadata": {
    "deletable": false,
    "editable": false,
    "nbgrader": {
     "checksum": "22823b2418af5a0c1e6f1cfb36a0aa7c",
     "grade": false,
     "grade_id": "cell-bd887810fb836a6f",
     "locked": true,
     "schema_version": 1,
     "solution": false
    }
   },
   "source": [
    "# Exercise 3"
   ]
  },
  {
   "cell_type": "markdown",
   "metadata": {
    "deletable": false,
    "editable": false,
    "nbgrader": {
     "checksum": "992c5938fa227d3f180671f2249ab6e5",
     "grade": false,
     "grade_id": "cell-190f543539ac18a9",
     "locked": true,
     "schema_version": 1,
     "solution": false
    }
   },
   "source": [
    "a) Using `numpy.linspace()` create an array with 51 elements that go from  `-3` to `3`, and assign it to a variable named `x`. "
   ]
  },
  {
   "cell_type": "code",
   "execution_count": 34,
   "metadata": {
    "deletable": false,
    "nbgrader": {
     "checksum": "7ce20620e13bce42ba574f0250c65b1b",
     "grade": false,
     "grade_id": "cell-a6d5eb3329361392",
     "locked": false,
     "schema_version": 1,
     "solution": true
    }
   },
   "outputs": [],
   "source": [
    "# YOUR CODE HERE\n",
    "x = numpy.linspace(-3,3,51)"
   ]
  },
  {
   "cell_type": "code",
   "execution_count": null,
   "metadata": {
    "deletable": false,
    "editable": false,
    "nbgrader": {
     "checksum": "39b116b4b71fc6946eb4a00dfc893241",
     "grade": true,
     "grade_id": "3-a",
     "locked": true,
     "points": 5,
     "schema_version": 1,
     "solution": false
    }
   },
   "outputs": [],
   "source": []
  },
  {
   "cell_type": "markdown",
   "metadata": {
    "deletable": false,
    "editable": false,
    "nbgrader": {
     "checksum": "67d4af2a6900a0431b44241b685e7a2f",
     "grade": false,
     "grade_id": "cell-48d9ffd73032ec9c",
     "locked": true,
     "schema_version": 1,
     "solution": false
    }
   },
   "source": [
    "b) Create an array named `y_pos` that results from the following operation:\n",
    "\n",
    "\\begin{equation}\n",
    "    y_{pos} = \\sqrt{R^2 - x^2}\n",
    "\\end{equation}\n",
    "\n",
    "\n",
    "where `R=3`.  \n",
    "\n",
    "*Tip:* \n",
    "For the square root use the `numpy` function `numpy.sqrt()`. "
   ]
  },
  {
   "cell_type": "code",
   "execution_count": 37,
   "metadata": {
    "deletable": false,
    "nbgrader": {
     "checksum": "b018c9f37965e6d9ff15e803bb2663be",
     "grade": false,
     "grade_id": "cell-09bdae50c56cc60a",
     "locked": false,
     "schema_version": 1,
     "solution": true
    }
   },
   "outputs": [],
   "source": [
    "# YOUR CODE HERE\n",
    "R = 3\n",
    "y_pos = numpy.sqrt(R**2 - x**2)"
   ]
  },
  {
   "cell_type": "code",
   "execution_count": null,
   "metadata": {
    "deletable": false,
    "editable": false,
    "nbgrader": {
     "checksum": "2530bb20778d9492f54ec60080cfa3ba",
     "grade": true,
     "grade_id": "3-b",
     "locked": true,
     "points": 10,
     "schema_version": 1,
     "solution": false
    }
   },
   "outputs": [],
   "source": []
  },
  {
   "cell_type": "markdown",
   "metadata": {
    "deletable": false,
    "editable": false,
    "nbgrader": {
     "checksum": "d1fa13038911308c473a2a84ede58bb2",
     "grade": false,
     "grade_id": "cell-fe083de227feaf9e",
     "locked": true,
     "schema_version": 1,
     "solution": false
    }
   },
   "source": [
    "## Remember!!\n",
    "\n",
    "Before you turn this problem in, make sure everything runs as expected. First, restart the kernel (in the menubar, select Kernel→→Restart) and then run all cells (in the menubar, select Cell→→Run All).\n",
    "\n",
    "Make sure you filled in any place that says YOUR CODE HERE or \"YOUR ANSWER HERE\", as well as your name at the beggining of the notebook.\n"
   ]
  }
 ],
 "metadata": {
  "kernelspec": {
   "display_name": "Python 3",
   "language": "python",
   "name": "python3"
  },
  "language_info": {
   "codemirror_mode": {
    "name": "ipython",
    "version": 3
   },
   "file_extension": ".py",
   "mimetype": "text/x-python",
   "name": "python",
   "nbconvert_exporter": "python",
   "pygments_lexer": "ipython3",
   "version": "3.7.3"
  }
 },
 "nbformat": 4,
 "nbformat_minor": 2
}
