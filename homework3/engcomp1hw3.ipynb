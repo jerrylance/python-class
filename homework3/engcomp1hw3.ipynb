{
 "cells": [
  {
   "cell_type": "markdown",
   "metadata": {
    "collapsed": true,
    "deletable": false,
    "editable": false,
    "nbgrader": {
     "checksum": "62449ca3982836f1ae3726f18db90043",
     "grade": false,
     "grade_id": "cell-472b7625744398a3",
     "locked": true,
     "schema_version": 1,
     "solution": false
    }
   },
   "source": [
    "Before you turn in this homework, make sure everything runs as expected. First, **restart the kernel** (in the menubar, select Kernel$\\rightarrow$Restart) and then **run all cells** (in the menubar, select Cell$\\rightarrow$Run All).\n",
    "\n",
    "Make sure you execute every single code cell, in order, filling with your solutions in any place that says `YOUR CODE HERE`, and always DELETE the line that says:\n",
    "\n",
    "```python\n",
    "raise NotImplementedError()\n",
    "```\n",
    "The purpose of this line is to tell you if you forgot to answer a question (it will throw an error if the line is there)\n",
    "\n",
    "**IMPORTANT**: DO NOT DELETE ANY CELL.\n",
    "\n",
    "Fill your name below:"
   ]
  },
  {
   "cell_type": "code",
   "execution_count": 1,
   "metadata": {},
   "outputs": [],
   "source": [
    "NAME = \"Zeyu Liu\""
   ]
  },
  {
   "cell_type": "markdown",
   "metadata": {
    "deletable": false,
    "editable": false,
    "nbgrader": {
     "checksum": "6512be1515b4d4250230435409caa9e0",
     "grade": false,
     "grade_id": "cell-e84f880b6c657df0",
     "locked": true,
     "schema_version": 1,
     "solution": false
    }
   },
   "source": [
    "## Exercise 1"
   ]
  },
  {
   "cell_type": "markdown",
   "metadata": {
    "deletable": false,
    "editable": false,
    "nbgrader": {
     "checksum": "d1e3980e49e3e6e8220e74599301cbd6",
     "grade": false,
     "grade_id": "cell-e31523e718ed995e",
     "locked": true,
     "schema_version": 1,
     "solution": false
    }
   },
   "source": [
    "Accessing values of a list and slicing strings. Given the list named `pizzas`:"
   ]
  },
  {
   "cell_type": "code",
   "execution_count": 2,
   "metadata": {},
   "outputs": [],
   "source": [
    "pizzas = ['cheese', 'pepperoni', 'margherita', 'hawaiian', 'italian sausage', 'green peppers and onions']"
   ]
  },
  {
   "cell_type": "markdown",
   "metadata": {
    "deletable": false,
    "editable": false,
    "nbgrader": {
     "checksum": "b88e361f695646000d7e372d10bdbefa",
     "grade": false,
     "grade_id": "cell-6ba9a2aa1a6b94df",
     "locked": true,
     "schema_version": 1,
     "solution": false
    }
   },
   "source": [
    "a) Grab the first flavor, assign the value to a variable named `first_flavor`, and print it."
   ]
  },
  {
   "cell_type": "code",
   "execution_count": 3,
   "metadata": {
    "deletable": false,
    "nbgrader": {
     "checksum": "c9bbe4b0155e4573f7f21a770a3f320f",
     "grade": false,
     "grade_id": "cell-ede26ce490ebac09",
     "locked": false,
     "schema_version": 1,
     "solution": true
    }
   },
   "outputs": [
    {
     "name": "stdout",
     "output_type": "stream",
     "text": [
      "cheese\n"
     ]
    }
   ],
   "source": [
    "# YOUR CODE HERE\n",
    "first_flavor = pizzas[0]\n",
    "print(first_flavor)"
   ]
  },
  {
   "cell_type": "code",
   "execution_count": null,
   "metadata": {
    "deletable": false,
    "editable": false,
    "nbgrader": {
     "checksum": "f620a0645bdabc52b5f047108143365a",
     "grade": true,
     "grade_id": "1-a",
     "locked": true,
     "points": 10,
     "schema_version": 1,
     "solution": false
    }
   },
   "outputs": [],
   "source": []
  },
  {
   "cell_type": "markdown",
   "metadata": {
    "deletable": false,
    "editable": false,
    "nbgrader": {
     "checksum": "5c63d6a5b5d364cfc12aada679983907",
     "grade": false,
     "grade_id": "cell-c76d560c2afd7e69",
     "locked": true,
     "schema_version": 1,
     "solution": false
    }
   },
   "source": [
    "b) Grab the last flavor, assign the value to a variable named `last_flavor`, and print it."
   ]
  },
  {
   "cell_type": "code",
   "execution_count": 4,
   "metadata": {
    "deletable": false,
    "nbgrader": {
     "checksum": "c9d2cbdc30cb4437c0ef15141f5eec14",
     "grade": false,
     "grade_id": "cell-dba4dd52be113dd9",
     "locked": false,
     "schema_version": 1,
     "solution": true
    }
   },
   "outputs": [
    {
     "name": "stdout",
     "output_type": "stream",
     "text": [
      "green peppers and onions\n"
     ]
    }
   ],
   "source": [
    "# YOUR CODE HERE\n",
    "last_flavor = pizzas[-1]\n",
    "print(last_flavor)"
   ]
  },
  {
   "cell_type": "code",
   "execution_count": null,
   "metadata": {
    "deletable": false,
    "editable": false,
    "nbgrader": {
     "checksum": "6a7553049459c62432902d630ef2f2b2",
     "grade": true,
     "grade_id": "1-b",
     "locked": true,
     "points": 10,
     "schema_version": 1,
     "solution": false
    }
   },
   "outputs": [],
   "source": []
  },
  {
   "cell_type": "markdown",
   "metadata": {
    "deletable": false,
    "editable": false,
    "nbgrader": {
     "checksum": "7ce83cd26a47ddadcbf8493af6d14dc1",
     "grade": false,
     "grade_id": "cell-be6155f5f7447456",
     "locked": true,
     "schema_version": 1,
     "solution": false
    }
   },
   "source": [
    "c) Access the element of the pizza lis that corresponds to `'pepperoni'`, replace it for `'mushroom'`, and print the `pizzas` list."
   ]
  },
  {
   "cell_type": "code",
   "execution_count": 5,
   "metadata": {
    "deletable": false,
    "nbgrader": {
     "checksum": "12903675c04626bfde46f47ac950bbd8",
     "grade": false,
     "grade_id": "cell-5c5f50b8a5ce18aa",
     "locked": false,
     "schema_version": 1,
     "solution": true
    }
   },
   "outputs": [
    {
     "name": "stdout",
     "output_type": "stream",
     "text": [
      "['cheese', 'mushroom', 'margherita', 'hawaiian', 'italian sausage', 'green peppers and onions']\n"
     ]
    }
   ],
   "source": [
    "# YOUR CODE HERE\n",
    "pizzas[pizzas.index('pepperoni')] = 'mushroom'\n",
    "print(pizzas)"
   ]
  },
  {
   "cell_type": "code",
   "execution_count": null,
   "metadata": {
    "deletable": false,
    "editable": false,
    "nbgrader": {
     "checksum": "d80ce1a960d1439c731a45e4eeec8d17",
     "grade": true,
     "grade_id": "1-c",
     "locked": true,
     "points": 10,
     "schema_version": 1,
     "solution": false
    }
   },
   "outputs": [],
   "source": []
  },
  {
   "cell_type": "markdown",
   "metadata": {
    "deletable": false,
    "editable": false,
    "nbgrader": {
     "checksum": "ad756c26e6e26b1c6be2b094b92cf704",
     "grade": false,
     "grade_id": "cell-dfadde43cf66c765",
     "locked": true,
     "schema_version": 1,
     "solution": false
    }
   },
   "source": [
    "d) By using slicing, grab the sub-list that contains all the options except the first one and the last one, assign the result to a variable name `less_pizzas`, and print it. "
   ]
  },
  {
   "cell_type": "code",
   "execution_count": 6,
   "metadata": {
    "deletable": false,
    "nbgrader": {
     "checksum": "dc7dfa045401e3abb2244d44d53f7953",
     "grade": false,
     "grade_id": "cell-8fc88fcc19719080",
     "locked": false,
     "schema_version": 1,
     "solution": true
    }
   },
   "outputs": [
    {
     "name": "stdout",
     "output_type": "stream",
     "text": [
      "['mushroom', 'margherita', 'hawaiian', 'italian sausage']\n"
     ]
    }
   ],
   "source": [
    "# YOUR CODE HERE\n",
    "less_pizzas = pizzas[1:-1]\n",
    "print(less_pizzas)"
   ]
  },
  {
   "cell_type": "code",
   "execution_count": null,
   "metadata": {
    "deletable": false,
    "editable": false,
    "nbgrader": {
     "checksum": "2c1d246362d3d086bc6937e4bc8c7f8d",
     "grade": true,
     "grade_id": "1-d",
     "locked": true,
     "points": 10,
     "schema_version": 1,
     "solution": false
    }
   },
   "outputs": [],
   "source": []
  },
  {
   "cell_type": "markdown",
   "metadata": {
    "deletable": false,
    "editable": false,
    "nbgrader": {
     "checksum": "6d11b74febe88f85166b0704cc8d715b",
     "grade": false,
     "grade_id": "cell-ae3de84019984252",
     "locked": true,
     "schema_version": 1,
     "solution": false
    }
   },
   "source": [
    "## Exercise 2"
   ]
  },
  {
   "cell_type": "markdown",
   "metadata": {
    "deletable": false,
    "editable": false,
    "nbgrader": {
     "checksum": "aad2229e8150ae3b048a469710b76f2d",
     "grade": false,
     "grade_id": "cell-87d50d28de65aa75",
     "locked": true,
     "schema_version": 1,
     "solution": false
    }
   },
   "source": [
    "Lists inside lists: accessing and appending values. Given the list named `pizzas_prices`."
   ]
  },
  {
   "cell_type": "code",
   "execution_count": 7,
   "metadata": {},
   "outputs": [],
   "source": [
    "pizzas_prices = [['cheese', 9], ['mushroom', 10.5], ['margherita', 8], ['hawaiian', 13]]"
   ]
  },
  {
   "cell_type": "markdown",
   "metadata": {
    "deletable": false,
    "editable": false,
    "nbgrader": {
     "checksum": "3759d885ada8b9c0824b9282b99605c1",
     "grade": false,
     "grade_id": "cell-e7e1d182e0e47511",
     "locked": true,
     "schema_version": 1,
     "solution": false
    }
   },
   "source": [
    "a)  Grab the first element, assign the value to a variable named `option_1`, and print it."
   ]
  },
  {
   "cell_type": "code",
   "execution_count": 8,
   "metadata": {
    "deletable": false,
    "nbgrader": {
     "checksum": "f53a9b704648fb8ff9ac649cdce397c3",
     "grade": false,
     "grade_id": "cell-e5bec6f2d261e615",
     "locked": false,
     "schema_version": 1,
     "solution": true
    }
   },
   "outputs": [
    {
     "name": "stdout",
     "output_type": "stream",
     "text": [
      "['cheese', 9]\n"
     ]
    }
   ],
   "source": [
    "# YOUR CODE HERE\n",
    "option_1 = pizzas_prices[0]\n",
    "print(option_1)"
   ]
  },
  {
   "cell_type": "code",
   "execution_count": null,
   "metadata": {
    "deletable": false,
    "editable": false,
    "nbgrader": {
     "checksum": "d66fa6b736db31c6fe5653770c1dc516",
     "grade": true,
     "grade_id": "2-a",
     "locked": true,
     "points": 10,
     "schema_version": 1,
     "solution": false
    }
   },
   "outputs": [],
   "source": []
  },
  {
   "cell_type": "markdown",
   "metadata": {
    "deletable": false,
    "editable": false,
    "nbgrader": {
     "checksum": "a259a72ee3b4fbf20c8094c3a12bcb6f",
     "grade": false,
     "grade_id": "cell-762700d2e71d90be",
     "locked": true,
     "schema_version": 1,
     "solution": false
    }
   },
   "source": [
    "b) Grab the last element, assign the value to a variable named `option_2`, and print it."
   ]
  },
  {
   "cell_type": "code",
   "execution_count": 9,
   "metadata": {
    "deletable": false,
    "nbgrader": {
     "checksum": "eb2994ef0de584d91026931623066a00",
     "grade": false,
     "grade_id": "cell-fda805bd11b48418",
     "locked": false,
     "schema_version": 1,
     "solution": true
    }
   },
   "outputs": [
    {
     "name": "stdout",
     "output_type": "stream",
     "text": [
      "['hawaiian', 13]\n"
     ]
    }
   ],
   "source": [
    "# YOUR CODE HERE\n",
    "option_2 = pizzas_prices[-1]\n",
    "print(option_2)"
   ]
  },
  {
   "cell_type": "code",
   "execution_count": null,
   "metadata": {
    "deletable": false,
    "editable": false,
    "nbgrader": {
     "checksum": "fc5e22f311d6bfd64e024d25089de551",
     "grade": true,
     "grade_id": "2-b",
     "locked": true,
     "points": 10,
     "schema_version": 1,
     "solution": false
    }
   },
   "outputs": [],
   "source": []
  },
  {
   "cell_type": "markdown",
   "metadata": {
    "deletable": false,
    "editable": false,
    "nbgrader": {
     "checksum": "48975b463301c216cf8649d7c9f62f39",
     "grade": false,
     "grade_id": "cell-733cfaa5e2732ee8",
     "locked": true,
     "schema_version": 1,
     "solution": false
    }
   },
   "source": [
    "c) From `option_1` and `option_2` that you created in the previous exercise, grab the price value of each of them, assign the values to `cheese_price` and `hawaiian_price` respectively, and print them."
   ]
  },
  {
   "cell_type": "code",
   "execution_count": 10,
   "metadata": {
    "deletable": false,
    "nbgrader": {
     "checksum": "c88d3905258a888b98a1a27136d27307",
     "grade": false,
     "grade_id": "cell-e69a083de93fdeef",
     "locked": false,
     "schema_version": 1,
     "solution": true
    }
   },
   "outputs": [
    {
     "name": "stdout",
     "output_type": "stream",
     "text": [
      "9\n",
      "13\n"
     ]
    }
   ],
   "source": [
    "# YOUR CODE HERE\n",
    "cheese_price = option_1[1]\n",
    "hawaiian_price = option_2[1]\n",
    "print(cheese_price)\n",
    "print(hawaiian_price)"
   ]
  },
  {
   "cell_type": "code",
   "execution_count": null,
   "metadata": {
    "deletable": false,
    "editable": false,
    "nbgrader": {
     "checksum": "af7aa4045d5482e3807c093b011665dc",
     "grade": true,
     "grade_id": "2-c",
     "locked": true,
     "points": 10,
     "schema_version": 1,
     "solution": false
    }
   },
   "outputs": [],
   "source": []
  },
  {
   "cell_type": "markdown",
   "metadata": {
    "deletable": false,
    "editable": false,
    "nbgrader": {
     "checksum": "5dce1e609baef6546fecdbd28643d38f",
     "grade": false,
     "grade_id": "cell-e1802ffca1913d4b",
     "locked": true,
     "schema_version": 1,
     "solution": false
    }
   },
   "source": [
    "## Exercise 3"
   ]
  },
  {
   "cell_type": "markdown",
   "metadata": {
    "deletable": false,
    "editable": false,
    "nbgrader": {
     "checksum": "49f0bdb496b3916ffb1cb09970304ce5",
     "grade": false,
     "grade_id": "cell-81b3b25be8529fa6",
     "locked": true,
     "schema_version": 1,
     "solution": false
    }
   },
   "source": [
    "Given the list named `new_pizzas`"
   ]
  },
  {
   "cell_type": "code",
   "execution_count": 11,
   "metadata": {},
   "outputs": [],
   "source": [
    "new_pizzas = ['cheese', 'pepperoni', 'margherita', 'hawaiian', 'italian sausage', 'green peppers and onions']"
   ]
  },
  {
   "cell_type": "markdown",
   "metadata": {
    "deletable": false,
    "editable": false,
    "nbgrader": {
     "checksum": "253e90957b4c425871fba3901d197f15",
     "grade": false,
     "grade_id": "cell-5082c55686fbc4fd",
     "locked": true,
     "schema_version": 1,
     "solution": false
    }
   },
   "source": [
    "a) Use a list method that lets you add a new flavour to add `'spinach and feta'` to the end of the list."
   ]
  },
  {
   "cell_type": "code",
   "execution_count": 12,
   "metadata": {
    "deletable": false,
    "nbgrader": {
     "checksum": "defa720aae89032d7ecff8a7236cafc0",
     "grade": false,
     "grade_id": "cell-fbe65e3c84a33088",
     "locked": false,
     "schema_version": 1,
     "solution": true
    }
   },
   "outputs": [],
   "source": [
    "# YOUR CODE HERE\n",
    "new_pizzas.append('spinach and feta')"
   ]
  },
  {
   "cell_type": "code",
   "execution_count": null,
   "metadata": {
    "deletable": false,
    "editable": false,
    "nbgrader": {
     "checksum": "add680b4e43ec0e400c186fa68e12990",
     "grade": true,
     "grade_id": "3-a",
     "locked": true,
     "points": 10,
     "schema_version": 1,
     "solution": false
    }
   },
   "outputs": [],
   "source": []
  },
  {
   "cell_type": "markdown",
   "metadata": {
    "deletable": false,
    "editable": false,
    "nbgrader": {
     "checksum": "d10683451c931c454c333d934bc15b92",
     "grade": false,
     "grade_id": "cell-f59439daa7c49a1c",
     "locked": true,
     "schema_version": 1,
     "solution": false
    }
   },
   "source": [
    "b) Grab the element with value `'italian sausage'` from the list `new_pizzas`, assign it to a variable named `my_pizza`. "
   ]
  },
  {
   "cell_type": "code",
   "execution_count": 13,
   "metadata": {
    "deletable": false,
    "nbgrader": {
     "checksum": "7a70d01a202ef70ce91381af79425d1f",
     "grade": false,
     "grade_id": "cell-3e2b6cc285106205",
     "locked": false,
     "schema_version": 1,
     "solution": true
    }
   },
   "outputs": [],
   "source": [
    "# YOUR CODE HERE\n",
    "my_pizza = new_pizzas[new_pizzas.index('italian sausage')]"
   ]
  },
  {
   "cell_type": "code",
   "execution_count": null,
   "metadata": {
    "deletable": false,
    "editable": false,
    "nbgrader": {
     "checksum": "2530bb20778d9492f54ec60080cfa3ba",
     "grade": true,
     "grade_id": "3-b",
     "locked": true,
     "points": 10,
     "schema_version": 1,
     "solution": false
    }
   },
   "outputs": [],
   "source": []
  },
  {
   "cell_type": "markdown",
   "metadata": {
    "deletable": false,
    "editable": false,
    "nbgrader": {
     "checksum": "c9cc4c81275daf1fe21aae11b17107b2",
     "grade": false,
     "grade_id": "cell-b006181bc47343fc",
     "locked": true,
     "schema_version": 1,
     "solution": false
    }
   },
   "source": [
    "c) From the variable `my_pizza` grab the slice that corresponds to `'italian'` and the slice that corresponds to `'sausage'` (be careful, don't include spaces), assign them to variables named `word_1` and `word_2` respectively, and print them."
   ]
  },
  {
   "cell_type": "code",
   "execution_count": 14,
   "metadata": {
    "deletable": false,
    "nbgrader": {
     "checksum": "0ac532d2716e1d67ae33041275d01aec",
     "grade": false,
     "grade_id": "cell-5227a78a8737c8cc",
     "locked": false,
     "schema_version": 1,
     "solution": true
    }
   },
   "outputs": [
    {
     "name": "stdout",
     "output_type": "stream",
     "text": [
      "italian\n",
      "sausage\n"
     ]
    }
   ],
   "source": [
    "# YOUR CODE HERE\n",
    "my_pizza = my_pizza.split(' ')\n",
    "word_1 = my_pizza[0]\n",
    "word_2 = my_pizza[1]\n",
    "print(word_1)\n",
    "print(word_2)"
   ]
  },
  {
   "cell_type": "code",
   "execution_count": null,
   "metadata": {
    "deletable": false,
    "editable": false,
    "nbgrader": {
     "checksum": "d2bda1eb6a67b57b08b6c98caca22c80",
     "grade": true,
     "grade_id": "3-c",
     "locked": true,
     "points": 10,
     "schema_version": 1,
     "solution": false
    }
   },
   "outputs": [],
   "source": []
  },
  {
   "cell_type": "markdown",
   "metadata": {
    "deletable": false,
    "editable": false,
    "nbgrader": {
     "checksum": "9435eec1e6d416c9b9bde47817188853",
     "grade": false,
     "grade_id": "cell-c515bcbdd705f1cf",
     "locked": true,
     "schema_version": 1,
     "solution": false
    }
   },
   "source": [
    "## Remember!!\n",
    "\n",
    "Before you turn this problem in, make sure everything runs as expected. First, restart the kernel (in the menubar, select Kernel→→Restart) and then run all cells (in the menubar, select Cell→→Run All).\n",
    "\n",
    "Make sure you filled in any place that says YOUR CODE HERE or \"YOUR ANSWER HERE\", as well as your name at the beggining of the notebook.\n"
   ]
  }
 ],
 "metadata": {
  "kernelspec": {
   "display_name": "Python 3",
   "language": "python",
   "name": "python3"
  },
  "language_info": {
   "codemirror_mode": {
    "name": "ipython",
    "version": 3
   },
   "file_extension": ".py",
   "mimetype": "text/x-python",
   "name": "python",
   "nbconvert_exporter": "python",
   "pygments_lexer": "ipython3",
   "version": "3.7.3"
  }
 },
 "nbformat": 4,
 "nbformat_minor": 2
}
