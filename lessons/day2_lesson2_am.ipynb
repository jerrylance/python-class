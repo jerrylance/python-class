{
 "cells": [
  {
   "cell_type": "code",
   "execution_count": 10,
   "metadata": {},
   "outputs": [
    {
     "name": "stdout",
     "output_type": "stream",
     "text": [
      "BIGDATA: Collaborative Research: F: Nomadic Algorithms for Machine Learning in the Cloud; Award Number:1546459; Principal Investigator:Manfred Warmuth; Co-Principal Investigator:; Organization:University of California-Santa Cruz;NSF Organization:IIS Start Date:01/01/2016; Award Amount:$596,326.00; Relevance:48.0;\n"
     ]
    }
   ],
   "source": [
    "grant = \"BIGDATA: Collaborative Research: F: Nomadic Algorithms for Machine Learning in the Cloud; Award Number:1546459; Principal Investigator:Manfred Warmuth; Co-Principal Investigator:; Organization:University of California-Santa Cruz;NSF Organization:IIS Start Date:01/01/2016; Award Amount:$596,326.00; Relevance:48.0;\"\n",
    "print(grant)"
   ]
  },
  {
   "cell_type": "markdown",
   "metadata": {},
   "source": [
    "## Day2 "
   ]
  },
  {
   "cell_type": "markdown",
   "metadata": {},
   "source": [
    "## Refresher exercise"
   ]
  },
  {
   "cell_type": "code",
   "execution_count": 11,
   "metadata": {},
   "outputs": [
    {
     "name": "stdout",
     "output_type": "stream",
     "text": [
      "['BIGDATA: Collaborative Research: F: Nomadic Algorithms for Machine Learning in the Cloud', ' Award Number:1546459', ' Principal Investigator:Manfred Warmuth', ' Co-Principal Investigator:', ' Organization:University of California-Santa Cruz', 'NSF Organization:IIS Start Date:01/01/2016', ' Award Amount:$596,326.00', ' Relevance:48.0', '']\n"
     ]
    }
   ],
   "source": [
    "grant_info = grant.split(';')\n",
    "print(grant_info)"
   ]
  },
  {
   "cell_type": "code",
   "execution_count": 12,
   "metadata": {},
   "outputs": [
    {
     "data": {
      "text/plain": [
       "9"
      ]
     },
     "execution_count": 12,
     "metadata": {},
     "output_type": "execute_result"
    }
   ],
   "source": [
    "len(grant_info)"
   ]
  },
  {
   "cell_type": "code",
   "execution_count": 13,
   "metadata": {},
   "outputs": [
    {
     "name": "stdout",
     "output_type": "stream",
     "text": [
      " Award Amount:$596,326.00\n"
     ]
    }
   ],
   "source": [
    "amount = grant_info[-3]\n",
    "print(amount)"
   ]
  },
  {
   "cell_type": "code",
   "execution_count": 15,
   "metadata": {},
   "outputs": [
    {
     "name": "stdout",
     "output_type": "stream",
     "text": [
      "$596,326.00\n"
     ]
    }
   ],
   "source": [
    "dollars = amount.split(':')[1]\n",
    "print(dollars)"
   ]
  },
  {
   "cell_type": "code",
   "execution_count": 16,
   "metadata": {},
   "outputs": [
    {
     "data": {
      "text/plain": [
       "str"
      ]
     },
     "execution_count": 16,
     "metadata": {},
     "output_type": "execute_result"
    }
   ],
   "source": [
    "type(dollars)"
   ]
  },
  {
   "cell_type": "code",
   "execution_count": 19,
   "metadata": {},
   "outputs": [
    {
     "data": {
      "text/plain": [
       "'my_text'"
      ]
     },
     "execution_count": 19,
     "metadata": {},
     "output_type": "execute_result"
    }
   ],
   "source": [
    "# strip 重点用法\n",
    "test = \"$:;my_text\"\n",
    "test.strip(\"$:;\")"
   ]
  },
  {
   "cell_type": "markdown",
   "metadata": {},
   "source": [
    "## literation with for statements\n",
    "\n",
    "``` Python\n",
    "for pen in pens:\n",
    "    put pen on shelf\n",
    "```\n"
   ]
  },
  {
   "cell_type": "code",
   "execution_count": 23,
   "metadata": {},
   "outputs": [
    {
     "name": "stdout",
     "output_type": "stream",
     "text": [
      "Eat you apple\n",
      "Eat you banana\n",
      "Eat you orange\n",
      "Eat you lemon\n",
      "lemon\n"
     ]
    }
   ],
   "source": [
    "fruit_bowl = ['apple', 'banana', 'orange', 'lemon']\n",
    "for fruit in fruit_bowl:\n",
    "    print('Eat you', fruit)\n",
    "print(fruit)"
   ]
  },
  {
   "cell_type": "code",
   "execution_count": 27,
   "metadata": {},
   "outputs": [
    {
     "name": "stdout",
     "output_type": "stream",
     "text": [
      "<class 'str'>\n",
      "Apple trees\n",
      "<class 'str'>\n",
      "Banana trees\n",
      "<class 'str'>\n",
      "Orange trees\n",
      "<class 'str'>\n",
      "Lemon trees\n",
      "lemon\n"
     ]
    }
   ],
   "source": [
    "for fruit in fruit_bowl:\n",
    "    print(type(fruit))\n",
    "    print(fruit.capitalize(), 'trees')\n",
    "print(fruit)"
   ]
  },
  {
   "cell_type": "code",
   "execution_count": 45,
   "metadata": {},
   "outputs": [
    {
     "name": "stdout",
     "output_type": "stream",
     "text": [
      "['XS']\n",
      "True\n",
      "['XS', 'S']\n",
      "False\n",
      "['XS', 'S', 'M']\n",
      "False\n",
      "['XS', 'S', 'M', 'L']\n",
      "False\n",
      "['XS', 'S', 'M', 'L', 'XL']\n",
      "True\n",
      "['XS', 'S', 'M', 'L', 'XL']\n"
     ]
    }
   ],
   "source": [
    "all_size = ['xs','s','m','l','xl']\n",
    "new_size_list = []\n",
    "for size in all_size:\n",
    "    new_size_list.append(size.upper())\n",
    "    print(new_size_list)\n",
    "    print(size.startswith('x'))\n",
    "print(new_size_list)"
   ]
  },
  {
   "cell_type": "code",
   "execution_count": 48,
   "metadata": {},
   "outputs": [
    {
     "name": "stdout",
     "output_type": "stream",
     "text": [
      "['sam', 'zoe', 'joe', 'tom']\n",
      "['Jones', 'Smith', 'Cheek', 'Perez']\n"
     ]
    }
   ],
   "source": [
    "fullnames = [['sam','jones'],['zoe','smith'],['joe','cheek'],['tom','perez']]\n",
    "firstnames = []\n",
    "lastnames = []\n",
    "\n",
    "for names in fullnames:\n",
    "    firstnames.append(names[0])\n",
    "print(firstnames)\n",
    "\n",
    "for names in fullnames:\n",
    "    lastnames.append(names[1].capitalize())\n",
    "print(lastnames)"
   ]
  },
  {
   "cell_type": "markdown",
   "metadata": {},
   "source": [
    "## Helpful function in for loops: enumerate()\n",
    "\n",
    "**enumerate()** adds a counter you can use as an index while looping."
   ]
  },
  {
   "cell_type": "code",
   "execution_count": 50,
   "metadata": {},
   "outputs": [
    {
     "name": "stdout",
     "output_type": "stream",
     "text": [
      "['sam', 'joe', 'nancy', 'gil']\n",
      "['harry', 'joe', 'nancy', 'gil']\n",
      "['Harry', 'Joe', 'Nancy', 'Gil']\n"
     ]
    }
   ],
   "source": [
    "names = ['sam', 'joe', 'nancy', 'gil']\n",
    "print(names)\n",
    "names[0] = 'harry'\n",
    "print(names)\n",
    "\n",
    "for i, name in enumerate(names):\n",
    "    names[i] = name.capitalize()\n",
    "print(names)"
   ]
  },
  {
   "cell_type": "markdown",
   "metadata": {},
   "source": [
    "## Conditionals"
   ]
  },
  {
   "cell_type": "code",
   "execution_count": 55,
   "metadata": {},
   "outputs": [
    {
     "name": "stdout",
     "output_type": "stream",
     "text": [
      "a is smaller\n"
     ]
    }
   ],
   "source": [
    "a = 3\n",
    "b = 5\n",
    "\n",
    "if a > b:\n",
    "    print('a is bigger than b')\n",
    "elif a < b:\n",
    "    print('a is smaller')\n",
    "elif a == b:\n",
    "    print('a and b are the same')\n",
    "else:\n",
    "    print('are a and b numbers?')"
   ]
  },
  {
   "cell_type": "code",
   "execution_count": 63,
   "metadata": {},
   "outputs": [
    {
     "name": "stdout",
     "output_type": "stream",
     "text": [
      "Your number is divisible is not divisible by 2,3 or 6\n",
      "Your namber is not only divisible by 2 and 3 but also by 6.\n",
      "Your number is divisible by 3\n",
      "Your number is divisible by 2\n"
     ]
    }
   ],
   "source": [
    "numbers = [1213,3534,76833,6544]\n",
    "for x in numbers:\n",
    "    if x % 2 == 0 and x % 3 == 0:\n",
    "        print('Your namber is not only divisible by 2 and 3 but also by 6.')\n",
    "    elif x % 2 == 0:\n",
    "        print('Your number is divisible by 2')\n",
    "    elif x % 3 == 0:\n",
    "        print('Your number is divisible by 3')\n",
    "    else:\n",
    "        print('Your number is divisible is not divisible by 2,3 or 6')"
   ]
  },
  {
   "cell_type": "code",
   "execution_count": 64,
   "metadata": {},
   "outputs": [
    {
     "name": "stdout",
     "output_type": "stream",
     "text": [
      "['Monday', 'Tuesday', 'Wedday', 'Thursday', 'Friday', 'Satday', 'Sunday']\n"
     ]
    }
   ],
   "source": [
    "days_of_week = ['Mon', 'Tues', 'Wed', 'Thurs', 'Fri', 'Sat', 'Sun']\n",
    "for i,day in enumerate(days_of_week):\n",
    "    days_of_week[i] = day + 'day'\n",
    "print(days_of_week)\n",
    "    "
   ]
  },
  {
   "cell_type": "code",
   "execution_count": 66,
   "metadata": {},
   "outputs": [
    {
     "name": "stdout",
     "output_type": "stream",
     "text": [
      "['Monday', 'Tuesday', 'Wednesday', 'Thursday', 'Friday', 'Satursday', 'Sunday']\n"
     ]
    }
   ],
   "source": [
    "days_of_week = ['Mon', 'Tues', 'Wed', 'Thurs', 'Fri', 'Sat', 'Sun']\n",
    "for i,day in enumerate(days_of_week):\n",
    "    if day == \"Wed\":\n",
    "        days_of_week[i] = day + 'nesday'\n",
    "    elif day == \"Sat\":\n",
    "        days_of_week[i] = day + 'ursday'\n",
    "    else:\n",
    "        days_of_week[i] = day + 'day'\n",
    "print(days_of_week)"
   ]
  },
  {
   "cell_type": "code",
   "execution_count": null,
   "metadata": {},
   "outputs": [],
   "source": []
  }
 ],
 "metadata": {
  "kernelspec": {
   "display_name": "Python 3",
   "language": "python",
   "name": "python3"
  },
  "language_info": {
   "codemirror_mode": {
    "name": "ipython",
    "version": 3
   },
   "file_extension": ".py",
   "mimetype": "text/x-python",
   "name": "python",
   "nbconvert_exporter": "python",
   "pygments_lexer": "ipython3",
   "version": "3.7.3"
  }
 },
 "nbformat": 4,
 "nbformat_minor": 2
}
