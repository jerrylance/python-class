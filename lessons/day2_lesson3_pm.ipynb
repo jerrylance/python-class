{
 "cells": [
  {
   "cell_type": "markdown",
   "metadata": {},
   "source": [
    "# Day 2: Dictionaries, JSON, APIs"
   ]
  },
  {
   "cell_type": "code",
   "execution_count": 1,
   "metadata": {},
   "outputs": [],
   "source": [
    "location = {\"building_name\": \"Gelman Library\", \"room\": \"301\", \"seats\": 40,\n",
    "            \"reserved\": True, \"instructors\": [\"Megan\", \"Laura\"]}"
   ]
  },
  {
   "cell_type": "code",
   "execution_count": 2,
   "metadata": {},
   "outputs": [
    {
     "data": {
      "text/plain": [
       "True"
      ]
     },
     "execution_count": 2,
     "metadata": {},
     "output_type": "execute_result"
    }
   ],
   "source": [
    "is_reserved = location[\"reserved\"]\n",
    "is_reserved"
   ]
  },
  {
   "cell_type": "code",
   "execution_count": 4,
   "metadata": {},
   "outputs": [
    {
     "data": {
      "text/plain": [
       "'Megan'"
      ]
     },
     "execution_count": 4,
     "metadata": {},
     "output_type": "execute_result"
    }
   ],
   "source": [
    "location[\"instructors\"][0]"
   ]
  },
  {
   "cell_type": "code",
   "execution_count": 5,
   "metadata": {},
   "outputs": [
    {
     "name": "stdout",
     "output_type": "stream",
     "text": [
      "['Megan', 'Laura', 'Dolsy']\n"
     ]
    }
   ],
   "source": [
    "location[\"instructors\"].append(\"Dolsy\")\n",
    "print(location[\"instructors\"])"
   ]
  },
  {
   "cell_type": "code",
   "execution_count": 6,
   "metadata": {},
   "outputs": [
    {
     "data": {
      "text/plain": [
       "{'building_name': 'Gelman Library',\n",
       " 'room': '301',\n",
       " 'seats': 40,\n",
       " 'reserved': True,\n",
       " 'instructors': ['Megan', 'Laura', 'Dolsy']}"
      ]
     },
     "execution_count": 6,
     "metadata": {},
     "output_type": "execute_result"
    }
   ],
   "source": [
    "location"
   ]
  },
  {
   "cell_type": "code",
   "execution_count": 8,
   "metadata": {},
   "outputs": [],
   "source": [
    "location[\"temp\"] = 68"
   ]
  },
  {
   "cell_type": "code",
   "execution_count": 9,
   "metadata": {},
   "outputs": [
    {
     "data": {
      "text/plain": [
       "{'building_name': 'Gelman Library',\n",
       " 'room': '301',\n",
       " 'seats': 40,\n",
       " 'reserved': True,\n",
       " 'instructors': ['Megan', 'Laura', 'Dolsy'],\n",
       " 'temp': 68}"
      ]
     },
     "execution_count": 9,
     "metadata": {},
     "output_type": "execute_result"
    }
   ],
   "source": [
    "location"
   ]
  },
  {
   "cell_type": "code",
   "execution_count": 10,
   "metadata": {},
   "outputs": [
    {
     "data": {
      "text/plain": [
       "'third'"
      ]
     },
     "execution_count": 10,
     "metadata": {},
     "output_type": "execute_result"
    }
   ],
   "source": [
    "# 找不到floor返回third\n",
    "location.get(\"floor\", \"third\")"
   ]
  },
  {
   "cell_type": "code",
   "execution_count": 11,
   "metadata": {},
   "outputs": [
    {
     "name": "stdout",
     "output_type": "stream",
     "text": [
      "None\n"
     ]
    }
   ],
   "source": [
    "floor = location.get(\"floor\")\n",
    "print(floor)"
   ]
  },
  {
   "cell_type": "code",
   "execution_count": 12,
   "metadata": {},
   "outputs": [],
   "source": [
    "sounds = {\"cat\": \"meow\", \"dog\": \"woof\", \"fish\": \"\"}\n",
    "ages = {\"Tom\": 13, \"Anna\": 45, \"Lee\": 76}"
   ]
  },
  {
   "cell_type": "code",
   "execution_count": 13,
   "metadata": {},
   "outputs": [],
   "source": [
    "import requests"
   ]
  },
  {
   "cell_type": "code",
   "execution_count": 14,
   "metadata": {},
   "outputs": [],
   "source": [
    "response = requests.get(url = \"http://api.open-notify.org/astros.json\")"
   ]
  },
  {
   "cell_type": "code",
   "execution_count": 15,
   "metadata": {},
   "outputs": [
    {
     "name": "stdout",
     "output_type": "stream",
     "text": [
      "<Response [200]>\n"
     ]
    }
   ],
   "source": [
    "print(response)"
   ]
  },
  {
   "cell_type": "code",
   "execution_count": 16,
   "metadata": {},
   "outputs": [
    {
     "data": {
      "text/plain": [
       "{'people': [{'name': 'Christina Koch', 'craft': 'ISS'},\n",
       "  {'name': 'Alexander Skvortsov', 'craft': 'ISS'},\n",
       "  {'name': 'Luca Parmitano', 'craft': 'ISS'},\n",
       "  {'name': 'Andrew Morgan', 'craft': 'ISS'},\n",
       "  {'name': 'Oleg Skripochka', 'craft': 'ISS'},\n",
       "  {'name': 'Jessica Meir', 'craft': 'ISS'}],\n",
       " 'number': 6,\n",
       " 'message': 'success'}"
      ]
     },
     "execution_count": 16,
     "metadata": {},
     "output_type": "execute_result"
    }
   ],
   "source": [
    "response.json()"
   ]
  },
  {
   "cell_type": "code",
   "execution_count": 20,
   "metadata": {},
   "outputs": [
    {
     "name": "stdout",
     "output_type": "stream",
     "text": [
      "{'people': [{'name': 'Christina Koch', 'craft': 'ISS'}, {'name': 'Alexander Skvortsov', 'craft': 'ISS'}, {'name': 'Luca Parmitano', 'craft': 'ISS'}, {'name': 'Andrew Morgan', 'craft': 'ISS'}, {'name': 'Oleg Skripochka', 'craft': 'ISS'}, {'name': 'Jessica Meir', 'craft': 'ISS'}], 'number': 6, 'message': 'success'}\n"
     ]
    }
   ],
   "source": [
    "data = response.json()\n",
    "print(data)"
   ]
  },
  {
   "cell_type": "code",
   "execution_count": 22,
   "metadata": {},
   "outputs": [
    {
     "data": {
      "text/plain": [
       "[{'name': 'Christina Koch', 'craft': 'ISS'},\n",
       " {'name': 'Alexander Skvortsov', 'craft': 'ISS'},\n",
       " {'name': 'Luca Parmitano', 'craft': 'ISS'},\n",
       " {'name': 'Andrew Morgan', 'craft': 'ISS'},\n",
       " {'name': 'Oleg Skripochka', 'craft': 'ISS'},\n",
       " {'name': 'Jessica Meir', 'craft': 'ISS'}]"
      ]
     },
     "execution_count": 22,
     "metadata": {},
     "output_type": "execute_result"
    }
   ],
   "source": [
    "data[\"people\"]"
   ]
  },
  {
   "cell_type": "code",
   "execution_count": 25,
   "metadata": {},
   "outputs": [
    {
     "name": "stdout",
     "output_type": "stream",
     "text": [
      "['Koch', 'Skvortsov', 'Parmitano', 'Morgan', 'Skripochka', 'Meir']\n"
     ]
    }
   ],
   "source": [
    "last_names = []\n",
    "for person in data[\"people\"]:\n",
    "    name = person[\"name\"]\n",
    "    last_name = name.split()[1]\n",
    "    last_names.append(last_name)\n",
    "print(last_names)"
   ]
  },
  {
   "cell_type": "code",
   "execution_count": 26,
   "metadata": {},
   "outputs": [],
   "source": [
    "worldcup_response = requests.get(url = 'https://worldcup.sfg.io/matches')"
   ]
  },
  {
   "cell_type": "code",
   "execution_count": 27,
   "metadata": {},
   "outputs": [
    {
     "name": "stdout",
     "output_type": "stream",
     "text": [
      "<Response [200]>\n"
     ]
    }
   ],
   "source": [
    "# 200 表示成功OK\n",
    "print(worldcup_response)"
   ]
  },
  {
   "cell_type": "code",
   "execution_count": 28,
   "metadata": {},
   "outputs": [
    {
     "data": {
      "text/plain": [
       "200"
      ]
     },
     "execution_count": 28,
     "metadata": {},
     "output_type": "execute_result"
    }
   ],
   "source": [
    "worldcup_response.status_code"
   ]
  },
  {
   "cell_type": "code",
   "execution_count": 29,
   "metadata": {},
   "outputs": [
    {
     "data": {
      "text/plain": [
       "52"
      ]
     },
     "execution_count": 29,
     "metadata": {},
     "output_type": "execute_result"
    }
   ],
   "source": [
    "matches = worldcup_response.json()\n",
    "len(matches)"
   ]
  },
  {
   "cell_type": "code",
   "execution_count": 30,
   "metadata": {},
   "outputs": [
    {
     "data": {
      "text/plain": [
       "{'venue': 'Paris',\n",
       " 'location': 'Parc des Princes',\n",
       " 'status': 'completed',\n",
       " 'time': 'full-time',\n",
       " 'fifa_id': '300438238',\n",
       " 'weather': {'humidity': '78',\n",
       "  'temp_celsius': '15',\n",
       "  'temp_farenheit': '47',\n",
       "  'wind_speed': '32',\n",
       "  'description': 'Cloudy'},\n",
       " 'attendance': '45261',\n",
       " 'officials': ['Claudia UMPIERREZ',\n",
       "  'Luciana MASCARANA',\n",
       "  'Monica AMBOYA',\n",
       "  'Melissa BORJAS',\n",
       "  'Mauro VIGLIANO',\n",
       "  'Felisha MARISCAL',\n",
       "  'Jose Maria SANCHEZ',\n",
       "  'Mariana DE ALMEIDA'],\n",
       " 'stage_name': 'First Stage',\n",
       " 'home_team_country': 'France',\n",
       " 'away_team_country': 'Korea Republic',\n",
       " 'datetime': '2019-06-07T19:00:00Z',\n",
       " 'winner': 'France',\n",
       " 'winner_code': 'FRA',\n",
       " 'home_team': {'country': 'France', 'code': 'FRA', 'goals': 4, 'penalties': 0},\n",
       " 'away_team': {'country': 'Korea Republic',\n",
       "  'code': 'KOR',\n",
       "  'goals': 0,\n",
       "  'penalties': 0},\n",
       " 'home_team_events': [{'id': 1,\n",
       "   'type_of_event': 'goal',\n",
       "   'player': 'Eugenie LE SOMMER',\n",
       "   'time': \"9'\"},\n",
       "  {'id': 2,\n",
       "   'type_of_event': 'goal',\n",
       "   'player': 'Griedge MBOCK BATHY',\n",
       "   'time': \"27'\"},\n",
       "  {'id': 3, 'type_of_event': 'goal', 'player': 'Wendie RENARD', 'time': \"35'\"},\n",
       "  {'id': 4,\n",
       "   'type_of_event': 'goal',\n",
       "   'player': 'Wendie RENARD',\n",
       "   'time': \"45'+3'\"},\n",
       "  {'id': 5,\n",
       "   'type_of_event': 'goal',\n",
       "   'player': 'Wendie RENARD',\n",
       "   'time': \"45'+2'\"},\n",
       "  {'id': 10,\n",
       "   'type_of_event': 'substitution-out',\n",
       "   'player': 'Delphine CASCARINO',\n",
       "   'time': \"70'\"},\n",
       "  {'id': 11,\n",
       "   'type_of_event': 'substitution-in',\n",
       "   'player': 'Valerie GAUVIN',\n",
       "   'time': \"70'\"},\n",
       "  {'id': 12,\n",
       "   'type_of_event': 'substitution-out',\n",
       "   'player': 'Amel MAJRI',\n",
       "   'time': \"74'\"},\n",
       "  {'id': 13,\n",
       "   'type_of_event': 'substitution-in',\n",
       "   'player': 'Eve PERISSET',\n",
       "   'time': \"74'\"},\n",
       "  {'id': 14,\n",
       "   'type_of_event': 'goal',\n",
       "   'player': 'Amandine HENRY',\n",
       "   'time': \"85'\"},\n",
       "  {'id': 15,\n",
       "   'type_of_event': 'substitution-out',\n",
       "   'player': 'Gaetane THINEY',\n",
       "   'time': \"86'\"},\n",
       "  {'id': 16,\n",
       "   'type_of_event': 'substitution-in',\n",
       "   'player': 'Grace GEYORO',\n",
       "   'time': \"86'\"}],\n",
       " 'away_team_events': [{'id': 6,\n",
       "   'type_of_event': 'substitution-out',\n",
       "   'player': 'KANG Yumi',\n",
       "   'time': \"52'\"},\n",
       "  {'id': 7,\n",
       "   'type_of_event': 'substitution-in',\n",
       "   'player': 'KANG Chaerim',\n",
       "   'time': \"52'\"},\n",
       "  {'id': 8,\n",
       "   'type_of_event': 'substitution-out',\n",
       "   'player': 'LEE Youngju',\n",
       "   'time': \"69'\"},\n",
       "  {'id': 9,\n",
       "   'type_of_event': 'substitution-in',\n",
       "   'player': 'LEE Mina',\n",
       "   'time': \"69'\"},\n",
       "  {'id': 17,\n",
       "   'type_of_event': 'substitution-out',\n",
       "   'player': 'JUNG Seolbin',\n",
       "   'time': \"86'\"},\n",
       "  {'id': 18,\n",
       "   'type_of_event': 'substitution-in',\n",
       "   'player': 'YEO Minji',\n",
       "   'time': \"86'\"}],\n",
       " 'home_team_statistics': {'country': 'France',\n",
       "  'attempts_on_goal': 21,\n",
       "  'on_target': 8,\n",
       "  'off_target': 8,\n",
       "  'blocked': 5,\n",
       "  'corners': 13,\n",
       "  'offsides': 2,\n",
       "  'ball_possession': 60,\n",
       "  'pass_accuracy': 87,\n",
       "  'num_passes': 619,\n",
       "  'passes_completed': 540,\n",
       "  'distance_covered': 103,\n",
       "  'tackles': 10,\n",
       "  'clearances': 7,\n",
       "  'yellow_cards': 0,\n",
       "  'red_cards': 0,\n",
       "  'fouls_committed': 11,\n",
       "  'tactics': '4-3-3',\n",
       "  'starting_eleven': [{'name': 'Sarah BOUHADDI',\n",
       "    'captain': False,\n",
       "    'shirt_number': 16,\n",
       "    'position': 'Goalie'},\n",
       "   {'name': 'Wendie RENARD',\n",
       "    'captain': False,\n",
       "    'shirt_number': 3,\n",
       "    'position': 'Defender'},\n",
       "   {'name': 'Marion TORRENT',\n",
       "    'captain': False,\n",
       "    'shirt_number': 4,\n",
       "    'position': 'Defender'},\n",
       "   {'name': 'Amandine HENRY',\n",
       "    'captain': True,\n",
       "    'shirt_number': 6,\n",
       "    'position': 'Midfield'},\n",
       "   {'name': 'Eugenie LE SOMMER',\n",
       "    'captain': False,\n",
       "    'shirt_number': 9,\n",
       "    'position': 'Forward'},\n",
       "   {'name': 'Amel MAJRI',\n",
       "    'captain': False,\n",
       "    'shirt_number': 10,\n",
       "    'position': 'Defender'},\n",
       "   {'name': 'Kadidiatou DIANI',\n",
       "    'captain': False,\n",
       "    'shirt_number': 11,\n",
       "    'position': 'Forward'},\n",
       "   {'name': 'Elise BUSSAGLIA',\n",
       "    'captain': False,\n",
       "    'shirt_number': 15,\n",
       "    'position': 'Midfield'},\n",
       "   {'name': 'Gaetane THINEY',\n",
       "    'captain': False,\n",
       "    'shirt_number': 17,\n",
       "    'position': 'Midfield'},\n",
       "   {'name': 'Griedge MBOCK BATHY',\n",
       "    'captain': False,\n",
       "    'shirt_number': 19,\n",
       "    'position': 'Defender'},\n",
       "   {'name': 'Delphine CASCARINO',\n",
       "    'captain': False,\n",
       "    'shirt_number': 20,\n",
       "    'position': 'Forward'}],\n",
       "  'substitutes': [{'name': 'Solene DURAND',\n",
       "    'captain': False,\n",
       "    'shirt_number': 1,\n",
       "    'position': 'Goalie'},\n",
       "   {'name': 'Eve PERISSET',\n",
       "    'captain': False,\n",
       "    'shirt_number': 2,\n",
       "    'position': 'Defender'},\n",
       "   {'name': 'Aissatou TOUNKARA',\n",
       "    'captain': False,\n",
       "    'shirt_number': 5,\n",
       "    'position': 'Defender'},\n",
       "   {'name': 'Sakina KARCHAOUI',\n",
       "    'captain': False,\n",
       "    'shirt_number': 7,\n",
       "    'position': 'Defender'},\n",
       "   {'name': 'Grace GEYORO',\n",
       "    'captain': False,\n",
       "    'shirt_number': 8,\n",
       "    'position': 'Midfield'},\n",
       "   {'name': 'Emelyne LAURENT',\n",
       "    'captain': False,\n",
       "    'shirt_number': 12,\n",
       "    'position': 'Forward'},\n",
       "   {'name': 'Valerie GAUVIN',\n",
       "    'captain': False,\n",
       "    'shirt_number': 13,\n",
       "    'position': 'Forward'},\n",
       "   {'name': 'Charlotte BILBAULT',\n",
       "    'captain': False,\n",
       "    'shirt_number': 14,\n",
       "    'position': 'Midfield'},\n",
       "   {'name': 'Viviane ASSEYI',\n",
       "    'captain': False,\n",
       "    'shirt_number': 18,\n",
       "    'position': 'Forward'},\n",
       "   {'name': 'Pauline PEYRAUD-MAGNIN',\n",
       "    'captain': False,\n",
       "    'shirt_number': 21,\n",
       "    'position': 'Goalie'},\n",
       "   {'name': 'Julie DEBEVER',\n",
       "    'captain': False,\n",
       "    'shirt_number': 22,\n",
       "    'position': 'Defender'},\n",
       "   {'name': 'Maeva CLEMARON',\n",
       "    'captain': False,\n",
       "    'shirt_number': 23,\n",
       "    'position': 'Midfield'}]},\n",
       " 'away_team_statistics': {'country': 'Korea Republic',\n",
       "  'attempts_on_goal': 4,\n",
       "  'on_target': 1,\n",
       "  'off_target': 2,\n",
       "  'blocked': 1,\n",
       "  'corners': 1,\n",
       "  'offsides': 0,\n",
       "  'ball_possession': 40,\n",
       "  'pass_accuracy': 74,\n",
       "  'num_passes': 305,\n",
       "  'passes_completed': 227,\n",
       "  'distance_covered': 105,\n",
       "  'tackles': 15,\n",
       "  'clearances': 17,\n",
       "  'yellow_cards': 0,\n",
       "  'red_cards': 0,\n",
       "  'fouls_committed': 11,\n",
       "  'tactics': '4-3-3',\n",
       "  'starting_eleven': [{'name': 'KIM Minjung',\n",
       "    'captain': False,\n",
       "    'shirt_number': 18,\n",
       "    'position': 'Goalie'},\n",
       "   {'name': 'HWANG Boram',\n",
       "    'captain': False,\n",
       "    'shirt_number': 4,\n",
       "    'position': 'Defender'},\n",
       "   {'name': 'KIM Doyeon',\n",
       "    'captain': False,\n",
       "    'shirt_number': 5,\n",
       "    'position': 'Defender'},\n",
       "   {'name': 'CHO Sohyun',\n",
       "    'captain': True,\n",
       "    'shirt_number': 8,\n",
       "    'position': 'Midfield'},\n",
       "   {'name': 'JI Soyun',\n",
       "    'captain': False,\n",
       "    'shirt_number': 10,\n",
       "    'position': 'Forward'},\n",
       "   {'name': 'JUNG Seolbin',\n",
       "    'captain': False,\n",
       "    'shirt_number': 11,\n",
       "    'position': 'Forward'},\n",
       "   {'name': 'KANG Yumi',\n",
       "    'captain': False,\n",
       "    'shirt_number': 12,\n",
       "    'position': 'Midfield'},\n",
       "   {'name': 'LEE Youngju',\n",
       "    'captain': False,\n",
       "    'shirt_number': 15,\n",
       "    'position': 'Midfield'},\n",
       "   {'name': 'JANG Selgi',\n",
       "    'captain': False,\n",
       "    'shirt_number': 16,\n",
       "    'position': 'Defender'},\n",
       "   {'name': 'LEE Geummin',\n",
       "    'captain': False,\n",
       "    'shirt_number': 17,\n",
       "    'position': 'Forward'},\n",
       "   {'name': 'KIM Hyeri',\n",
       "    'captain': False,\n",
       "    'shirt_number': 20,\n",
       "    'position': 'Defender'}],\n",
       "  'substitutes': [{'name': 'KANG Gaae',\n",
       "    'captain': False,\n",
       "    'shirt_number': 1,\n",
       "    'position': 'Goalie'},\n",
       "   {'name': 'LEE Eunmi',\n",
       "    'captain': False,\n",
       "    'shirt_number': 2,\n",
       "    'position': 'Defender'},\n",
       "   {'name': 'JEONG Yeonga',\n",
       "    'captain': False,\n",
       "    'shirt_number': 3,\n",
       "    'position': 'Defender'},\n",
       "   {'name': 'LIM Seonjoo',\n",
       "    'captain': False,\n",
       "    'shirt_number': 6,\n",
       "    'position': 'Defender'},\n",
       "   {'name': 'LEE Mina',\n",
       "    'captain': False,\n",
       "    'shirt_number': 7,\n",
       "    'position': 'Midfield'},\n",
       "   {'name': 'MOON Mira',\n",
       "    'captain': False,\n",
       "    'shirt_number': 9,\n",
       "    'position': 'Midfield'},\n",
       "   {'name': 'YEO Minji',\n",
       "    'captain': False,\n",
       "    'shirt_number': 13,\n",
       "    'position': 'Forward'},\n",
       "   {'name': 'SHIN Damyeong',\n",
       "    'captain': False,\n",
       "    'shirt_number': 14,\n",
       "    'position': 'Defender'},\n",
       "   {'name': 'LEE Sodam',\n",
       "    'captain': False,\n",
       "    'shirt_number': 19,\n",
       "    'position': 'Midfield'},\n",
       "   {'name': 'JUNG Boram',\n",
       "    'captain': False,\n",
       "    'shirt_number': 21,\n",
       "    'position': 'Goalie'},\n",
       "   {'name': 'SON Hwayeon',\n",
       "    'captain': False,\n",
       "    'shirt_number': 22,\n",
       "    'position': 'Forward'},\n",
       "   {'name': 'KANG Chaerim',\n",
       "    'captain': False,\n",
       "    'shirt_number': 23,\n",
       "    'position': 'Midfield'}]},\n",
       " 'last_event_update_at': '2019-06-07T23:33:26Z',\n",
       " 'last_score_update_at': '2019-06-07T23:33:26Z'}"
      ]
     },
     "execution_count": 30,
     "metadata": {},
     "output_type": "execute_result"
    }
   ],
   "source": [
    "matches[0]"
   ]
  },
  {
   "cell_type": "code",
   "execution_count": 31,
   "metadata": {},
   "outputs": [
    {
     "data": {
      "text/plain": [
       "dict_keys(['venue', 'location', 'status', 'time', 'fifa_id', 'weather', 'attendance', 'officials', 'stage_name', 'home_team_country', 'away_team_country', 'datetime', 'winner', 'winner_code', 'home_team', 'away_team', 'home_team_events', 'away_team_events', 'home_team_statistics', 'away_team_statistics', 'last_event_update_at', 'last_score_update_at'])"
      ]
     },
     "execution_count": 31,
     "metadata": {},
     "output_type": "execute_result"
    }
   ],
   "source": [
    "matches[0].keys()"
   ]
  },
  {
   "cell_type": "code",
   "execution_count": 32,
   "metadata": {},
   "outputs": [
    {
     "data": {
      "text/plain": [
       "dict_items([('venue', 'Paris'), ('location', 'Parc des Princes'), ('status', 'completed'), ('time', 'full-time'), ('fifa_id', '300438238'), ('weather', {'humidity': '78', 'temp_celsius': '15', 'temp_farenheit': '47', 'wind_speed': '32', 'description': 'Cloudy'}), ('attendance', '45261'), ('officials', ['Claudia UMPIERREZ', 'Luciana MASCARANA', 'Monica AMBOYA', 'Melissa BORJAS', 'Mauro VIGLIANO', 'Felisha MARISCAL', 'Jose Maria SANCHEZ', 'Mariana DE ALMEIDA']), ('stage_name', 'First Stage'), ('home_team_country', 'France'), ('away_team_country', 'Korea Republic'), ('datetime', '2019-06-07T19:00:00Z'), ('winner', 'France'), ('winner_code', 'FRA'), ('home_team', {'country': 'France', 'code': 'FRA', 'goals': 4, 'penalties': 0}), ('away_team', {'country': 'Korea Republic', 'code': 'KOR', 'goals': 0, 'penalties': 0}), ('home_team_events', [{'id': 1, 'type_of_event': 'goal', 'player': 'Eugenie LE SOMMER', 'time': \"9'\"}, {'id': 2, 'type_of_event': 'goal', 'player': 'Griedge MBOCK BATHY', 'time': \"27'\"}, {'id': 3, 'type_of_event': 'goal', 'player': 'Wendie RENARD', 'time': \"35'\"}, {'id': 4, 'type_of_event': 'goal', 'player': 'Wendie RENARD', 'time': \"45'+3'\"}, {'id': 5, 'type_of_event': 'goal', 'player': 'Wendie RENARD', 'time': \"45'+2'\"}, {'id': 10, 'type_of_event': 'substitution-out', 'player': 'Delphine CASCARINO', 'time': \"70'\"}, {'id': 11, 'type_of_event': 'substitution-in', 'player': 'Valerie GAUVIN', 'time': \"70'\"}, {'id': 12, 'type_of_event': 'substitution-out', 'player': 'Amel MAJRI', 'time': \"74'\"}, {'id': 13, 'type_of_event': 'substitution-in', 'player': 'Eve PERISSET', 'time': \"74'\"}, {'id': 14, 'type_of_event': 'goal', 'player': 'Amandine HENRY', 'time': \"85'\"}, {'id': 15, 'type_of_event': 'substitution-out', 'player': 'Gaetane THINEY', 'time': \"86'\"}, {'id': 16, 'type_of_event': 'substitution-in', 'player': 'Grace GEYORO', 'time': \"86'\"}]), ('away_team_events', [{'id': 6, 'type_of_event': 'substitution-out', 'player': 'KANG Yumi', 'time': \"52'\"}, {'id': 7, 'type_of_event': 'substitution-in', 'player': 'KANG Chaerim', 'time': \"52'\"}, {'id': 8, 'type_of_event': 'substitution-out', 'player': 'LEE Youngju', 'time': \"69'\"}, {'id': 9, 'type_of_event': 'substitution-in', 'player': 'LEE Mina', 'time': \"69'\"}, {'id': 17, 'type_of_event': 'substitution-out', 'player': 'JUNG Seolbin', 'time': \"86'\"}, {'id': 18, 'type_of_event': 'substitution-in', 'player': 'YEO Minji', 'time': \"86'\"}]), ('home_team_statistics', {'country': 'France', 'attempts_on_goal': 21, 'on_target': 8, 'off_target': 8, 'blocked': 5, 'corners': 13, 'offsides': 2, 'ball_possession': 60, 'pass_accuracy': 87, 'num_passes': 619, 'passes_completed': 540, 'distance_covered': 103, 'tackles': 10, 'clearances': 7, 'yellow_cards': 0, 'red_cards': 0, 'fouls_committed': 11, 'tactics': '4-3-3', 'starting_eleven': [{'name': 'Sarah BOUHADDI', 'captain': False, 'shirt_number': 16, 'position': 'Goalie'}, {'name': 'Wendie RENARD', 'captain': False, 'shirt_number': 3, 'position': 'Defender'}, {'name': 'Marion TORRENT', 'captain': False, 'shirt_number': 4, 'position': 'Defender'}, {'name': 'Amandine HENRY', 'captain': True, 'shirt_number': 6, 'position': 'Midfield'}, {'name': 'Eugenie LE SOMMER', 'captain': False, 'shirt_number': 9, 'position': 'Forward'}, {'name': 'Amel MAJRI', 'captain': False, 'shirt_number': 10, 'position': 'Defender'}, {'name': 'Kadidiatou DIANI', 'captain': False, 'shirt_number': 11, 'position': 'Forward'}, {'name': 'Elise BUSSAGLIA', 'captain': False, 'shirt_number': 15, 'position': 'Midfield'}, {'name': 'Gaetane THINEY', 'captain': False, 'shirt_number': 17, 'position': 'Midfield'}, {'name': 'Griedge MBOCK BATHY', 'captain': False, 'shirt_number': 19, 'position': 'Defender'}, {'name': 'Delphine CASCARINO', 'captain': False, 'shirt_number': 20, 'position': 'Forward'}], 'substitutes': [{'name': 'Solene DURAND', 'captain': False, 'shirt_number': 1, 'position': 'Goalie'}, {'name': 'Eve PERISSET', 'captain': False, 'shirt_number': 2, 'position': 'Defender'}, {'name': 'Aissatou TOUNKARA', 'captain': False, 'shirt_number': 5, 'position': 'Defender'}, {'name': 'Sakina KARCHAOUI', 'captain': False, 'shirt_number': 7, 'position': 'Defender'}, {'name': 'Grace GEYORO', 'captain': False, 'shirt_number': 8, 'position': 'Midfield'}, {'name': 'Emelyne LAURENT', 'captain': False, 'shirt_number': 12, 'position': 'Forward'}, {'name': 'Valerie GAUVIN', 'captain': False, 'shirt_number': 13, 'position': 'Forward'}, {'name': 'Charlotte BILBAULT', 'captain': False, 'shirt_number': 14, 'position': 'Midfield'}, {'name': 'Viviane ASSEYI', 'captain': False, 'shirt_number': 18, 'position': 'Forward'}, {'name': 'Pauline PEYRAUD-MAGNIN', 'captain': False, 'shirt_number': 21, 'position': 'Goalie'}, {'name': 'Julie DEBEVER', 'captain': False, 'shirt_number': 22, 'position': 'Defender'}, {'name': 'Maeva CLEMARON', 'captain': False, 'shirt_number': 23, 'position': 'Midfield'}]}), ('away_team_statistics', {'country': 'Korea Republic', 'attempts_on_goal': 4, 'on_target': 1, 'off_target': 2, 'blocked': 1, 'corners': 1, 'offsides': 0, 'ball_possession': 40, 'pass_accuracy': 74, 'num_passes': 305, 'passes_completed': 227, 'distance_covered': 105, 'tackles': 15, 'clearances': 17, 'yellow_cards': 0, 'red_cards': 0, 'fouls_committed': 11, 'tactics': '4-3-3', 'starting_eleven': [{'name': 'KIM Minjung', 'captain': False, 'shirt_number': 18, 'position': 'Goalie'}, {'name': 'HWANG Boram', 'captain': False, 'shirt_number': 4, 'position': 'Defender'}, {'name': 'KIM Doyeon', 'captain': False, 'shirt_number': 5, 'position': 'Defender'}, {'name': 'CHO Sohyun', 'captain': True, 'shirt_number': 8, 'position': 'Midfield'}, {'name': 'JI Soyun', 'captain': False, 'shirt_number': 10, 'position': 'Forward'}, {'name': 'JUNG Seolbin', 'captain': False, 'shirt_number': 11, 'position': 'Forward'}, {'name': 'KANG Yumi', 'captain': False, 'shirt_number': 12, 'position': 'Midfield'}, {'name': 'LEE Youngju', 'captain': False, 'shirt_number': 15, 'position': 'Midfield'}, {'name': 'JANG Selgi', 'captain': False, 'shirt_number': 16, 'position': 'Defender'}, {'name': 'LEE Geummin', 'captain': False, 'shirt_number': 17, 'position': 'Forward'}, {'name': 'KIM Hyeri', 'captain': False, 'shirt_number': 20, 'position': 'Defender'}], 'substitutes': [{'name': 'KANG Gaae', 'captain': False, 'shirt_number': 1, 'position': 'Goalie'}, {'name': 'LEE Eunmi', 'captain': False, 'shirt_number': 2, 'position': 'Defender'}, {'name': 'JEONG Yeonga', 'captain': False, 'shirt_number': 3, 'position': 'Defender'}, {'name': 'LIM Seonjoo', 'captain': False, 'shirt_number': 6, 'position': 'Defender'}, {'name': 'LEE Mina', 'captain': False, 'shirt_number': 7, 'position': 'Midfield'}, {'name': 'MOON Mira', 'captain': False, 'shirt_number': 9, 'position': 'Midfield'}, {'name': 'YEO Minji', 'captain': False, 'shirt_number': 13, 'position': 'Forward'}, {'name': 'SHIN Damyeong', 'captain': False, 'shirt_number': 14, 'position': 'Defender'}, {'name': 'LEE Sodam', 'captain': False, 'shirt_number': 19, 'position': 'Midfield'}, {'name': 'JUNG Boram', 'captain': False, 'shirt_number': 21, 'position': 'Goalie'}, {'name': 'SON Hwayeon', 'captain': False, 'shirt_number': 22, 'position': 'Forward'}, {'name': 'KANG Chaerim', 'captain': False, 'shirt_number': 23, 'position': 'Midfield'}]}), ('last_event_update_at', '2019-06-07T23:33:26Z'), ('last_score_update_at', '2019-06-07T23:33:26Z')])"
      ]
     },
     "execution_count": 32,
     "metadata": {},
     "output_type": "execute_result"
    }
   ],
   "source": [
    "matches[0].items()"
   ]
  },
  {
   "cell_type": "code",
   "execution_count": 33,
   "metadata": {},
   "outputs": [
    {
     "name": "stdout",
     "output_type": "stream",
     "text": [
      "('venue', 'Paris')\n",
      "('location', 'Parc des Princes')\n",
      "('status', 'completed')\n",
      "('time', 'full-time')\n",
      "('fifa_id', '300438238')\n",
      "('weather', {'humidity': '78', 'temp_celsius': '15', 'temp_farenheit': '47', 'wind_speed': '32', 'description': 'Cloudy'})\n",
      "('attendance', '45261')\n",
      "('officials', ['Claudia UMPIERREZ', 'Luciana MASCARANA', 'Monica AMBOYA', 'Melissa BORJAS', 'Mauro VIGLIANO', 'Felisha MARISCAL', 'Jose Maria SANCHEZ', 'Mariana DE ALMEIDA'])\n",
      "('stage_name', 'First Stage')\n",
      "('home_team_country', 'France')\n",
      "('away_team_country', 'Korea Republic')\n",
      "('datetime', '2019-06-07T19:00:00Z')\n",
      "('winner', 'France')\n",
      "('winner_code', 'FRA')\n",
      "('home_team', {'country': 'France', 'code': 'FRA', 'goals': 4, 'penalties': 0})\n",
      "('away_team', {'country': 'Korea Republic', 'code': 'KOR', 'goals': 0, 'penalties': 0})\n",
      "('home_team_events', [{'id': 1, 'type_of_event': 'goal', 'player': 'Eugenie LE SOMMER', 'time': \"9'\"}, {'id': 2, 'type_of_event': 'goal', 'player': 'Griedge MBOCK BATHY', 'time': \"27'\"}, {'id': 3, 'type_of_event': 'goal', 'player': 'Wendie RENARD', 'time': \"35'\"}, {'id': 4, 'type_of_event': 'goal', 'player': 'Wendie RENARD', 'time': \"45'+3'\"}, {'id': 5, 'type_of_event': 'goal', 'player': 'Wendie RENARD', 'time': \"45'+2'\"}, {'id': 10, 'type_of_event': 'substitution-out', 'player': 'Delphine CASCARINO', 'time': \"70'\"}, {'id': 11, 'type_of_event': 'substitution-in', 'player': 'Valerie GAUVIN', 'time': \"70'\"}, {'id': 12, 'type_of_event': 'substitution-out', 'player': 'Amel MAJRI', 'time': \"74'\"}, {'id': 13, 'type_of_event': 'substitution-in', 'player': 'Eve PERISSET', 'time': \"74'\"}, {'id': 14, 'type_of_event': 'goal', 'player': 'Amandine HENRY', 'time': \"85'\"}, {'id': 15, 'type_of_event': 'substitution-out', 'player': 'Gaetane THINEY', 'time': \"86'\"}, {'id': 16, 'type_of_event': 'substitution-in', 'player': 'Grace GEYORO', 'time': \"86'\"}])\n",
      "('away_team_events', [{'id': 6, 'type_of_event': 'substitution-out', 'player': 'KANG Yumi', 'time': \"52'\"}, {'id': 7, 'type_of_event': 'substitution-in', 'player': 'KANG Chaerim', 'time': \"52'\"}, {'id': 8, 'type_of_event': 'substitution-out', 'player': 'LEE Youngju', 'time': \"69'\"}, {'id': 9, 'type_of_event': 'substitution-in', 'player': 'LEE Mina', 'time': \"69'\"}, {'id': 17, 'type_of_event': 'substitution-out', 'player': 'JUNG Seolbin', 'time': \"86'\"}, {'id': 18, 'type_of_event': 'substitution-in', 'player': 'YEO Minji', 'time': \"86'\"}])\n",
      "('home_team_statistics', {'country': 'France', 'attempts_on_goal': 21, 'on_target': 8, 'off_target': 8, 'blocked': 5, 'corners': 13, 'offsides': 2, 'ball_possession': 60, 'pass_accuracy': 87, 'num_passes': 619, 'passes_completed': 540, 'distance_covered': 103, 'tackles': 10, 'clearances': 7, 'yellow_cards': 0, 'red_cards': 0, 'fouls_committed': 11, 'tactics': '4-3-3', 'starting_eleven': [{'name': 'Sarah BOUHADDI', 'captain': False, 'shirt_number': 16, 'position': 'Goalie'}, {'name': 'Wendie RENARD', 'captain': False, 'shirt_number': 3, 'position': 'Defender'}, {'name': 'Marion TORRENT', 'captain': False, 'shirt_number': 4, 'position': 'Defender'}, {'name': 'Amandine HENRY', 'captain': True, 'shirt_number': 6, 'position': 'Midfield'}, {'name': 'Eugenie LE SOMMER', 'captain': False, 'shirt_number': 9, 'position': 'Forward'}, {'name': 'Amel MAJRI', 'captain': False, 'shirt_number': 10, 'position': 'Defender'}, {'name': 'Kadidiatou DIANI', 'captain': False, 'shirt_number': 11, 'position': 'Forward'}, {'name': 'Elise BUSSAGLIA', 'captain': False, 'shirt_number': 15, 'position': 'Midfield'}, {'name': 'Gaetane THINEY', 'captain': False, 'shirt_number': 17, 'position': 'Midfield'}, {'name': 'Griedge MBOCK BATHY', 'captain': False, 'shirt_number': 19, 'position': 'Defender'}, {'name': 'Delphine CASCARINO', 'captain': False, 'shirt_number': 20, 'position': 'Forward'}], 'substitutes': [{'name': 'Solene DURAND', 'captain': False, 'shirt_number': 1, 'position': 'Goalie'}, {'name': 'Eve PERISSET', 'captain': False, 'shirt_number': 2, 'position': 'Defender'}, {'name': 'Aissatou TOUNKARA', 'captain': False, 'shirt_number': 5, 'position': 'Defender'}, {'name': 'Sakina KARCHAOUI', 'captain': False, 'shirt_number': 7, 'position': 'Defender'}, {'name': 'Grace GEYORO', 'captain': False, 'shirt_number': 8, 'position': 'Midfield'}, {'name': 'Emelyne LAURENT', 'captain': False, 'shirt_number': 12, 'position': 'Forward'}, {'name': 'Valerie GAUVIN', 'captain': False, 'shirt_number': 13, 'position': 'Forward'}, {'name': 'Charlotte BILBAULT', 'captain': False, 'shirt_number': 14, 'position': 'Midfield'}, {'name': 'Viviane ASSEYI', 'captain': False, 'shirt_number': 18, 'position': 'Forward'}, {'name': 'Pauline PEYRAUD-MAGNIN', 'captain': False, 'shirt_number': 21, 'position': 'Goalie'}, {'name': 'Julie DEBEVER', 'captain': False, 'shirt_number': 22, 'position': 'Defender'}, {'name': 'Maeva CLEMARON', 'captain': False, 'shirt_number': 23, 'position': 'Midfield'}]})\n",
      "('away_team_statistics', {'country': 'Korea Republic', 'attempts_on_goal': 4, 'on_target': 1, 'off_target': 2, 'blocked': 1, 'corners': 1, 'offsides': 0, 'ball_possession': 40, 'pass_accuracy': 74, 'num_passes': 305, 'passes_completed': 227, 'distance_covered': 105, 'tackles': 15, 'clearances': 17, 'yellow_cards': 0, 'red_cards': 0, 'fouls_committed': 11, 'tactics': '4-3-3', 'starting_eleven': [{'name': 'KIM Minjung', 'captain': False, 'shirt_number': 18, 'position': 'Goalie'}, {'name': 'HWANG Boram', 'captain': False, 'shirt_number': 4, 'position': 'Defender'}, {'name': 'KIM Doyeon', 'captain': False, 'shirt_number': 5, 'position': 'Defender'}, {'name': 'CHO Sohyun', 'captain': True, 'shirt_number': 8, 'position': 'Midfield'}, {'name': 'JI Soyun', 'captain': False, 'shirt_number': 10, 'position': 'Forward'}, {'name': 'JUNG Seolbin', 'captain': False, 'shirt_number': 11, 'position': 'Forward'}, {'name': 'KANG Yumi', 'captain': False, 'shirt_number': 12, 'position': 'Midfield'}, {'name': 'LEE Youngju', 'captain': False, 'shirt_number': 15, 'position': 'Midfield'}, {'name': 'JANG Selgi', 'captain': False, 'shirt_number': 16, 'position': 'Defender'}, {'name': 'LEE Geummin', 'captain': False, 'shirt_number': 17, 'position': 'Forward'}, {'name': 'KIM Hyeri', 'captain': False, 'shirt_number': 20, 'position': 'Defender'}], 'substitutes': [{'name': 'KANG Gaae', 'captain': False, 'shirt_number': 1, 'position': 'Goalie'}, {'name': 'LEE Eunmi', 'captain': False, 'shirt_number': 2, 'position': 'Defender'}, {'name': 'JEONG Yeonga', 'captain': False, 'shirt_number': 3, 'position': 'Defender'}, {'name': 'LIM Seonjoo', 'captain': False, 'shirt_number': 6, 'position': 'Defender'}, {'name': 'LEE Mina', 'captain': False, 'shirt_number': 7, 'position': 'Midfield'}, {'name': 'MOON Mira', 'captain': False, 'shirt_number': 9, 'position': 'Midfield'}, {'name': 'YEO Minji', 'captain': False, 'shirt_number': 13, 'position': 'Forward'}, {'name': 'SHIN Damyeong', 'captain': False, 'shirt_number': 14, 'position': 'Defender'}, {'name': 'LEE Sodam', 'captain': False, 'shirt_number': 19, 'position': 'Midfield'}, {'name': 'JUNG Boram', 'captain': False, 'shirt_number': 21, 'position': 'Goalie'}, {'name': 'SON Hwayeon', 'captain': False, 'shirt_number': 22, 'position': 'Forward'}, {'name': 'KANG Chaerim', 'captain': False, 'shirt_number': 23, 'position': 'Midfield'}]})\n",
      "('last_event_update_at', '2019-06-07T23:33:26Z')\n",
      "('last_score_update_at', '2019-06-07T23:33:26Z')\n"
     ]
    }
   ],
   "source": [
    "for pair in matches[0].items():\n",
    "    print(pair)"
   ]
  },
  {
   "cell_type": "code",
   "execution_count": 43,
   "metadata": {},
   "outputs": [
    {
     "name": "stdout",
     "output_type": "stream",
     "text": [
      "[45261, 15283, 12044, 11058, 17668, 13188, 15380, 25055, 10710, 10654, 15875, 18591, 11252, 20761, 34872, 17032, 20011, 13201, 12016, 20294, 22423, 14856, 9354, 45594, 11814, 15502, 28267, 13034, 21669, 17402, 14319, 28205, 8009, 19277, 13567, 22418, 17988, 12229, 20148, 23965, 19633, 38078, 17492, 21076, 21111, 45595, 22600, 25301, 53512, 48452, 20316, 57900]\n"
     ]
    }
   ],
   "source": [
    "all_attendances = []\n",
    "for match in matches:\n",
    "    number = int(match[\"attendance\"])\n",
    "    all_attendances.append(number)\n",
    "print(all_attendances)"
   ]
  },
  {
   "cell_type": "code",
   "execution_count": 44,
   "metadata": {},
   "outputs": [
    {
     "name": "stdout",
     "output_type": "stream",
     "text": [
      "1131312\n"
     ]
    }
   ],
   "source": [
    "total = sum(all_attendances)\n",
    "print(total)"
   ]
  },
  {
   "cell_type": "code",
   "execution_count": 45,
   "metadata": {},
   "outputs": [
    {
     "name": "stdout",
     "output_type": "stream",
     "text": [
      "['France', 'Germany', 'Spain', 'Norway', 'Brazil', 'England', 'Italy', 'Draw', 'Canada', 'Netherlands', 'Sweden', 'USA', 'Nigeria', 'Germany', 'France', 'Australia', 'China PR', 'Japan', 'Italy', 'England', 'Netherlands', 'Canada', 'Sweden', 'USA', 'Draw', 'Germany', 'France', 'Norway', 'Brazil', 'Australia', 'England', 'Draw', 'Cameroon', 'Netherlands', 'Chile', 'USA', 'Germany', 'Norway', 'England', 'France', 'USA', 'Sweden', 'Italy', 'Netherlands', 'England', 'USA', 'Netherlands', 'Sweden', 'USA', 'Netherlands', 'Sweden', 'USA']\n"
     ]
    }
   ],
   "source": [
    "winners = []\n",
    "for match in matches:\n",
    "    win = match[\"winner\"]\n",
    "    winners.append(win)\n",
    "print(winners)"
   ]
  },
  {
   "cell_type": "code",
   "execution_count": 46,
   "metadata": {},
   "outputs": [
    {
     "name": "stdout",
     "output_type": "stream",
     "text": [
      "['France', 'Germany', 'Spain', 'Norway', 'Brazil', 'England', 'Italy', 'Argentina-Japan', 'Canada', 'Netherlands', 'Sweden', 'USA', 'Nigeria', 'Germany', 'France', 'Australia', 'China PR', 'Japan', 'Italy', 'England', 'Netherlands', 'Canada', 'Sweden', 'USA', 'China PR-Spain', 'Germany', 'France', 'Norway', 'Brazil', 'Australia', 'England', 'Scotland-Argentina', 'Cameroon', 'Netherlands', 'Chile', 'USA', 'Germany', 'Norway', 'England', 'France', 'USA', 'Sweden', 'Italy', 'Netherlands', 'England', 'USA', 'Netherlands', 'Sweden', 'USA', 'Netherlands', 'Sweden', 'USA']\n"
     ]
    }
   ],
   "source": [
    "winners2 = []\n",
    "for match in matches:\n",
    "    if match[\"winner\"] == \"Draw\":\n",
    "        winner_text = match[\"home_team_country\"] + \"-\" + match[\"away_team_country\"]\n",
    "        winners2.append(winner_text)\n",
    "    else:\n",
    "        winners2.append(match[\"winner\"])\n",
    "print(winners2)\n",
    "            "
   ]
  },
  {
   "cell_type": "code",
   "execution_count": 79,
   "metadata": {},
   "outputs": [
    {
     "name": "stdout",
     "output_type": "stream",
     "text": [
      "['USA-Thailand', 'Australia-Brazil', 'Jamaica-Italy', 'Sweden-Thailand', 'Jamaica-Australia', 'Scotland-Argentina']\n"
     ]
    },
    {
     "data": {
      "text/plain": [
       "6"
      ]
     },
     "execution_count": 79,
     "metadata": {},
     "output_type": "execute_result"
    }
   ],
   "source": [
    "high_scoring_games = []\n",
    "\n",
    "for match in matches:\n",
    "    if match['home_team']['goals'] + match['away_team']['goals'] >= 5:\n",
    "        a = match['home_team']['country'] + '-' + match['away_team']['country']\n",
    "        high_scoring_games.append(a)\n",
    "                \n",
    "print(high_scoring_games)\n",
    "len(high_scoring_games)"
   ]
  },
  {
   "cell_type": "code",
   "execution_count": 51,
   "metadata": {},
   "outputs": [],
   "source": [
    "import csv\n",
    "\n",
    "with open(\"attendence_counts.csv\", \"w\", newline=\"\") as csvfile:\n",
    "    writer = csv.writer(csvfile)\n",
    "    writer.writerow([\"Date\", \"Venue\", \"Attendence\"])\n",
    "    for match in matches:\n",
    "        row = [match[\"datetime\"], match[\"venue\"], match[\"attendance\"]]\n",
    "        writer.writerow(row)"
   ]
  },
  {
   "cell_type": "code",
   "execution_count": 52,
   "metadata": {},
   "outputs": [
    {
     "name": "stdout",
     "output_type": "stream",
     "text": [
      "Date,Venue,Attendence\r",
      "\r\n",
      "2019-06-07T19:00:00Z,Paris,45261\r",
      "\r\n",
      "2019-06-08T13:00:00Z,Rennes,15283\r",
      "\r\n",
      "2019-06-08T16:00:00Z,Le Havre,12044\r",
      "\r\n",
      "2019-06-08T19:00:00Z,Reims,11058\r",
      "\r\n",
      "2019-06-09T13:30:00Z,Grenoble,17668\r",
      "\r\n",
      "2019-06-09T16:00:00Z,Nice,13188\r",
      "\r\n",
      "2019-06-09T23:00:00Z,Valenciennes,15380\r",
      "\r\n",
      "2019-06-10T16:00:00Z,Paris,25055\r",
      "\r\n",
      "2019-06-10T19:00:00Z,Montpellier,10710\r",
      "\r\n"
     ]
    }
   ],
   "source": [
    "!head attendence_counts.csv"
   ]
  },
  {
   "cell_type": "code",
   "execution_count": null,
   "metadata": {},
   "outputs": [],
   "source": []
  }
 ],
 "metadata": {
  "kernelspec": {
   "display_name": "Python 3",
   "language": "python",
   "name": "python3"
  },
  "language_info": {
   "codemirror_mode": {
    "name": "ipython",
    "version": 3
   },
   "file_extension": ".py",
   "mimetype": "text/x-python",
   "name": "python",
   "nbconvert_exporter": "python",
   "pygments_lexer": "ipython3",
   "version": "3.7.3"
  }
 },
 "nbformat": 4,
 "nbformat_minor": 2
}
