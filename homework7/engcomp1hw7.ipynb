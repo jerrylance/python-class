{
 "cells": [
  {
   "cell_type": "markdown",
   "metadata": {
    "deletable": false,
    "editable": false,
    "nbgrader": {
     "checksum": "5b38ee48421e5951684785147e760fef",
     "grade": false,
     "grade_id": "cell-87414196e45aa967",
     "locked": true,
     "schema_version": 1,
     "solution": false
    }
   },
   "source": [
    "Before you turn in this homework, make sure everything runs as expected. First, **restart the kernel** (in the menubar, select Kernel$\\rightarrow$Restart) and then **run all cells** (in the menubar, select Cell$\\rightarrow$Run All).\n",
    "\n",
    "Make sure you execute every single code cell, in order, filling with your solutions in any place that says `YOUR CODE HERE`, and always DELETE the line that says:\n",
    "\n",
    "```python\n",
    "raise NotImplementedError()\n",
    "```\n",
    "The purpose of this line is to tell you if you forgot to answer a question (it will throw an error if the line is there)\n",
    "\n",
    "**IMPORTANT**: DO NOT DELETE ANY CELL.\n",
    "\n",
    "Fill your name below:"
   ]
  },
  {
   "cell_type": "code",
   "execution_count": 1,
   "metadata": {},
   "outputs": [],
   "source": [
    "NAME = \"Zeyu Liu\""
   ]
  },
  {
   "cell_type": "markdown",
   "metadata": {
    "deletable": false,
    "editable": false,
    "nbgrader": {
     "checksum": "0a69f4b4d3c25aa9d96ee36fa0306ed4",
     "grade": false,
     "grade_id": "cell-57dc1695ed8f6dfd",
     "locked": true,
     "schema_version": 1,
     "solution": false
    }
   },
   "source": [
    "##  Before you start \n",
    "For this homework, we will need to import a library. You only need to execute the following cell once; you don't need to copy this in every cell you run."
   ]
  },
  {
   "cell_type": "code",
   "execution_count": 2,
   "metadata": {},
   "outputs": [],
   "source": [
    "import numpy "
   ]
  },
  {
   "cell_type": "markdown",
   "metadata": {
    "deletable": false,
    "editable": false,
    "nbgrader": {
     "checksum": "681cb8c260f32b4bbc4a495294acffe8",
     "grade": false,
     "grade_id": "cell-e561dd3b8979edc5",
     "locked": true,
     "schema_version": 1,
     "solution": false
    }
   },
   "source": [
    "## Warning!\n",
    "\n",
    "Remember to write proper docstrings for your functions. To know what a proper docstring looks like, follow the examples in the lessons."
   ]
  },
  {
   "cell_type": "markdown",
   "metadata": {
    "deletable": false,
    "editable": false,
    "nbgrader": {
     "checksum": "077e2acb7a6d8e2d071ebebb8e55ad99",
     "grade": false,
     "grade_id": "cell-56119ab1aa73584a",
     "locked": true,
     "schema_version": 1,
     "solution": false
    }
   },
   "source": [
    "# Exercise 1 \n"
   ]
  },
  {
   "cell_type": "markdown",
   "metadata": {
    "deletable": false,
    "editable": false,
    "nbgrader": {
     "checksum": "d9d889401ee5726763ae720e817946b0",
     "grade": false,
     "grade_id": "cell-7d3aef3babe21981",
     "locked": true,
     "schema_version": 1,
     "solution": false
    }
   },
   "source": [
    "a) Write a function that converts degrees Farenheit into Celsius. To convert temperature in degrees Fahrenheit to Celsius, subtract 32 and multiply by 5/9."
   ]
  },
  {
   "cell_type": "code",
   "execution_count": 3,
   "metadata": {
    "deletable": false,
    "nbgrader": {
     "checksum": "cc646001512cc4b5c5207a6ae5fa65c6",
     "grade": false,
     "grade_id": "cell-d793bebed526311a",
     "locked": false,
     "schema_version": 1,
     "solution": true
    }
   },
   "outputs": [],
   "source": [
    "def fahrenheit_celsius(temp):\n",
    "    \"\"\"Write docstrings here\n",
    "    \"\"\"\n",
    "    # YOUR CODE HERE\n",
    "    temp = (temp - 32) * (5/9)\n",
    "    return temp"
   ]
  },
  {
   "cell_type": "code",
   "execution_count": null,
   "metadata": {
    "deletable": false,
    "editable": false,
    "nbgrader": {
     "checksum": "f620a0645bdabc52b5f047108143365a",
     "grade": true,
     "grade_id": "1-a",
     "locked": true,
     "points": 10,
     "schema_version": 1,
     "solution": false
    }
   },
   "outputs": [],
   "source": []
  },
  {
   "cell_type": "markdown",
   "metadata": {
    "deletable": false,
    "editable": false,
    "nbgrader": {
     "checksum": "12725558234addde8e0abecbf934d825",
     "grade": false,
     "grade_id": "cell-ae0bc2cb18a735b0",
     "locked": true,
     "schema_version": 1,
     "solution": false
    }
   },
   "source": [
    "b) Write a function to convert a distance from miles to kilometers. (Note: 1 mi = 1.609344 km.)"
   ]
  },
  {
   "cell_type": "code",
   "execution_count": 4,
   "metadata": {
    "deletable": false,
    "nbgrader": {
     "checksum": "527d9cfc1b23080454627b7d06d5c13a",
     "grade": false,
     "grade_id": "cell-9b80f7e019047a5a",
     "locked": false,
     "schema_version": 1,
     "solution": true
    }
   },
   "outputs": [],
   "source": [
    "def miles_km(dist):\n",
    "    \"\"\"Write docstrings here\n",
    "    \"\"\"\n",
    "    # YOUR CODE HERE\n",
    "    dist = dist * 1.609344\n",
    "    return dist"
   ]
  },
  {
   "cell_type": "code",
   "execution_count": null,
   "metadata": {
    "deletable": false,
    "editable": false,
    "nbgrader": {
     "checksum": "6a7553049459c62432902d630ef2f2b2",
     "grade": true,
     "grade_id": "1-b",
     "locked": true,
     "points": 10,
     "schema_version": 1,
     "solution": false
    }
   },
   "outputs": [],
   "source": []
  },
  {
   "cell_type": "markdown",
   "metadata": {
    "deletable": false,
    "editable": false,
    "nbgrader": {
     "checksum": "05512ac4415c70ada0d9618070963569",
     "grade": false,
     "grade_id": "cell-086a08dd04b39abe",
     "locked": true,
     "schema_version": 1,
     "solution": false
    }
   },
   "source": [
    "c) Write a new function `miles_km_fix`, based on `miles_km`, that also checks the sign of its parameter `dist`. If `dist` is negative, the function should return the string 'distance cannot be negative'. Otherwise, the function should behave like `miles_km`.."
   ]
  },
  {
   "cell_type": "code",
   "execution_count": 5,
   "metadata": {
    "deletable": false,
    "nbgrader": {
     "checksum": "54e6cff1b938d2976c33b725e025716b",
     "grade": false,
     "grade_id": "cell-10513a267cb5eb4a",
     "locked": false,
     "schema_version": 1,
     "solution": true
    }
   },
   "outputs": [],
   "source": [
    "def miles_km_fix(dist):\n",
    "    \"\"\"Write docstrings here\n",
    "    \"\"\"\n",
    "    # YOUR CODE HERE\n",
    "    if dist < 0:\n",
    "        return \"distance cannot be negative\"\n",
    "    else:\n",
    "        dist = dist * 1.609344\n",
    "        return dist"
   ]
  },
  {
   "cell_type": "code",
   "execution_count": null,
   "metadata": {
    "deletable": false,
    "editable": false,
    "nbgrader": {
     "checksum": "d80ce1a960d1439c731a45e4eeec8d17",
     "grade": true,
     "grade_id": "1-c",
     "locked": true,
     "points": 10,
     "schema_version": 1,
     "solution": false
    }
   },
   "outputs": [],
   "source": []
  },
  {
   "cell_type": "markdown",
   "metadata": {
    "deletable": false,
    "editable": false,
    "nbgrader": {
     "checksum": "b7f5bec3547c7e07f7e853a2b59e0b8e",
     "grade": false,
     "grade_id": "cell-bfbee2d44f4ac914",
     "locked": true,
     "schema_version": 1,
     "solution": false
    }
   },
   "source": [
    "d) Write a function that computes the distance between two 3D points. Treat the arguments of your function as `numpy` arrays. Do not use `for` statements.\n",
    "\n",
    "**Tips**: \n",
    "* Use array operations.\n",
    "* Remember to check `numpy` built-in functions; there are functions to compute the square root and the sum of the elements of an array.\n",
    "\n"
   ]
  },
  {
   "cell_type": "code",
   "execution_count": 6,
   "metadata": {
    "deletable": false,
    "nbgrader": {
     "checksum": "8bb5c8c6d6ebb5c047f1da8b1f2cc24f",
     "grade": false,
     "grade_id": "cell-0d2394e6a1f32ee8",
     "locked": false,
     "schema_version": 1,
     "solution": true
    }
   },
   "outputs": [],
   "source": [
    "def distance_3D(point_a, point_b):\n",
    "    \"\"\"Write docstrings here\n",
    "    \"\"\"\n",
    "    # YOUR CODE HERE\n",
    "    dist = numpy.sqrt(sum((point_b - point_a)**2))\n",
    "    return dist"
   ]
  },
  {
   "cell_type": "code",
   "execution_count": null,
   "metadata": {
    "deletable": false,
    "editable": false,
    "nbgrader": {
     "checksum": "2c1d246362d3d086bc6937e4bc8c7f8d",
     "grade": true,
     "grade_id": "1-d",
     "locked": true,
     "points": 10,
     "schema_version": 1,
     "solution": false
    }
   },
   "outputs": [],
   "source": []
  },
  {
   "cell_type": "markdown",
   "metadata": {
    "deletable": false,
    "editable": false,
    "nbgrader": {
     "checksum": "3018b6754b019e45c87954476b75ca88",
     "grade": false,
     "grade_id": "cell-a033380bd516f9cf",
     "locked": true,
     "schema_version": 1,
     "solution": false
    }
   },
   "source": [
    "# Exercise 2\n",
    "\n",
    "Given the function defined below, which calculates [\"taxicab metric\"](http://mathworld.wolfram.com/TaxicabMetric.html) between two points on a grid:"
   ]
  },
  {
   "cell_type": "code",
   "execution_count": 7,
   "metadata": {},
   "outputs": [],
   "source": [
    "def cab_metric(point_a, point_b):\n",
    "    \"\"\"Determines the distance traveled between two points on a \n",
    "    grid (like a cab in a city)\n",
    "    \n",
    "    Arguments\n",
    "    ---------\n",
    "    \n",
    "    point_a: 1D numpy array. xa, ya coordinates of the starting point.\n",
    "    point_b: 1D numpy array. xb, yb coordinates of the end point.\n",
    "    \n",
    "    Returns\n",
    "    -------\n",
    "    \n",
    "    ride_distance : float. |xb-xa| + |yb-ya| where |.| denotes\n",
    "                    absolute value.     \n",
    "    \"\"\"\n",
    "    \n",
    "    ride_distance = abs(point_b[0] - point_a[0]) + abs(point_b[1] - point_a[1])\n",
    "    \n",
    "    return ride_distance"
   ]
  },
  {
   "cell_type": "markdown",
   "metadata": {
    "deletable": false,
    "editable": false,
    "nbgrader": {
     "checksum": "f93c03a5fec2230203a3d7f2fe27e4c0",
     "grade": false,
     "grade_id": "cell-3967539eb92d2c7f",
     "locked": true,
     "schema_version": 1,
     "solution": false
    }
   },
   "source": [
    "a) Call the function `cab_metric()` to compute the ride distance between points with coordinates `xa=39`, `ya=14` and `xb=72`, `yb=25`.  Use `numpy.array()` to create the points and name them `start` and `end`, respectively. Assign the return value to a variable named `ride_one` and print it."
   ]
  },
  {
   "cell_type": "code",
   "execution_count": 8,
   "metadata": {
    "deletable": false,
    "nbgrader": {
     "checksum": "1308acf465c440763deded60cf12f864",
     "grade": false,
     "grade_id": "cell-027258ad28e5fb58",
     "locked": false,
     "schema_version": 1,
     "solution": true
    }
   },
   "outputs": [
    {
     "name": "stdout",
     "output_type": "stream",
     "text": [
      "44\n"
     ]
    }
   ],
   "source": [
    "# YOUR CODE HERE\n",
    "start = numpy.array([39,14])\n",
    "end = numpy.array([72,25])\n",
    "ride_one = cab_metric(start, end)\n",
    "print(ride_one)\n"
   ]
  },
  {
   "cell_type": "code",
   "execution_count": null,
   "metadata": {
    "deletable": false,
    "editable": false,
    "nbgrader": {
     "checksum": "d66fa6b736db31c6fe5653770c1dc516",
     "grade": true,
     "grade_id": "2-a",
     "locked": true,
     "points": 10,
     "schema_version": 1,
     "solution": false
    }
   },
   "outputs": [],
   "source": []
  },
  {
   "cell_type": "markdown",
   "metadata": {
    "deletable": false,
    "editable": false,
    "nbgrader": {
     "checksum": "c5f9dabeb9f68b5a2aaddac559566b9f",
     "grade": false,
     "grade_id": "cell-88e9b3c1c5b58fbc",
     "locked": true,
     "schema_version": 1,
     "solution": false
    }
   },
   "source": [
    "b) Write a new function named `cab_fare()`, based on `cab_metric()`, that receives an additional argument `fare_rate` and returns the value of the `final_fare` computed as `fare_rate` multiplied by the ride distance. "
   ]
  },
  {
   "cell_type": "code",
   "execution_count": 9,
   "metadata": {
    "deletable": false,
    "nbgrader": {
     "checksum": "9bfc940ebaf6393c8c9a69f8c9a9b273",
     "grade": false,
     "grade_id": "cell-2d979319ca741b44",
     "locked": false,
     "schema_version": 1,
     "solution": true
    }
   },
   "outputs": [],
   "source": [
    "def cab_fare(point_a, point_b, fare_rate):\n",
    "    \"\"\"Write the docstring here\n",
    "    \"\"\"\n",
    "    # YOUR CODE HERE\n",
    "    ride_distance = abs(point_b[0] - point_a[0]) + abs(point_b[1] - point_a[1])\n",
    "    fare_rate = fare_rate * ride_distance\n",
    "    return fare_rate"
   ]
  },
  {
   "cell_type": "code",
   "execution_count": null,
   "metadata": {
    "deletable": false,
    "editable": false,
    "nbgrader": {
     "checksum": "fc5e22f311d6bfd64e024d25089de551",
     "grade": true,
     "grade_id": "2-b",
     "locked": true,
     "points": 10,
     "schema_version": 1,
     "solution": false
    }
   },
   "outputs": [],
   "source": []
  },
  {
   "cell_type": "markdown",
   "metadata": {
    "deletable": false,
    "editable": false,
    "nbgrader": {
     "checksum": "1deb027d558773d5a80d8bc95371735e",
     "grade": false,
     "grade_id": "cell-33a0d5cae4ca9164",
     "locked": true,
     "schema_version": 1,
     "solution": false
    }
   },
   "source": [
    "c) Write a new function named `cab_fare_two()` that computes the `final_fare` in the following way: for distances less or equal to 1.5,  use the minimum fare of $5$ dollars; for distances longer than 1.5, use a formula that adds the minimum fare and the `fare_rate` times the distance minus 1.5.\n",
    "\n",
    "**Tip:** \n",
    "* Be careful with the order of operations, and use parentheses if necessary. "
   ]
  },
  {
   "cell_type": "code",
   "execution_count": 10,
   "metadata": {
    "deletable": false,
    "nbgrader": {
     "checksum": "8013f95eb478c2ce3252f46a2f193730",
     "grade": false,
     "grade_id": "cell-46113fa370d0288a",
     "locked": false,
     "schema_version": 1,
     "solution": true
    }
   },
   "outputs": [],
   "source": [
    "def cab_fare_two(point_a, point_b, fare_rate):\n",
    "    \"\"\"Write the docstring here\n",
    "    \"\"\"\n",
    "    # YOUR CODE HERE\n",
    "    ride_distance = abs(point_b[0] - point_a[0]) + abs(point_b[1] - point_a[1])\n",
    "    minimumfare = 5\n",
    "    if ride_distance <= 1.5:\n",
    "        final_fare = minimumfare\n",
    "        return final_fare\n",
    "    elif ride_distance > 1.5:\n",
    "        final_fare = minimumfare + fare_rate * (ride_distance - 1.5)\n",
    "        return final_fare"
   ]
  },
  {
   "cell_type": "code",
   "execution_count": null,
   "metadata": {
    "deletable": false,
    "editable": false,
    "nbgrader": {
     "checksum": "af7aa4045d5482e3807c093b011665dc",
     "grade": true,
     "grade_id": "2-c",
     "locked": true,
     "points": 10,
     "schema_version": 1,
     "solution": false
    }
   },
   "outputs": [],
   "source": []
  },
  {
   "cell_type": "markdown",
   "metadata": {
    "deletable": false,
    "editable": false,
    "nbgrader": {
     "checksum": "f560cb68fded3fee301d5fe56ba632af",
     "grade": false,
     "grade_id": "cell-f348723077781737",
     "locked": true,
     "schema_version": 1,
     "solution": false
    }
   },
   "source": [
    "# Exercise 3"
   ]
  },
  {
   "cell_type": "markdown",
   "metadata": {
    "deletable": false,
    "editable": false,
    "nbgrader": {
     "checksum": "2b12d36a134851c003285f068a40dc33",
     "grade": false,
     "grade_id": "cell-50d3a35c91198584",
     "locked": true,
     "schema_version": 1,
     "solution": false
    }
   },
   "source": [
    "a) Write a function that, given an angle in degrees, returns the angle in radians. \n",
    "\n",
    "*Hint*: For $\\pi$ use the constant provided by NumPy `numpy.pi`.\n",
    "        If you want to test the function yourself, try to call the function using angles that you know the answer for."
   ]
  },
  {
   "cell_type": "code",
   "execution_count": 11,
   "metadata": {
    "deletable": false,
    "nbgrader": {
     "checksum": "8c4c12f89d8e3bc05a05b0d5703c2e7f",
     "grade": false,
     "grade_id": "cell-bb926c8688a7b549",
     "locked": false,
     "schema_version": 1,
     "solution": true
    }
   },
   "outputs": [],
   "source": [
    "def degrees_rad(theta):\n",
    "    \"\"\"Write the docstring here\n",
    "    \"\"\"\n",
    "    # YOUR CODE HERE\n",
    "    radians = theta / 360 * 2 * numpy.pi\n",
    "    return radians"
   ]
  },
  {
   "cell_type": "code",
   "execution_count": null,
   "metadata": {
    "deletable": false,
    "editable": false,
    "nbgrader": {
     "checksum": "add680b4e43ec0e400c186fa68e12990",
     "grade": true,
     "grade_id": "3-a",
     "locked": true,
     "points": 10,
     "schema_version": 1,
     "solution": false
    }
   },
   "outputs": [],
   "source": []
  },
  {
   "cell_type": "markdown",
   "metadata": {
    "deletable": false,
    "editable": false,
    "nbgrader": {
     "checksum": "7f214a51a767e480f9e9e7309b5509da",
     "grade": false,
     "grade_id": "cell-4edf1bfba5d68995",
     "locked": true,
     "schema_version": 1,
     "solution": false
    }
   },
   "source": [
    "b) Write a function that, given an angle in radians, returns the angle in degrees. \n",
    "\n",
    "*Hint*: For $\\pi$ use the constant provided by NumPy `numpy.pi`.\n",
    "        If you want to test the function yourself, try to call the function using angles that you know the answer for."
   ]
  },
  {
   "cell_type": "code",
   "execution_count": 12,
   "metadata": {
    "deletable": false,
    "nbgrader": {
     "checksum": "be8ca967ab2bcd366fffe39c35d0a928",
     "grade": false,
     "grade_id": "cell-d8b35e22be246eaf",
     "locked": false,
     "schema_version": 1,
     "solution": true
    }
   },
   "outputs": [],
   "source": [
    "def radians_deg(alpha):\n",
    "    \"\"\"Write the docstring here\n",
    "    \"\"\"\n",
    "    # YOUR CODE HERE\n",
    "    degrees = alpha *360 / (2*numpy.pi)\n",
    "    return degrees"
   ]
  },
  {
   "cell_type": "code",
   "execution_count": null,
   "metadata": {
    "deletable": false,
    "editable": false,
    "nbgrader": {
     "checksum": "2530bb20778d9492f54ec60080cfa3ba",
     "grade": true,
     "grade_id": "3-b",
     "locked": true,
     "points": 10,
     "schema_version": 1,
     "solution": false
    }
   },
   "outputs": [],
   "source": []
  },
  {
   "cell_type": "markdown",
   "metadata": {
    "deletable": false,
    "editable": false,
    "nbgrader": {
     "checksum": "d26c9af33325cfa8cbf57df71fd18bcf",
     "grade": false,
     "grade_id": "cell-84905911ee7f71d6",
     "locked": true,
     "schema_version": 1,
     "solution": false
    }
   },
   "source": [
    "c) Write a function that rotates a 2D vector by an angle. \n",
    "\n",
    "The rotation of a vector by an angle $\\theta$ is defined by: \n",
    "\n",
    "\\begin{equation}\n",
    "\\left[ \\begin{array}{c} x_{rot} \\\\ y_{rot}  \\end{array} \\right] = \\begin{bmatrix} \\cos(\\theta) & -\\sin(\\theta) \\\\ \\sin(\\theta) & \\cos(\\theta) \\end{bmatrix} \\; \\left[ \\begin{array}{c} x \\\\ y  \\end{array} \\right]\n",
    "\\end{equation}\n",
    "\n",
    "- Design your function considering the input vector as a NumPy array, and the angle in radians. \n",
    "- To compute the `sin` and `cos` of an angle, use `numpy.sin()` and `numpy.cos()` (these functions take angles in radians).\n",
    "- To define the matrix, use `numpy.array()` (review lesson 4).\n",
    "- If you don't remember how to multiply matrices, review lesson 4. \n",
    "\n",
    "Tip: You can test your function by calling it with a vector and angle for which you can predict the result. For example, rotating a vector with coordinates (1, 0) by an angle $\\pi$, the result should be (-1, 0). Probably, because `numpy.pi` can't contain all the decimals for $\\pi$, the second coordinate will be something really small, of the order of $1e-16$. That's fine. \n"
   ]
  },
  {
   "cell_type": "code",
   "execution_count": 13,
   "metadata": {
    "deletable": false,
    "nbgrader": {
     "checksum": "57ce3b3cfe9b572499b9633246ee65f7",
     "grade": false,
     "grade_id": "cell-389222efd6a65015",
     "locked": false,
     "schema_version": 1,
     "solution": true
    }
   },
   "outputs": [],
   "source": [
    "def rotate_vector(vector, angle):\n",
    "    \"\"\"Write docstring here\n",
    "    \"\"\"\n",
    "    # YOUR CODE HERE\n",
    "    x = numpy.array([[numpy.cos(angle),-numpy.sin(angle)],[numpy.sin(angle),numpy.cos(angle)]]) @ vector\n",
    "    return x"
   ]
  },
  {
   "cell_type": "code",
   "execution_count": null,
   "metadata": {
    "deletable": false,
    "editable": false,
    "nbgrader": {
     "checksum": "d2bda1eb6a67b57b08b6c98caca22c80",
     "grade": true,
     "grade_id": "3-c",
     "locked": true,
     "points": 10,
     "schema_version": 1,
     "solution": false
    }
   },
   "outputs": [],
   "source": []
  },
  {
   "cell_type": "markdown",
   "metadata": {
    "deletable": false,
    "editable": false,
    "nbgrader": {
     "checksum": "94c4ff7b336b6086ec117275521040be",
     "grade": false,
     "grade_id": "cell-03968b07b6962fb4",
     "locked": true,
     "schema_version": 1,
     "solution": false
    }
   },
   "source": [
    "## Remember!!\n",
    "\n",
    "Before you turn this problem in, make sure everything runs as expected. First, restart the kernel (in the menubar, select Kernel→→Restart) and then run all cells (in the menubar, select Cell→→Run All).\n",
    "\n",
    "Make sure you filled in any place that says YOUR CODE HERE or \"YOUR ANSWER HERE\", as well as your name at the beggining of the notebook.\n"
   ]
  }
 ],
 "metadata": {
  "kernelspec": {
   "display_name": "Python 3",
   "language": "python",
   "name": "python3"
  },
  "language_info": {
   "codemirror_mode": {
    "name": "ipython",
    "version": 3
   },
   "file_extension": ".py",
   "mimetype": "text/x-python",
   "name": "python",
   "nbconvert_exporter": "python",
   "pygments_lexer": "ipython3",
   "version": "3.7.3"
  }
 },
 "nbformat": 4,
 "nbformat_minor": 2
}
